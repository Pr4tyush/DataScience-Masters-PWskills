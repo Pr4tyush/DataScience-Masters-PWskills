{
 "cells": [
  {
   "cell_type": "markdown",
   "id": "4f45c740",
   "metadata": {},
   "source": [
    "# Q1. What are the three measures of central tendency?"
   ]
  },
  {
   "cell_type": "markdown",
   "id": "12de3838",
   "metadata": {},
   "source": [
    "The three measures of central tendency are:\n",
    "\n",
    "Mean: The mean is the most commonly used measure of central tendency. It is calculated by summing up all the values in a data set and dividing by the total number of values. The mean represents the average value of a data set.\n",
    "\n",
    "Median: The median is the middle value in a data set when the values are arranged in order of magnitude. If there is an even number of values in the data set, the median is calculated as the average of the two middle values.\n",
    "\n",
    "Mode: The mode is the value that appears most frequently in a data set. A data set can have one mode, more than one mode (when two or more values occur with the same highest frequency), or no mode (when all values occur with the same frequency)."
   ]
  },
  {
   "cell_type": "markdown",
   "id": "8ecad09f",
   "metadata": {},
   "source": [
    "# Q2. What is the difference between the mean, median, and mode? How are they used to measure the\n",
    "central tendency of a dataset?"
   ]
  },
  {
   "cell_type": "markdown",
   "id": "b25a81d7",
   "metadata": {},
   "source": [
    "The mean, median, and mode are all measures of central tendency that are used to describe the center of a dataset. However, they each have different characteristics and are used in different ways.\n",
    "\n",
    "The mean is the sum of all the values in a dataset divided by the total number of values. It is a useful measure of central tendency when the data is normally distributed (or close to it) and there are no extreme outliers. The mean is affected by outliers and extreme values, so it may not be a good representation of the center of a dataset if these are present.\n",
    "\n",
    "The median is the middle value in a dataset when the values are arranged in order of magnitude. It is a useful measure of central tendency when the data is skewed or has outliers, as it is not affected by extreme values in the same way as the mean. The median is often used in fields like income or wealth distribution, where a few high or low outliers can skew the mean and make it an inaccurate measure of central tendency.\n",
    "\n",
    "The mode is the most frequently occurring value in a dataset. It is a useful measure of central tendency when dealing with categorical data or discrete data that has a small number of possible values. The mode is not as commonly used as the mean or median, but it can provide valuable information about the most common value in a dataset.\n",
    "\n",
    "To choose the best measure of central tendency for a particular dataset, it is important to consider the characteristics of the data, such as its distribution, presence of outliers, and type of data (continuous or discrete). In some cases, it may be appropriate to use more than one measure of central tendency to provide a more complete picture of the data."
   ]
  },
  {
   "cell_type": "markdown",
   "id": "1e2376e0",
   "metadata": {},
   "source": [
    "# Q3. Measure the three measures of central tendency for the given height data:\n",
    "[178,177,176,177,178.2,178,175,179,180,175,178.9,176.2,177,172.5,178,176.5]"
   ]
  },
  {
   "cell_type": "markdown",
   "id": "0c7d1cb0",
   "metadata": {},
   "source": [
    "To calculate the three measures of central tendency (mean, median, and mode) for the given height data, we can use the following formulas:\n",
    "\n",
    "Mean = (sum of all values) / (number of values)\n",
    "\n",
    "Median = middle value of the data when it is arranged in order of magnitude\n",
    "\n",
    "Mode = the value that appears most frequently in the data\n",
    "\n",
    "First, let's arrange the given data in order of magnitude:\n",
    "\n",
    "[172.5, 175, 175, 176, 176.2, 176.5, 177, 177, 178, 178, 178, 178.2, 178.9, 179, 180]\n",
    "\n",
    "Now we can calculate the mean by adding up all the values and dividing by the total number of values:\n",
    "\n",
    "Mean = (172.5 + 175 + 175 + 176 + 176.2 + 176.5 + 177 + 177 + 178 + 178 + 178 + 178.2 + 178.9 + 179 + 180) / 15\n",
    "Mean = 177.13\n",
    "\n",
    "The median is the middle value in the dataset, so we can find it by taking the average of the two middle values when there is an even number of values:\n",
    "\n",
    "Median = (176.5 + 177) / 2\n",
    "Median = 176.75\n",
    "\n",
    "To find the mode, we can look for the value that appears most frequently in the dataset. In this case, 178 appears three times, which is more than any other value, so the mode is 178.\n",
    "\n",
    "Therefore, the three measures of central tendency for the given height data are:\n",
    "\n",
    "Mean = 177.13\n",
    "Median = 176.75\n",
    "Mode = 178"
   ]
  },
  {
   "cell_type": "markdown",
   "id": "42f06a39",
   "metadata": {},
   "source": [
    "#     Q4. Find the standard deviation for the given data:\n",
    "[178,177,176,177,178.2,178,175,179,180,175,178.9,176.2,177,172.5,178,176.5]"
   ]
  },
  {
   "cell_type": "markdown",
   "id": "a8eb68d0",
   "metadata": {},
   "source": [
    "To find the standard deviation for the given data, we can use the following formula:\n",
    "\n",
    "Standard deviation = sqrt( (sum of (each value - mean)^2) / (number of values - 1) )\n",
    "\n",
    "First, we need to find the mean of the data, which we calculated to be 177.13 in the previous question. Now we can use the formula to find the standard deviation:\n",
    "\n",
    "Standard deviation = sqrt( ((178 - 177.13)^2 + (177 - 177.13)^2 + (176 - 177.13)^2 + (177 - 177.13)^2 + (178.2 - 177.13)^2 + (178 - 177.13)^2 + (175 - 177.13)^2 + (179 - 177.13)^2 + (180 - 177.13)^2 + (175 - 177.13)^2 + (178.9 - 177.13)^2 + (176.2 - 177.13)^2 + (177 - 177.13)^2 + (172.5 - 177.13)^2 + (178 - 177.13)^2 + (176.5 - 177.13)^2) / (15 - 1) )\n",
    "\n",
    "Standard deviation = sqrt( (167.3441 + 25.5041 + 3.3441 + 25.5041 + 0.0396 + 0.1089 + 5.7961 + 2.2209 + 6.3481 + 5.7961 + 2.1936 + 0.5776 + 3.3441 + 21.8409 + 0.5776 + 0.4761) / 14 )\n",
    "\n",
    "Standard deviation = sqrt( 314.8737 / 14 )\n",
    "\n",
    "Standard deviation = sqrt( 22.491 )\n",
    "\n",
    "Standard deviation = 4.740\n",
    "\n",
    "Therefore, the standard deviation for the given data is 4.740."
   ]
  },
  {
   "cell_type": "markdown",
   "id": "57c0604e",
   "metadata": {},
   "source": [
    "# Q5. How are measures of dispersion such as range, variance, and standard deviation used to describe\n",
    "the spread of a dataset? Provide an example."
   ]
  },
  {
   "cell_type": "markdown",
   "id": "aa78816f",
   "metadata": {},
   "source": [
    "Measures of dispersion such as range, variance, and standard deviation are used to describe the spread of a dataset by quantifying how much the individual data points deviate from the central tendency measures (such as the mean, median, or mode) of the dataset.\n",
    "\n",
    "Range is the simplest measure of dispersion, which is simply the difference between the largest and smallest values in the dataset. However, it only gives us a rough estimate of the spread, as it does not take into account the distribution of the data points.\n",
    "\n",
    "Variance and standard deviation are more precise measures of dispersion, which take into account the distribution of the data points around the central tendency measures. Variance is the average of the squared differences of each data point from the mean, while standard deviation is the square root of variance. Both variance and standard deviation measure how far the data points are from the mean, with larger values indicating greater spread or variability in the data.\n",
    "\n",
    "For example, let's say we have two datasets representing the heights of two different populations.\n",
    "\n",
    "Dataset A: [175, 180, 182, 183, 185]\n",
    "\n",
    "Dataset B: [150, 160, 170, 180, 190]\n",
    "\n",
    "Both datasets have the same mean height (181 cm), but they have different measures of dispersion. The range of dataset A is 10 cm (175 - 185), while the range of dataset B is 40 cm (150 - 190), indicating that the spread of dataset B is much larger than that of dataset A.\n",
    "\n",
    "If we calculate the variance and standard deviation for both datasets, we get:\n",
    "\n",
    "Variance A = 25.5, Standard deviation A = 5.05\n",
    "Variance B = 333.3, Standard deviation B = 18.25\n",
    "\n",
    "Here, we can see that the variance and standard deviation of dataset B are much larger than those of dataset A, indicating that the data points in dataset B are more spread out and have greater variability around the mean than those in dataset A. Therefore, measures of dispersion such as variance and standard deviation can provide more detailed information about the spread of the data than the range alone."
   ]
  },
  {
   "cell_type": "markdown",
   "id": "3bba2951",
   "metadata": {},
   "source": [
    "# Q6. What is a Venn diagram?"
   ]
  },
  {
   "cell_type": "markdown",
   "id": "ee4b96de",
   "metadata": {},
   "source": [
    "A Venn diagram is a graphical representation of sets or groups, typically shown as overlapping circles. The diagram was invented by John Venn in the late 19th century and is commonly used in mathematics, logic, statistics, and other fields to illustrate relationships between different sets or groups.\n",
    "\n",
    "In a Venn diagram, each set is represented by a circle, and the elements of each set are represented by points inside the circle. The overlapping parts of the circles represent the elements that are common to two or more sets. The size of the circles can be adjusted to indicate the size or frequency of the elements in the set.\n",
    "\n",
    "Venn diagrams can be used to illustrate various set operations, such as union, intersection, and complement. For example, the union of two sets A and B is represented by the entire area covered by the two circles, the intersection of two sets A and B is represented by the overlapping area between the circles, and the complement of a set A is represented by the area outside the circle of A.\n",
    "\n",
    "Venn diagrams can be very useful in visualizing complex relationships between sets or groups, and they are often used in educational settings to help students understand and solve problems related to sets and logic."
   ]
  },
  {
   "cell_type": "markdown",
   "id": "b3b638dd",
   "metadata": {},
   "source": [
    "# Q7. For the two given sets A = (2,3,4,5,6,7) & B = (0,2,6,8,10). Find:\n",
    "(i) A B\n",
    "(ii) A ⋃ B"
   ]
  },
  {
   "cell_type": "code",
   "execution_count": null,
   "id": "941379d6",
   "metadata": {},
   "outputs": [],
   "source": [
    " "
   ]
  }
 ],
 "metadata": {
  "kernelspec": {
   "display_name": "Python 3 (ipykernel)",
   "language": "python",
   "name": "python3"
  },
  "language_info": {
   "codemirror_mode": {
    "name": "ipython",
    "version": 3
   },
   "file_extension": ".py",
   "mimetype": "text/x-python",
   "name": "python",
   "nbconvert_exporter": "python",
   "pygments_lexer": "ipython3",
   "version": "3.9.13"
  }
 },
 "nbformat": 4,
 "nbformat_minor": 5
}
