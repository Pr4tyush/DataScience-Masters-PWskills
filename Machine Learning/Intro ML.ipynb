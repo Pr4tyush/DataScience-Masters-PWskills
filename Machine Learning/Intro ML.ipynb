{
 "cells": [
  {
   "cell_type": "markdown",
   "id": "230a0c62",
   "metadata": {},
   "source": [
    "# AI : Smart Applications that can perform its own task without any human intervation ex: self driving cars,robots,Alexa "
   ]
  },
  {
   "cell_type": "markdown",
   "id": "c74b6988",
   "metadata": {},
   "source": [
    "# Machine Learning: It Provide statstool to analyze,vizulize,predective,forcasting\n",
    "Example: Reccommendation System for Amazon and Netflix"
   ]
  },
  {
   "cell_type": "markdown",
   "id": "fc73f075",
   "metadata": {},
   "source": [
    "# Deep Learning: Mimic the Human Brain {Multi layered} ex: Object detction,Image Recognition"
   ]
  },
  {
   "cell_type": "markdown",
   "id": "5401a412",
   "metadata": {},
   "source": [
    "# DataScience: Data science is the study of data to extract meaningful insights for business. It is a multidisciplinary approach that combines principles and practices from the fields of mathematics, statistics, artificial intelligence, and computer engineering to analyze large amounts of data."
   ]
  },
  {
   "cell_type": "markdown",
   "id": "da89f8be",
   "metadata": {},
   "source": [
    "# Types of Machine Learning:"
   ]
  },
  {
   "cell_type": "markdown",
   "id": "1e4e2343",
   "metadata": {},
   "source": [
    "# There are four types of ML\n",
    "1.Supervised Machine Learning\n",
    "\n",
    ">Classification,\n",
    ">Regression\n",
    "\n",
    "2.Unsupervised Ml\n",
    "\n",
    "3.Semisupervised ML\n",
    "\n",
    "4.Reinforcement Learning"
   ]
  },
  {
   "cell_type": "markdown",
   "id": "488cc400",
   "metadata": {},
   "source": [
    "# Supervised ML"
   ]
  },
  {
   "cell_type": "markdown",
   "id": "e9eda454",
   "metadata": {},
   "source": [
    " Already know the output of the Dataset\n"
   ]
  },
  {
   "cell_type": "markdown",
   "id": "fc6ac8ad",
   "metadata": {},
   "source": [
    "Supervised learning is the types of machine learning in which machines are trained using well \"labelled\" training data, and on basis of that data, machines predict the output. The labelled data means some input data is already tagged with the correct output.\n",
    "\n"
   ]
  },
  {
   "cell_type": "code",
   "execution_count": null,
   "id": "84fc35f0",
   "metadata": {},
   "outputs": [],
   "source": []
  }
 ],
 "metadata": {
  "kernelspec": {
   "display_name": "Python 3 (ipykernel)",
   "language": "python",
   "name": "python3"
  },
  "language_info": {
   "codemirror_mode": {
    "name": "ipython",
    "version": 3
   },
   "file_extension": ".py",
   "mimetype": "text/x-python",
   "name": "python",
   "nbconvert_exporter": "python",
   "pygments_lexer": "ipython3",
   "version": "3.9.13"
  }
 },
 "nbformat": 4,
 "nbformat_minor": 5
}
