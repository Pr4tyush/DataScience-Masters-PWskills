{
 "cells": [
  {
   "cell_type": "markdown",
   "id": "dd740018",
   "metadata": {},
   "source": [
    "# Handling outliers"
   ]
  },
  {
   "cell_type": "markdown",
   "id": "e2d97a98",
   "metadata": {},
   "source": [
    "##5 number Summary\n",
    "\n",
    "1.Minimum value\n",
    "\n",
    "2.Q1 = 25 percentile\n",
    "\n",
    "3. Median\n",
    "\n",
    "4. Q3 = 75 percentile\n",
    "\n",
    "5.Maximum"
   ]
  },
  {
   "cell_type": "code",
   "execution_count": 1,
   "id": "03158072",
   "metadata": {},
   "outputs": [],
   "source": [
    "import numpy as np"
   ]
  },
  {
   "cell_type": "code",
   "execution_count": 2,
   "id": "c1b5e6be",
   "metadata": {},
   "outputs": [],
   "source": [
    "lst = [45,32,56,75,89,54,32,89,90,87,67,54,45,98,99,67,74,1000,1100]"
   ]
  },
  {
   "cell_type": "code",
   "execution_count": 4,
   "id": "be30bb7b",
   "metadata": {},
   "outputs": [
    {
     "data": {
      "text/plain": [
       "array([54.])"
      ]
     },
     "execution_count": 4,
     "metadata": {},
     "output_type": "execute_result"
    }
   ],
   "source": [
    "np.percentile(lst,[25])\n",
    "#in this array the 25 percentile value is 54"
   ]
  },
  {
   "cell_type": "code",
   "execution_count": 5,
   "id": "4ca63983",
   "metadata": {},
   "outputs": [
    {
     "data": {
      "text/plain": [
       "array([89.5])"
      ]
     },
     "execution_count": 5,
     "metadata": {},
     "output_type": "execute_result"
    }
   ],
   "source": [
    "np.percentile(lst,[75])"
   ]
  },
  {
   "cell_type": "code",
   "execution_count": 6,
   "id": "764947b3",
   "metadata": {},
   "outputs": [
    {
     "data": {
      "text/plain": [
       "array([1100.])"
      ]
     },
     "execution_count": 6,
     "metadata": {},
     "output_type": "execute_result"
    }
   ],
   "source": [
    "np.percentile(lst,[100])"
   ]
  },
  {
   "cell_type": "code",
   "execution_count": 7,
   "id": "cf1a952f",
   "metadata": {},
   "outputs": [
    {
     "data": {
      "text/plain": [
       "array([74.])"
      ]
     },
     "execution_count": 7,
     "metadata": {},
     "output_type": "execute_result"
    }
   ],
   "source": [
    "np.percentile(lst,[50])"
   ]
  },
  {
   "cell_type": "code",
   "execution_count": 9,
   "id": "db075af3",
   "metadata": {},
   "outputs": [
    {
     "name": "stdout",
     "output_type": "stream",
     "text": [
      "[54.]\n"
     ]
    }
   ],
   "source": [
    "##we will create [Lower fence <--> Higher Fence]\n",
    "Q1 = np.percentile(lst,[25])\n",
    "print(Q1)"
   ]
  },
  {
   "cell_type": "code",
   "execution_count": 11,
   "id": "2db7c526",
   "metadata": {},
   "outputs": [],
   "source": [
    "minimum,Q1,Q2,Q3,maximum = np.quantile(lst,[0,0.25,0.50,0.75,1.0])"
   ]
  },
  {
   "cell_type": "code",
   "execution_count": 12,
   "id": "28fe1d65",
   "metadata": {},
   "outputs": [
    {
     "data": {
      "text/plain": [
       "1100.0"
      ]
     },
     "execution_count": 12,
     "metadata": {},
     "output_type": "execute_result"
    }
   ],
   "source": [
    "maximum"
   ]
  },
  {
   "cell_type": "code",
   "execution_count": 13,
   "id": "f29aae90",
   "metadata": {},
   "outputs": [
    {
     "data": {
      "text/plain": [
       "32.0"
      ]
     },
     "execution_count": 13,
     "metadata": {},
     "output_type": "execute_result"
    }
   ],
   "source": [
    "minimum"
   ]
  },
  {
   "cell_type": "code",
   "execution_count": 15,
   "id": "169f7b05",
   "metadata": {},
   "outputs": [
    {
     "name": "stdout",
     "output_type": "stream",
     "text": [
      "35.5\n"
     ]
    }
   ],
   "source": [
    "Iqr = Q3-Q1\n",
    "print(Iqr)"
   ]
  },
  {
   "cell_type": "code",
   "execution_count": 17,
   "id": "459f3ac9",
   "metadata": {},
   "outputs": [],
   "source": [
    "lower_fence = Q1-1.5*(Iqr)\n",
    "Higher_fence = Q3+1.5*(Iqr)"
   ]
  },
  {
   "cell_type": "code",
   "execution_count": 19,
   "id": "7554c620",
   "metadata": {},
   "outputs": [
    {
     "data": {
      "text/plain": [
       "(0.75, 142.75)"
      ]
     },
     "execution_count": 19,
     "metadata": {},
     "output_type": "execute_result"
    }
   ],
   "source": [
    "lower_fence,Higher_fence\n",
    "#the data lie between these two values are only consider as good data or not a outlier .75>data or <142.75 are considered as outliers "
   ]
  },
  {
   "cell_type": "code",
   "execution_count": 23,
   "id": "8464fd96",
   "metadata": {},
   "outputs": [
    {
     "name": "stdout",
     "output_type": "stream",
     "text": [
      "This elements is not a outlier\n",
      "This elements is not a outlier\n",
      "This elements is not a outlier\n",
      "This elements is not a outlier\n",
      "This elements is not a outlier\n",
      "This elements is not a outlier\n",
      "This elements is not a outlier\n",
      "This elements is not a outlier\n",
      "This elements is not a outlier\n",
      "This elements is not a outlier\n",
      "This elements is not a outlier\n",
      "This elements is not a outlier\n",
      "This elements is not a outlier\n",
      "This elements is not a outlier\n",
      "This elements is not a outlier\n",
      "This elements is not a outlier\n",
      "This elements is not a outlier\n"
     ]
    }
   ],
   "source": [
    "outliers = []\n",
    "for i in lst:\n",
    "    if i>=0.75 and i<=142.75:\n",
    "        print(\"This elements is not a outlier\")\n",
    "    else:\n",
    "        outliers.append(i)"
   ]
  },
  {
   "cell_type": "code",
   "execution_count": 25,
   "id": "9a096451",
   "metadata": {},
   "outputs": [
    {
     "data": {
      "text/plain": [
       "[1000, 1100]"
      ]
     },
     "execution_count": 25,
     "metadata": {},
     "output_type": "execute_result"
    }
   ],
   "source": [
    "outliers\n",
    "#these are two outliers in the arary as you see"
   ]
  },
  {
   "cell_type": "code",
   "execution_count": 26,
   "id": "a7254bbc",
   "metadata": {},
   "outputs": [],
   "source": [
    "import seaborn as sns"
   ]
  },
  {
   "cell_type": "code",
   "execution_count": 28,
   "id": "509bde33",
   "metadata": {},
   "outputs": [
    {
     "data": {
      "text/plain": [
       "<Axes: >"
      ]
     },
     "execution_count": 28,
     "metadata": {},
     "output_type": "execute_result"
    },
    {
     "data": {
      "image/png": "[encoded data removed]",
      "text/plain": [
       "<Figure size 640x480 with 1 Axes>"
      ]
     },
     "metadata": {},
     "output_type": "display_data"
    }
   ],
   "source": [
    "sns.boxplot(lst)\n",
    "#as seen in the pictorial representation 1000 and 1100 are seen as outliers"
   ]
  },
  {
   "cell_type": "code",
   "execution_count": 29,
   "id": "00625704",
   "metadata": {},
   "outputs": [],
   "source": [
    "lst1 = [45,32,56,75,89,54,32,89,90,87,67,54,45,98,99,67]"
   ]
  },
  {
   "cell_type": "code",
   "execution_count": 31,
   "id": "f09ae56b",
   "metadata": {},
   "outputs": [
    {
     "data": {
      "text/plain": [
       "<Axes: >"
      ]
     },
     "execution_count": 31,
     "metadata": {},
     "output_type": "execute_result"
    },
    {
     "data": {
      "image/png": "[encoded data removed]",
      "text/plain": [
       "<Figure size 640x480 with 1 Axes>"
      ]
     },
     "metadata": {},
     "output_type": "display_data"
    }
   ],
   "source": [
    "sns.boxplot(lst1)\n",
    "#now if i remove 1000 and 1100 from the array we will clearly saw that outliers are not seen in the graph"
   ]
  },
  {
   "cell_type": "code",
   "execution_count": null,
   "id": "19032bb6",
   "metadata": {},
   "outputs": [],
   "source": []
  }
 ],
 "metadata": {
  "kernelspec": {
   "display_name": "Python 3 (ipykernel)",
   "language": "python",
   "name": "python3"
  },
  "language_info": {
   "codemirror_mode": {
    "name": "ipython",
    "version": 3
   },
   "file_extension": ".py",
   "mimetype": "text/x-python",
   "name": "python",
   "nbconvert_exporter": "python",
   "pygments_lexer": "ipython3",
   "version": "3.9.13"
  }
 },
 "nbformat": 4,
 "nbformat_minor": 5
}
