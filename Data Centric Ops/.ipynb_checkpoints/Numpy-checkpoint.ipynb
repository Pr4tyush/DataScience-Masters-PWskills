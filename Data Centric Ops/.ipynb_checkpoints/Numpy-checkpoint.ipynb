{
 "cells": [
  {
   "cell_type": "code",
   "execution_count": 68,
   "id": "ed1c5cd8",
   "metadata": {},
   "outputs": [],
   "source": [
    "import numpy as np"
   ]
  },
  {
   "cell_type": "code",
   "execution_count": 69,
   "id": "a711f54e",
   "metadata": {},
   "outputs": [],
   "source": [
    "l = [1,2,3,4]"
   ]
  },
  {
   "cell_type": "code",
   "execution_count": 70,
   "id": "2454d856",
   "metadata": {},
   "outputs": [
    {
     "data": {
      "text/plain": [
       "array([1, 2, 3, 4])"
      ]
     },
     "execution_count": 70,
     "metadata": {},
     "output_type": "execute_result"
    }
   ],
   "source": [
    "np.array(l)"
   ]
  },
  {
   "cell_type": "code",
   "execution_count": 71,
   "id": "1e5aafcc",
   "metadata": {},
   "outputs": [],
   "source": [
    "ar = np.sum(l)"
   ]
  },
  {
   "cell_type": "code",
   "execution_count": 72,
   "id": "2007f349",
   "metadata": {},
   "outputs": [
    {
     "data": {
      "text/plain": [
       "numpy.int32"
      ]
     },
     "execution_count": 72,
     "metadata": {},
     "output_type": "execute_result"
    }
   ],
   "source": [
    "type(ar)"
   ]
  },
  {
   "cell_type": "code",
   "execution_count": 73,
   "id": "307e01c4",
   "metadata": {},
   "outputs": [
    {
     "data": {
      "text/plain": [
       "array([[1, 2],\n",
       "       [3, 4]])"
      ]
     },
     "execution_count": 73,
     "metadata": {},
     "output_type": "execute_result"
    }
   ],
   "source": [
    "np.array([[1,2],[3,4]])\n",
    "#2 dimesional array"
   ]
  },
  {
   "cell_type": "code",
   "execution_count": 74,
   "id": "3aa09778",
   "metadata": {},
   "outputs": [
    {
     "data": {
      "text/plain": [
       "array([1, 2, 3, 4])"
      ]
     },
     "execution_count": 74,
     "metadata": {},
     "output_type": "execute_result"
    }
   ],
   "source": [
    "np.asarray(l)"
   ]
  },
  {
   "cell_type": "code",
   "execution_count": 75,
   "id": "4104c424",
   "metadata": {},
   "outputs": [],
   "source": [
    "a = [1,2,3]"
   ]
  },
  {
   "cell_type": "code",
   "execution_count": 76,
   "id": "3a4b79d2",
   "metadata": {},
   "outputs": [
    {
     "data": {
      "text/plain": [
       "list"
      ]
     },
     "execution_count": 76,
     "metadata": {},
     "output_type": "execute_result"
    }
   ],
   "source": [
    "type(a)"
   ]
  },
  {
   "cell_type": "code",
   "execution_count": 77,
   "id": "d269236e",
   "metadata": {},
   "outputs": [],
   "source": [
    "b = np.asarray(a)"
   ]
  },
  {
   "cell_type": "code",
   "execution_count": 78,
   "id": "42264842",
   "metadata": {},
   "outputs": [
    {
     "data": {
      "text/plain": [
       "numpy.ndarray"
      ]
     },
     "execution_count": 78,
     "metadata": {},
     "output_type": "execute_result"
    }
   ],
   "source": [
    "type(b)"
   ]
  },
  {
   "cell_type": "code",
   "execution_count": 79,
   "id": "38cebb71",
   "metadata": {},
   "outputs": [
    {
     "data": {
      "text/plain": [
       "array([1, 2, 3])"
      ]
     },
     "execution_count": 79,
     "metadata": {},
     "output_type": "execute_result"
    }
   ],
   "source": [
    "b"
   ]
  },
  {
   "cell_type": "code",
   "execution_count": 80,
   "id": "af744a0d",
   "metadata": {},
   "outputs": [],
   "source": [
    "c = np.matrix(a)"
   ]
  },
  {
   "cell_type": "code",
   "execution_count": 81,
   "id": "3bae4b6f",
   "metadata": {},
   "outputs": [
    {
     "data": {
      "text/plain": [
       "array([1, 2, 3])"
      ]
     },
     "execution_count": 81,
     "metadata": {},
     "output_type": "execute_result"
    }
   ],
   "source": [
    "np.asanyarray(b)"
   ]
  },
  {
   "cell_type": "code",
   "execution_count": 82,
   "id": "40d27471",
   "metadata": {},
   "outputs": [
    {
     "data": {
      "text/plain": [
       "matrix([[1, 2, 3]])"
      ]
     },
     "execution_count": 82,
     "metadata": {},
     "output_type": "execute_result"
    }
   ],
   "source": [
    "np.asanyarray(c)\n",
    "#still matrix"
   ]
  },
  {
   "cell_type": "code",
   "execution_count": 83,
   "id": "2e848e3d",
   "metadata": {},
   "outputs": [],
   "source": [
    "a = np.array(l)"
   ]
  },
  {
   "cell_type": "code",
   "execution_count": 84,
   "id": "8a49fda8",
   "metadata": {},
   "outputs": [
    {
     "data": {
      "text/plain": [
       "array([1, 2, 3, 4])"
      ]
     },
     "execution_count": 84,
     "metadata": {},
     "output_type": "execute_result"
    }
   ],
   "source": [
    "a"
   ]
  },
  {
   "cell_type": "code",
   "execution_count": 85,
   "id": "553f137b",
   "metadata": {},
   "outputs": [],
   "source": [
    "d = a"
   ]
  },
  {
   "cell_type": "code",
   "execution_count": 86,
   "id": "fd209640",
   "metadata": {},
   "outputs": [],
   "source": [
    "a = [1,2,34]"
   ]
  },
  {
   "cell_type": "code",
   "execution_count": 87,
   "id": "235b5ad7",
   "metadata": {},
   "outputs": [],
   "source": [
    "a =np.array(a)"
   ]
  },
  {
   "cell_type": "code",
   "execution_count": 88,
   "id": "3acb3d51",
   "metadata": {},
   "outputs": [],
   "source": [
    "d = a"
   ]
  },
  {
   "cell_type": "code",
   "execution_count": 89,
   "id": "a1aa666b",
   "metadata": {},
   "outputs": [
    {
     "data": {
      "text/plain": [
       "1"
      ]
     },
     "execution_count": 89,
     "metadata": {},
     "output_type": "execute_result"
    }
   ],
   "source": [
    "d[0]"
   ]
  },
  {
   "cell_type": "code",
   "execution_count": 90,
   "id": "8650f94a",
   "metadata": {},
   "outputs": [],
   "source": [
    "d = np.copy(a)"
   ]
  },
  {
   "cell_type": "code",
   "execution_count": 91,
   "id": "4efab4b2",
   "metadata": {},
   "outputs": [
    {
     "data": {
      "text/plain": [
       "array([ 1,  2, 34])"
      ]
     },
     "execution_count": 91,
     "metadata": {},
     "output_type": "execute_result"
    }
   ],
   "source": [
    "d"
   ]
  },
  {
   "cell_type": "code",
   "execution_count": 92,
   "id": "1bf482f9",
   "metadata": {},
   "outputs": [
    {
     "data": {
      "text/plain": [
       "array([ 1,  2, 34])"
      ]
     },
     "execution_count": 92,
     "metadata": {},
     "output_type": "execute_result"
    }
   ],
   "source": [
    "a"
   ]
  },
  {
   "cell_type": "code",
   "execution_count": 93,
   "id": "5e8cdf94",
   "metadata": {},
   "outputs": [],
   "source": [
    "a[1] = 400"
   ]
  },
  {
   "cell_type": "code",
   "execution_count": 94,
   "id": "728d18b3",
   "metadata": {},
   "outputs": [
    {
     "data": {
      "text/plain": [
       "array([  1, 400,  34])"
      ]
     },
     "execution_count": 94,
     "metadata": {},
     "output_type": "execute_result"
    }
   ],
   "source": [
    "a"
   ]
  },
  {
   "cell_type": "code",
   "execution_count": 95,
   "id": "56745076",
   "metadata": {},
   "outputs": [
    {
     "data": {
      "text/plain": [
       "array([ 1,  2, 34])"
      ]
     },
     "execution_count": 95,
     "metadata": {},
     "output_type": "execute_result"
    }
   ],
   "source": [
    "d"
   ]
  },
  {
   "cell_type": "code",
   "execution_count": 96,
   "id": "1b1ffb13",
   "metadata": {},
   "outputs": [
    {
     "data": {
      "text/plain": [
       "array([[ True, False, False],\n",
       "       [False,  True, False],\n",
       "       [False, False,  True]])"
      ]
     },
     "execution_count": 96,
     "metadata": {},
     "output_type": "execute_result"
    }
   ],
   "source": [
    "np.fromfunction(lambda i,j: i==j,(3,3))"
   ]
  },
  {
   "cell_type": "code",
   "execution_count": 97,
   "id": "dbfa167f",
   "metadata": {},
   "outputs": [
    {
     "data": {
      "text/plain": [
       "array([[0., 0., 0.],\n",
       "       [0., 1., 2.],\n",
       "       [0., 2., 4.]])"
      ]
     },
     "execution_count": 97,
     "metadata": {},
     "output_type": "execute_result"
    }
   ],
   "source": [
    "np.fromfunction(lambda i,j: i*j,(3,3))"
   ]
  },
  {
   "cell_type": "code",
   "execution_count": 98,
   "id": "fc54947d",
   "metadata": {},
   "outputs": [],
   "source": [
    "itr = [i*i for i in range(5)]"
   ]
  },
  {
   "cell_type": "code",
   "execution_count": 99,
   "id": "1a38e607",
   "metadata": {},
   "outputs": [
    {
     "data": {
      "text/plain": [
       "[0, 1, 4, 9, 16]"
      ]
     },
     "execution_count": 99,
     "metadata": {},
     "output_type": "execute_result"
    }
   ],
   "source": [
    "itr"
   ]
  },
  {
   "cell_type": "code",
   "execution_count": 100,
   "id": "d1f726a5",
   "metadata": {},
   "outputs": [
    {
     "data": {
      "text/plain": [
       "array([ 0.,  1.,  4.,  9., 16.])"
      ]
     },
     "execution_count": 100,
     "metadata": {},
     "output_type": "execute_result"
    }
   ],
   "source": [
    "np.fromiter(itr,float)"
   ]
  },
  {
   "cell_type": "code",
   "execution_count": 101,
   "id": "b04bac79",
   "metadata": {},
   "outputs": [
    {
     "data": {
      "text/plain": [
       "array([234., 234.])"
      ]
     },
     "execution_count": 101,
     "metadata": {},
     "output_type": "execute_result"
    }
   ],
   "source": [
    "np.fromstring(\"234 234\",sep = ' ')"
   ]
  },
  {
   "cell_type": "code",
   "execution_count": 102,
   "id": "b7756019",
   "metadata": {},
   "outputs": [],
   "source": [
    "#Numpy datatypes"
   ]
  },
  {
   "cell_type": "code",
   "execution_count": 103,
   "id": "31efe2bf",
   "metadata": {},
   "outputs": [],
   "source": [
    "l = [1,2,3,4,4]"
   ]
  },
  {
   "cell_type": "code",
   "execution_count": 104,
   "id": "bc56d667",
   "metadata": {},
   "outputs": [],
   "source": [
    "ar = np.array(l)"
   ]
  },
  {
   "cell_type": "code",
   "execution_count": 105,
   "id": "175d194a",
   "metadata": {},
   "outputs": [
    {
     "data": {
      "text/plain": [
       "array([1, 2, 3, 4, 4])"
      ]
     },
     "execution_count": 105,
     "metadata": {},
     "output_type": "execute_result"
    }
   ],
   "source": [
    "ar"
   ]
  },
  {
   "cell_type": "code",
   "execution_count": 106,
   "id": "19bc0266",
   "metadata": {},
   "outputs": [
    {
     "data": {
      "text/plain": [
       "1"
      ]
     },
     "execution_count": 106,
     "metadata": {},
     "output_type": "execute_result"
    }
   ],
   "source": [
    "ar.ndim"
   ]
  },
  {
   "cell_type": "code",
   "execution_count": 107,
   "id": "14ff13f6",
   "metadata": {},
   "outputs": [],
   "source": [
    "ar1 = np.array([[1,2],[3,4],[5,6]]) "
   ]
  },
  {
   "cell_type": "code",
   "execution_count": 108,
   "id": "8d6bad92",
   "metadata": {},
   "outputs": [
    {
     "data": {
      "text/plain": [
       "array([[1, 2],\n",
       "       [3, 4],\n",
       "       [5, 6]])"
      ]
     },
     "execution_count": 108,
     "metadata": {},
     "output_type": "execute_result"
    }
   ],
   "source": [
    "ar1"
   ]
  },
  {
   "cell_type": "code",
   "execution_count": 109,
   "id": "6999d36b",
   "metadata": {},
   "outputs": [
    {
     "data": {
      "text/plain": [
       "2"
      ]
     },
     "execution_count": 109,
     "metadata": {},
     "output_type": "execute_result"
    }
   ],
   "source": [
    "ar1.ndim"
   ]
  },
  {
   "cell_type": "code",
   "execution_count": 110,
   "id": "bd463321",
   "metadata": {},
   "outputs": [
    {
     "data": {
      "text/plain": [
       "(5,)"
      ]
     },
     "execution_count": 110,
     "metadata": {},
     "output_type": "execute_result"
    }
   ],
   "source": [
    "ar.shape"
   ]
  },
  {
   "cell_type": "code",
   "execution_count": 111,
   "id": "303b827c",
   "metadata": {},
   "outputs": [
    {
     "data": {
      "text/plain": [
       "(3, 2)"
      ]
     },
     "execution_count": 111,
     "metadata": {},
     "output_type": "execute_result"
    }
   ],
   "source": [
    "ar1.shape"
   ]
  },
  {
   "cell_type": "code",
   "execution_count": 112,
   "id": "a499e39c",
   "metadata": {},
   "outputs": [
    {
     "ename": "AttributeError",
     "evalue": "'numpy.ndarray' object has no attribute 'dtypes'",
     "output_type": "error",
     "traceback": [
      "\u001b[1;31m---------------------------------------------------------------------------\u001b[0m",
      "\u001b[1;31mAttributeError\u001b[0m                            Traceback (most recent call last)",
      "Cell \u001b[1;32mIn [112], line 1\u001b[0m\n\u001b[1;32m----> 1\u001b[0m \u001b[43mar\u001b[49m\u001b[38;5;241;43m.\u001b[39;49m\u001b[43mdtypes\u001b[49m()\n",
      "\u001b[1;31mAttributeError\u001b[0m: 'numpy.ndarray' object has no attribute 'dtypes'"
     ]
    }
   ],
   "source": []
  },
  {
   "cell_type": "code",
   "execution_count": null,
   "id": "f3d0eb81",
   "metadata": {},
   "outputs": [],
   "source": [
    "list(range(0,5))"
   ]
  },
  {
   "cell_type": "code",
   "execution_count": 115,
   "id": "36b6cd87",
   "metadata": {},
   "outputs": [
    {
     "data": {
      "text/plain": [
       "array([1.        , 1.44444444, 1.88888889, 2.33333333, 2.77777778,\n",
       "       3.22222222, 3.66666667, 4.11111111, 4.55555556, 5.        ])"
      ]
     },
     "execution_count": 115,
     "metadata": {},
     "output_type": "execute_result"
    }
   ],
   "source": [
    "np.linspace(1,5,10)"
   ]
  },
  {
   "cell_type": "code",
   "execution_count": 116,
   "id": "2a1340c0",
   "metadata": {},
   "outputs": [
    {
     "data": {
      "text/plain": [
       "array([0., 0., 0., 0., 0.])"
      ]
     },
     "execution_count": 116,
     "metadata": {},
     "output_type": "execute_result"
    }
   ],
   "source": [
    "np.zeros(5)"
   ]
  },
  {
   "cell_type": "code",
   "execution_count": 118,
   "id": "443f8862",
   "metadata": {},
   "outputs": [
    {
     "data": {
      "text/plain": [
       "array([[0., 0., 0., 0.],\n",
       "       [0., 0., 0., 0.],\n",
       "       [0., 0., 0., 0.]])"
      ]
     },
     "execution_count": 118,
     "metadata": {},
     "output_type": "execute_result"
    }
   ],
   "source": [
    "np.zeros((3,4))"
   ]
  },
  {
   "cell_type": "code",
   "execution_count": 120,
   "id": "145b9e7a",
   "metadata": {},
   "outputs": [],
   "source": [
    "on = np.ones((2,3,3))"
   ]
  },
  {
   "cell_type": "code",
   "execution_count": 121,
   "id": "005c917d",
   "metadata": {},
   "outputs": [
    {
     "data": {
      "text/plain": [
       "array([[[6., 6., 6.],\n",
       "        [6., 6., 6.],\n",
       "        [6., 6., 6.]],\n",
       "\n",
       "       [[6., 6., 6.],\n",
       "        [6., 6., 6.],\n",
       "        [6., 6., 6.]]])"
      ]
     },
     "execution_count": 121,
     "metadata": {},
     "output_type": "execute_result"
    }
   ],
   "source": [
    "on+5"
   ]
  },
  {
   "cell_type": "code",
   "execution_count": 122,
   "id": "bbdfc679",
   "metadata": {},
   "outputs": [
    {
     "data": {
      "text/plain": [
       "array([[[6., 6., 6.],\n",
       "        [6., 6., 6.],\n",
       "        [6., 6., 6.]],\n",
       "\n",
       "       [[6., 6., 6.],\n",
       "        [6., 6., 6.],\n",
       "        [6., 6., 6.]]])"
      ]
     },
     "execution_count": 122,
     "metadata": {},
     "output_type": "execute_result"
    }
   ],
   "source": [
    "on*6"
   ]
  },
  {
   "cell_type": "code",
   "execution_count": 124,
   "id": "74613c28",
   "metadata": {},
   "outputs": [
    {
     "data": {
      "text/plain": [
       "array([[0., 0., 0., 0., 0.],\n",
       "       [0., 0., 0., 0., 0.],\n",
       "       [0., 0., 0., 0., 0.]])"
      ]
     },
     "execution_count": 124,
     "metadata": {},
     "output_type": "execute_result"
    }
   ],
   "source": [
    "np.empty((3,5))"
   ]
  },
  {
   "cell_type": "code",
   "execution_count": 126,
   "id": "6fe89d1b",
   "metadata": {},
   "outputs": [
    {
     "data": {
      "text/plain": [
       "array([[1., 0., 0., 0.],\n",
       "       [0., 1., 0., 0.],\n",
       "       [0., 0., 1., 0.],\n",
       "       [0., 0., 0., 1.]])"
      ]
     },
     "execution_count": 126,
     "metadata": {},
     "output_type": "execute_result"
    }
   ],
   "source": [
    "np.eye(4)\n",
    "#idenetity matrix"
   ]
  },
  {
   "cell_type": "code",
   "execution_count": 127,
   "id": "e43c5073",
   "metadata": {},
   "outputs": [
    {
     "data": {
      "text/plain": [
       "array([2.        , 2.05263158, 2.10526316, 2.15789474, 2.21052632,\n",
       "       2.26315789, 2.31578947, 2.36842105, 2.42105263, 2.47368421,\n",
       "       2.52631579, 2.57894737, 2.63157895, 2.68421053, 2.73684211,\n",
       "       2.78947368, 2.84210526, 2.89473684, 2.94736842, 3.        ])"
      ]
     },
     "execution_count": 127,
     "metadata": {},
     "output_type": "execute_result"
    }
   ],
   "source": [
    "np.linspace(2,3,20)"
   ]
  },
  {
   "cell_type": "code",
   "execution_count": 129,
   "id": "0f7c8b8c",
   "metadata": {},
   "outputs": [
    {
     "data": {
      "text/plain": [
       "array([ 4.        ,  4.66611616,  5.44316   ,  6.34960421,  7.4069977 ,\n",
       "        8.64047791, 10.0793684 , 11.75787594, 13.71590373, 16.        ])"
      ]
     },
     "execution_count": 129,
     "metadata": {},
     "output_type": "execute_result"
    }
   ],
   "source": [
    "np.logspace(2,4,10 ,base = 2)"
   ]
  },
  {
   "cell_type": "code",
   "execution_count": 131,
   "id": "5ab296d1",
   "metadata": {},
   "outputs": [],
   "source": [
    "arr = np.random.randn(3,4)"
   ]
  },
  {
   "cell_type": "code",
   "execution_count": 132,
   "id": "eb020e72",
   "metadata": {},
   "outputs": [],
   "source": [
    "import pandas as pd"
   ]
  },
  {
   "cell_type": "code",
   "execution_count": 133,
   "id": "72f80901",
   "metadata": {},
   "outputs": [
    {
     "data": {
      "text/html": [
       "<div>\n",
       "<style scoped>\n",
       "    .dataframe tbody tr th:only-of-type {\n",
       "        vertical-align: middle;\n",
       "    }\n",
       "\n",
       "    .dataframe tbody tr th {\n",
       "        vertical-align: top;\n",
       "    }\n",
       "\n",
       "    .dataframe thead th {\n",
       "        text-align: right;\n",
       "    }\n",
       "</style>\n",
       "<table border=\"1\" class=\"dataframe\">\n",
       "  <thead>\n",
       "    <tr style=\"text-align: right;\">\n",
       "      <th></th>\n",
       "      <th>0</th>\n",
       "      <th>1</th>\n",
       "      <th>2</th>\n",
       "      <th>3</th>\n",
       "    </tr>\n",
       "  </thead>\n",
       "  <tbody>\n",
       "    <tr>\n",
       "      <th>0</th>\n",
       "      <td>0.647309</td>\n",
       "      <td>-0.330108</td>\n",
       "      <td>-0.376672</td>\n",
       "      <td>0.821390</td>\n",
       "    </tr>\n",
       "    <tr>\n",
       "      <th>1</th>\n",
       "      <td>-0.047664</td>\n",
       "      <td>0.126711</td>\n",
       "      <td>-0.045650</td>\n",
       "      <td>-0.395573</td>\n",
       "    </tr>\n",
       "    <tr>\n",
       "      <th>2</th>\n",
       "      <td>-2.349521</td>\n",
       "      <td>-0.173261</td>\n",
       "      <td>-2.034783</td>\n",
       "      <td>0.490019</td>\n",
       "    </tr>\n",
       "  </tbody>\n",
       "</table>\n",
       "</div>"
      ],
      "text/plain": [
       "          0         1         2         3\n",
       "0  0.647309 -0.330108 -0.376672  0.821390\n",
       "1 -0.047664  0.126711 -0.045650 -0.395573\n",
       "2 -2.349521 -0.173261 -2.034783  0.490019"
      ]
     },
     "execution_count": 133,
     "metadata": {},
     "output_type": "execute_result"
    }
   ],
   "source": [
    "pd.DataFrame(arr)"
   ]
  },
  {
   "cell_type": "code",
   "execution_count": 134,
   "id": "2720414b",
   "metadata": {},
   "outputs": [
    {
     "data": {
      "text/plain": [
       "array([[0.24433562, 0.30424678, 0.78983875, 0.95621586],\n",
       "       [0.54372122, 0.48021995, 0.74783526, 0.88098904],\n",
       "       [0.26739515, 0.53280253, 0.25892822, 0.9517806 ]])"
      ]
     },
     "execution_count": 134,
     "metadata": {},
     "output_type": "execute_result"
    }
   ],
   "source": [
    "np.random.rand(3,4)"
   ]
  },
  {
   "cell_type": "code",
   "execution_count": 138,
   "id": "0d510cfc",
   "metadata": {},
   "outputs": [],
   "source": [
    "pd.DataFrame(np.random.randint(1,110,(300,400))).to_csv(\"test.csv\")\n"
   ]
  },
  {
   "cell_type": "code",
   "execution_count": 140,
   "id": "b9181bac",
   "metadata": {},
   "outputs": [
    {
     "data": {
      "text/plain": [
       "array([[ 0.64730912, -0.33010812],\n",
       "       [-0.37667238,  0.8213904 ],\n",
       "       [-0.04766383,  0.1267111 ],\n",
       "       [-0.04564966, -0.39557261],\n",
       "       [-2.34952121, -0.17326135],\n",
       "       [-2.0347826 ,  0.49001868]])"
      ]
     },
     "execution_count": 140,
     "metadata": {},
     "output_type": "execute_result"
    }
   ],
   "source": [
    "arr.reshape(6,-1)"
   ]
  },
  {
   "cell_type": "code",
   "execution_count": 142,
   "id": "bfea710a",
   "metadata": {},
   "outputs": [
    {
     "data": {
      "text/plain": [
       "array([[ 0.64730912, -0.33010812],\n",
       "       [-0.37667238,  0.8213904 ],\n",
       "       [-0.04766383,  0.1267111 ],\n",
       "       [-0.04564966, -0.39557261],\n",
       "       [-2.34952121, -0.17326135],\n",
       "       [-2.0347826 ,  0.49001868]])"
      ]
     },
     "execution_count": 142,
     "metadata": {},
     "output_type": "execute_result"
    }
   ],
   "source": [
    "arr.reshape(6,-1889788989)"
   ]
  },
  {
   "cell_type": "code",
   "execution_count": 144,
   "id": "7179124b",
   "metadata": {},
   "outputs": [],
   "source": [
    "arr = np.random.randint(1,100,(5,5))"
   ]
  },
  {
   "cell_type": "code",
   "execution_count": 145,
   "id": "bc1656a9",
   "metadata": {},
   "outputs": [
    {
     "data": {
      "text/plain": [
       "array([[95, 46, 22, 98, 75],\n",
       "       [38, 58, 42, 11, 39],\n",
       "       [13, 50, 31, 40,  7],\n",
       "       [59, 50, 62, 13, 47],\n",
       "       [47,  2,  7, 75, 18]])"
      ]
     },
     "execution_count": 145,
     "metadata": {},
     "output_type": "execute_result"
    }
   ],
   "source": [
    "arr"
   ]
  },
  {
   "cell_type": "code",
   "execution_count": 146,
   "id": "ab22c9f6",
   "metadata": {},
   "outputs": [
    {
     "data": {
      "text/plain": [
       "array([[ True, False, False,  True,  True],\n",
       "       [False,  True, False, False, False],\n",
       "       [False, False, False, False, False],\n",
       "       [ True, False,  True, False, False],\n",
       "       [False, False, False,  True, False]])"
      ]
     },
     "execution_count": 146,
     "metadata": {},
     "output_type": "execute_result"
    }
   ],
   "source": [
    "arr>50"
   ]
  },
  {
   "cell_type": "code",
   "execution_count": 148,
   "id": "61279437",
   "metadata": {},
   "outputs": [
    {
     "data": {
      "text/plain": [
       "array([95, 98, 75, 58, 59, 62, 75])"
      ]
     },
     "execution_count": 148,
     "metadata": {},
     "output_type": "execute_result"
    }
   ],
   "source": [
    "arr[arr>50]\n",
    "#extract data"
   ]
  },
  {
   "cell_type": "code",
   "execution_count": 151,
   "id": "8ea569a0",
   "metadata": {},
   "outputs": [],
   "source": [
    "arr[0][0] = 50000"
   ]
  },
  {
   "cell_type": "code",
   "execution_count": 152,
   "id": "d188f0c6",
   "metadata": {},
   "outputs": [
    {
     "data": {
      "text/plain": [
       "array([[50000,    46,    22,    98,    75],\n",
       "       [   38,    58,    42,    11,    39],\n",
       "       [   13,    50,    31,    40,     7],\n",
       "       [   59,    50,    62,    13,    47],\n",
       "       [   47,     2,     7,    75,    18]])"
      ]
     },
     "execution_count": 152,
     "metadata": {},
     "output_type": "execute_result"
    }
   ],
   "source": [
    "arr"
   ]
  },
  {
   "cell_type": "code",
   "execution_count": 153,
   "id": "0ad1565b",
   "metadata": {},
   "outputs": [],
   "source": [
    "arr1 = np.random.randint(1,3,(3,3))\n",
    "arr2 = np.random.randint(1,3,(3,3))"
   ]
  },
  {
   "cell_type": "raw",
   "id": "916e6445",
   "metadata": {},
   "source": []
  },
  {
   "cell_type": "code",
   "execution_count": 155,
   "id": "cccbea4e",
   "metadata": {},
   "outputs": [
    {
     "data": {
      "text/plain": [
       "array([[1, 2, 1],\n",
       "       [2, 2, 1],\n",
       "       [1, 1, 2]])"
      ]
     },
     "execution_count": 155,
     "metadata": {},
     "output_type": "execute_result"
    }
   ],
   "source": [
    "arr1"
   ]
  },
  {
   "cell_type": "code",
   "execution_count": 156,
   "id": "9d685be8",
   "metadata": {},
   "outputs": [
    {
     "data": {
      "text/plain": [
       "array([[1, 1, 1],\n",
       "       [1, 2, 1],\n",
       "       [1, 2, 1]])"
      ]
     },
     "execution_count": 156,
     "metadata": {},
     "output_type": "execute_result"
    }
   ],
   "source": [
    "arr2"
   ]
  },
  {
   "cell_type": "code",
   "execution_count": 154,
   "id": "2812517c",
   "metadata": {},
   "outputs": [
    {
     "data": {
      "text/plain": [
       "array([[1, 2, 1],\n",
       "       [2, 4, 1],\n",
       "       [1, 2, 2]])"
      ]
     },
     "execution_count": 154,
     "metadata": {},
     "output_type": "execute_result"
    }
   ],
   "source": [
    "arr1*arr2"
   ]
  },
  {
   "cell_type": "code",
   "execution_count": 158,
   "id": "9e8a1d1c",
   "metadata": {},
   "outputs": [
    {
     "data": {
      "text/plain": [
       "array([[4, 7, 4],\n",
       "       [5, 8, 5],\n",
       "       [4, 7, 4]])"
      ]
     },
     "execution_count": 158,
     "metadata": {},
     "output_type": "execute_result"
    }
   ],
   "source": [
    "arr1@arr2\n",
    "#array multiplication can done by \"@\""
   ]
  },
  {
   "cell_type": "code",
   "execution_count": 159,
   "id": "1155d033",
   "metadata": {},
   "outputs": [
    {
     "name": "stderr",
     "output_type": "stream",
     "text": [
      "C:\\Users\\admin\\AppData\\Local\\Temp\\ipykernel_3312\\1510032488.py:1: RuntimeWarning: divide by zero encountered in divide\n",
      "  arr1/0\n"
     ]
    },
    {
     "data": {
      "text/plain": [
       "array([[inf, inf, inf],\n",
       "       [inf, inf, inf],\n",
       "       [inf, inf, inf]])"
      ]
     },
     "execution_count": 159,
     "metadata": {},
     "output_type": "execute_result"
    }
   ],
   "source": [
    "arr1/0"
   ]
  },
  {
   "cell_type": "code",
   "execution_count": 160,
   "id": "1d7bba07",
   "metadata": {},
   "outputs": [],
   "source": [
    "#numpy Broadcasting"
   ]
  },
  {
   "cell_type": "code",
   "execution_count": 162,
   "id": "5fa5a00e",
   "metadata": {},
   "outputs": [],
   "source": [
    "arr = np.zeros((4,4))"
   ]
  },
  {
   "cell_type": "code",
   "execution_count": 163,
   "id": "b640c59c",
   "metadata": {},
   "outputs": [
    {
     "data": {
      "text/plain": [
       "array([[0., 0., 0., 0.],\n",
       "       [0., 0., 0., 0.],\n",
       "       [0., 0., 0., 0.],\n",
       "       [0., 0., 0., 0.]])"
      ]
     },
     "execution_count": 163,
     "metadata": {},
     "output_type": "execute_result"
    }
   ],
   "source": [
    "arr"
   ]
  },
  {
   "cell_type": "code",
   "execution_count": 169,
   "id": "ba216d70",
   "metadata": {},
   "outputs": [],
   "source": [
    "row = np.array([[1,2,3,4]])"
   ]
  },
  {
   "cell_type": "code",
   "execution_count": 165,
   "id": "8831da02",
   "metadata": {},
   "outputs": [
    {
     "data": {
      "text/plain": [
       "array([1, 2, 3, 4])"
      ]
     },
     "execution_count": 165,
     "metadata": {},
     "output_type": "execute_result"
    }
   ],
   "source": [
    "row"
   ]
  },
  {
   "cell_type": "code",
   "execution_count": 166,
   "id": "17866c6a",
   "metadata": {},
   "outputs": [
    {
     "data": {
      "text/plain": [
       "array([[1., 2., 3., 4.],\n",
       "       [1., 2., 3., 4.],\n",
       "       [1., 2., 3., 4.],\n",
       "       [1., 2., 3., 4.]])"
      ]
     },
     "execution_count": 166,
     "metadata": {},
     "output_type": "execute_result"
    }
   ],
   "source": [
    "arr+row"
   ]
  },
  {
   "cell_type": "code",
   "execution_count": 168,
   "id": "70c9cd5c",
   "metadata": {},
   "outputs": [
    {
     "data": {
      "text/plain": [
       "array([[0., 0., 0., 0.],\n",
       "       [0., 0., 0., 0.],\n",
       "       [0., 0., 0., 0.],\n",
       "       [0., 0., 0., 0.]])"
      ]
     },
     "execution_count": 168,
     "metadata": {},
     "output_type": "execute_result"
    }
   ],
   "source": [
    "arr.T"
   ]
  },
  {
   "cell_type": "code",
   "execution_count": 170,
   "id": "1c69feab",
   "metadata": {},
   "outputs": [
    {
     "data": {
      "text/plain": [
       "array([[1],\n",
       "       [2],\n",
       "       [3],\n",
       "       [4]])"
      ]
     },
     "execution_count": 170,
     "metadata": {},
     "output_type": "execute_result"
    }
   ],
   "source": [
    "row.T"
   ]
  },
  {
   "cell_type": "raw",
   "id": "a8df7cf5",
   "metadata": {},
   "source": []
  },
  {
   "cell_type": "code",
   "execution_count": 171,
   "id": "7b2cee24",
   "metadata": {},
   "outputs": [
    {
     "data": {
      "text/plain": [
       "array([[1., 1., 1., 1.],\n",
       "       [2., 2., 2., 2.],\n",
       "       [3., 3., 3., 3.],\n",
       "       [4., 4., 4., 4.]])"
      ]
     },
     "execution_count": 171,
     "metadata": {},
     "output_type": "execute_result"
    }
   ],
   "source": [
    "row.T+arr"
   ]
  },
  {
   "cell_type": "code",
   "execution_count": 173,
   "id": "905901fa",
   "metadata": {},
   "outputs": [
    {
     "data": {
      "text/plain": [
       "array([[1, 1, 1, 2],\n",
       "       [3, 2, 3, 3],\n",
       "       [3, 2, 2, 3]])"
      ]
     },
     "execution_count": 173,
     "metadata": {},
     "output_type": "execute_result"
    }
   ],
   "source": [
    "np.random.randint(1,4,(3,4))"
   ]
  },
  {
   "cell_type": "code",
   "execution_count": null,
   "id": "abd3b9d4",
   "metadata": {},
   "outputs": [],
   "source": []
  }
 ],
 "metadata": {
  "kernelspec": {
   "display_name": "Python 3 (ipykernel)",
   "language": "python",
   "name": "python3"
  },
  "language_info": {
   "codemirror_mode": {
    "name": "ipython",
    "version": 3
   },
   "file_extension": ".py",
   "mimetype": "text/x-python",
   "name": "python",
   "nbconvert_exporter": "python",
   "pygments_lexer": "ipython3",
   "version": "3.9.13"
  }
 },
 "nbformat": 4,
 "nbformat_minor": 5
}
