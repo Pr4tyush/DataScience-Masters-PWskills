{
 "cells": [
  {
   "cell_type": "code",
   "execution_count": 1,
   "id": "78a5ed96",
   "metadata": {},
   "outputs": [
    {
     "name": "stdout",
     "output_type": "stream",
     "text": [
      "This is my main Programme\n"
     ]
    }
   ],
   "source": [
    "import multiprocessing\n",
    "def test():\n",
    "    print(\"this is my multi processing\")\n",
    "if __name__==\"__main__\":\n",
    "    m = multiprocessing.Process(target = test)\n",
    "    print(\"This is my main Programme\")\n",
    "    m.start() #it will start \n",
    "    m.join() #\n",
    "    #multiprocessing.Process is used to call the mltiprocess programmee\n",
    "    \n",
    "    \n",
    "    "
   ]
  },
  {
   "cell_type": "code",
   "execution_count": 4,
   "id": "01fc7200",
   "metadata": {},
   "outputs": [
    {
     "name": "stdout",
     "output_type": "stream",
     "text": [
      "this is my multi processing\n"
     ]
    }
   ],
   "source": [
    "test()"
   ]
  },
  {
   "cell_type": "code",
   "execution_count": null,
   "id": "70ecd95d",
   "metadata": {},
   "outputs": [],
   "source": [
    "def square(n):\n",
    "    return n**2\n",
    "\n",
    "if __name__ == \"__main__\":\n",
    "    with multiprocessing.Pool(processes= 12) as pool:\n",
    "        out =  pool.map(square , [1,23,4,5,6,7,8,9])\n",
    "        print(out)\n",
    "    "
   ]
  },
  {
   "cell_type": "code",
   "execution_count": 2,
   "id": "9e89bc67",
   "metadata": {},
   "outputs": [],
   "source": [
    "def producer(q):\n",
    "    for i in range(10):\n",
    "        q.put(i)\n",
    "def consume(q):\n",
    "    while True:\n",
    "        item = q.get()\n",
    "        if item is None:\n",
    "            break\n",
    "        print(item)\n",
    "if __name__ == \"__main__\":\n",
    "    queue = multiprocessing.Queue()\n",
    "    m1 = multiprocessing.Process(target = producer ,args = (queue,))\n",
    "    m2 = multiprocessing.Process(target = consume , args = (queue,))\n",
    "    m1.start()\n",
    "    m2.start()\n",
    "    queue.put(\"Pratyush\")\n",
    "    m1.join()\n",
    "    m2.join()"
   ]
  },
  {
   "cell_type": "code",
   "execution_count": 2,
   "id": "4d7b1c27",
   "metadata": {},
   "outputs": [
    {
     "name": "stdout",
     "output_type": "stream",
     "text": [
      "[2, 3, 4, 5, 5, 6, 7]\n"
     ]
    }
   ],
   "source": [
    "import multiprocessing\n",
    "square = i**2\n",
    "\n",
    "def index(index,value):\n",
    "    value[index] = value[index]**2\n",
    "if __name__ == \"__main__\":\n",
    "    arr = multiprocessing.Array('i',[2,3,4,5,5,6,7])\n",
    "    process = []\n",
    "    for i in range(7):\n",
    "        m = multiprocessing.Process(target = square ,args= (i,arr))\n",
    "        process.append(m)\n",
    "        m.start()\n",
    "    for m in process:\n",
    "        m.join()\n",
    "    print(list(arr))\n",
    "        \n",
    "        "
   ]
  },
  {
   "cell_type": "code",
   "execution_count": 8,
   "id": "1d6856de",
   "metadata": {},
   "outputs": [],
   "source": [
    "import multiprocessing\n",
    "\n",
    "def sender(conn,msg):\n",
    "    for i in msg:\n",
    "        conn.send(i)\n",
    "    conn.close()\n",
    "def receive(conn):\n",
    "    while True:\n",
    "        try:\n",
    "            msg = conn.recv()\n",
    "        except Exception as e:\n",
    "            print(e)\n",
    "            break\n",
    "        print(msg)\n",
    "if __name__ == \"__main__\":\n",
    "    msg = [\"My name is Pratyush anad i ma using Dell\"]\n",
    "    parent_conn = multiprocessing.Pipe()\n",
    "    child_conn = multiprocessing.Pipe()\n",
    "    m1 = multiprocessing.Process(target = sender,args = (child_conn,msg))\n",
    "    m2 = multiprocessing.Process(target = receive ,args = (parent_conn,))\n",
    "    m1.start()\n",
    "    m2.start()\n",
    "    m1.join()\n",
    "   \n",
    "    m2.join()\n",
    "   "
   ]
  },
  {
   "cell_type": "markdown",
   "id": "ff58885c",
   "metadata": {},
   "source": [
    "# What is multiprocessing?"
   ]
  },
  {
   "cell_type": "markdown",
   "id": "98d7e2fa",
   "metadata": {},
   "source": [
    "MultiProcessing refers to the Ability of a system to support more than one processor at the same time.Applications in a multiprocessor system are broken into smaller routines taht run independently.The Operationg system allocates these threads to the Processor improving Performance of the System\n",
    "\n"
   ]
  },
  {
   "cell_type": "markdown",
   "id": "7259a4dc",
   "metadata": {},
   "source": [
    "# Why MultiProcessing?"
   ]
  },
  {
   "cell_type": "markdown",
   "id": "c869b37a",
   "metadata": {},
   "source": [
    "Consider a computer system with a single processor. If it is assigned several processes at the same time, it will have to interrupt each task and switch briefly to another, to keep all of the processes going.\n",
    "This situation is just like a chef working in a kitchen alone. He has to do several tasks like baking, stirring, kneading dough, etc.\n",
    "\n",
    "So the gist is that: The more tasks you must do at once, the more difficult it gets to keep track of them all, and keeping the timing right becomes more of a challenge.\n",
    "This is where the concept of multiprocessing arises!"
   ]
  },
  {
   "cell_type": "code",
   "execution_count": null,
   "id": "1a0c0ced",
   "metadata": {},
   "outputs": [],
   "source": []
  }
 ],
 "metadata": {
  "kernelspec": {
   "display_name": "Python 3 (ipykernel)",
   "language": "python",
   "name": "python3"
  },
  "language_info": {
   "codemirror_mode": {
    "name": "ipython",
    "version": 3
   },
   "file_extension": ".py",
   "mimetype": "text/x-python",
   "name": "python",
   "nbconvert_exporter": "python",
   "pygments_lexer": "ipython3",
   "version": "3.9.13"
  }
 },
 "nbformat": 4,
 "nbformat_minor": 5
}
