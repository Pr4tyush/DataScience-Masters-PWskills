{
 "cells": [
  {
   "cell_type": "markdown",
   "id": "6c640db7",
   "metadata": {},
   "source": [
    "# Day3 PwDataScienceMasters"
   ]
  },
  {
   "cell_type": "code",
   "execution_count": 1,
   "id": "5e621129",
   "metadata": {},
   "outputs": [],
   "source": [
    "d = {}"
   ]
  },
  {
   "cell_type": "code",
   "execution_count": 13,
   "id": "faae08e3",
   "metadata": {},
   "outputs": [],
   "source": [
    "d1 = {\"name\": \"Pratyush\",\"address\":\"Noida\",\"email\":\"pratyush@gmail.com\", True:676}"
   ]
  },
  {
   "cell_type": "code",
   "execution_count": 3,
   "id": "aaa20cb5",
   "metadata": {},
   "outputs": [
    {
     "data": {
      "text/plain": [
       "{'name': 'Pratyush', 'address': 'Noida', 'email': 'pratyush@gmail.com'}"
      ]
     },
     "execution_count": 3,
     "metadata": {},
     "output_type": "execute_result"
    }
   ],
   "source": [
    "d1"
   ]
  },
  {
   "cell_type": "code",
   "execution_count": 4,
   "id": "2693c61f",
   "metadata": {},
   "outputs": [],
   "source": [
    "d2 = {123:\"type\"}"
   ]
  },
  {
   "cell_type": "code",
   "execution_count": 5,
   "id": "359bdd8a",
   "metadata": {},
   "outputs": [
    {
     "data": {
      "text/plain": [
       "{123: 'type'}"
      ]
     },
     "execution_count": 5,
     "metadata": {},
     "output_type": "execute_result"
    }
   ],
   "source": [
    "d2"
   ]
  },
  {
   "cell_type": "code",
   "execution_count": 6,
   "id": "9d0041b0",
   "metadata": {},
   "outputs": [
    {
     "data": {
      "text/plain": [
       "'Pratyush'"
      ]
     },
     "execution_count": 6,
     "metadata": {},
     "output_type": "execute_result"
    }
   ],
   "source": [
    "d1[\"name\"]"
   ]
  },
  {
   "cell_type": "code",
   "execution_count": 7,
   "id": "1e8dd9c3",
   "metadata": {},
   "outputs": [
    {
     "data": {
      "text/plain": [
       "'pratyush@gmail.com'"
      ]
     },
     "execution_count": 7,
     "metadata": {},
     "output_type": "execute_result"
    }
   ],
   "source": [
    "d1[\"email\"]"
   ]
  },
  {
   "cell_type": "code",
   "execution_count": 22,
   "id": "ced8361b",
   "metadata": {},
   "outputs": [
    {
     "ename": "KeyError",
     "evalue": "2",
     "output_type": "error",
     "traceback": [
      "\u001b[1;31m---------------------------------------------------------------------------\u001b[0m",
      "\u001b[1;31mKeyError\u001b[0m                                  Traceback (most recent call last)",
      "Cell \u001b[1;32mIn [22], line 1\u001b[0m\n\u001b[1;32m----> 1\u001b[0m \u001b[43md1\u001b[49m\u001b[43m[\u001b[49m\u001b[38;5;241;43m2\u001b[39;49m\u001b[43m]\u001b[49m \u001b[38;5;66;03m#It cant support Index Value\u001b[39;00m\n",
      "\u001b[1;31mKeyError\u001b[0m: 2"
     ]
    }
   ],
   "source": [
    "d1[2] #It cant support Index Value"
   ]
  },
  {
   "cell_type": "code",
   "execution_count": 14,
   "id": "ff4a343c",
   "metadata": {},
   "outputs": [
    {
     "data": {
      "text/plain": [
       "676"
      ]
     },
     "execution_count": 14,
     "metadata": {},
     "output_type": "execute_result"
    }
   ],
   "source": [
    "d1[1] #here 1 means True"
   ]
  },
  {
   "cell_type": "code",
   "execution_count": 16,
   "id": "21445ea7",
   "metadata": {},
   "outputs": [],
   "source": [
    "d5 = {\"name\": \"Pratyush\",\"address\":\"Noida\",\"email\":\"pratyush@gmail.com\", True:676,\"name\": \"Chirag\"}"
   ]
  },
  {
   "cell_type": "code",
   "execution_count": 17,
   "id": "2dc46ca9",
   "metadata": {},
   "outputs": [
    {
     "data": {
      "text/plain": [
       "'Chirag'"
      ]
     },
     "execution_count": 17,
     "metadata": {},
     "output_type": "execute_result"
    }
   ],
   "source": [
    "d5[\"name\"]"
   ]
  },
  {
   "cell_type": "code",
   "execution_count": 18,
   "id": "84a25a89",
   "metadata": {},
   "outputs": [],
   "source": [
    "Smartphones = {\"company\":\"Samsung\",\"Models\":[\"Sultra\",\"F41\",\"M21\",\"F62\"]}"
   ]
  },
  {
   "cell_type": "code",
   "execution_count": 19,
   "id": "96af8c79",
   "metadata": {},
   "outputs": [
    {
     "data": {
      "text/plain": [
       "'F41'"
      ]
     },
     "execution_count": 19,
     "metadata": {},
     "output_type": "execute_result"
    }
   ],
   "source": [
    "Smartphones[\"Models\"][1]"
   ]
  },
  {
   "cell_type": "markdown",
   "id": "1c6c8288",
   "metadata": {},
   "source": [
    "Dict can Store tuples,Sets,Lists"
   ]
  },
  {
   "cell_type": "code",
   "execution_count": 25,
   "id": "5f3929f6",
   "metadata": {},
   "outputs": [],
   "source": [
    "Smartphones['Price']=[10000,20000,250000,100000] #add Keys"
   ]
  },
  {
   "cell_type": "code",
   "execution_count": 26,
   "id": "92b3100d",
   "metadata": {},
   "outputs": [
    {
     "data": {
      "text/plain": [
       "{'company': 'Samsung',\n",
       " 'Models': ['Sultra', 'F41', 'M21', 'F62'],\n",
       " 'Price': [10000, 20000, 250000, 100000]}"
      ]
     },
     "execution_count": 26,
     "metadata": {},
     "output_type": "execute_result"
    }
   ],
   "source": [
    "Smartphones"
   ]
  },
  {
   "cell_type": "code",
   "execution_count": 29,
   "id": "02cd5731",
   "metadata": {},
   "outputs": [],
   "source": [
    "del Smartphones[\"Price\"]"
   ]
  },
  {
   "cell_type": "code",
   "execution_count": 30,
   "id": "6b774b12",
   "metadata": {},
   "outputs": [
    {
     "data": {
      "text/plain": [
       "{'company': 'Samsung', 'Models': ['Sultra', 'F41', 'M21', 'F62']}"
      ]
     },
     "execution_count": 30,
     "metadata": {},
     "output_type": "execute_result"
    }
   ],
   "source": [
    "Smartphones"
   ]
  },
  {
   "cell_type": "code",
   "execution_count": 31,
   "id": "115a28ba",
   "metadata": {},
   "outputs": [
    {
     "data": {
      "text/plain": [
       "<function dict.keys>"
      ]
     },
     "execution_count": 31,
     "metadata": {},
     "output_type": "execute_result"
    }
   ],
   "source": [
    "Smartphones.keys"
   ]
  },
  {
   "cell_type": "code",
   "execution_count": 32,
   "id": "287c4e1b",
   "metadata": {},
   "outputs": [
    {
     "data": {
      "text/plain": [
       "dict_keys(['company', 'Models'])"
      ]
     },
     "execution_count": 32,
     "metadata": {},
     "output_type": "execute_result"
    }
   ],
   "source": [
    "Smartphones.keys()"
   ]
  },
  {
   "cell_type": "code",
   "execution_count": 33,
   "id": "b13d35bc",
   "metadata": {},
   "outputs": [
    {
     "data": {
      "text/plain": [
       "dict_values(['Samsung', ['Sultra', 'F41', 'M21', 'F62']])"
      ]
     },
     "execution_count": 33,
     "metadata": {},
     "output_type": "execute_result"
    }
   ],
   "source": [
    "Smartphones.values()"
   ]
  },
  {
   "cell_type": "code",
   "execution_count": 34,
   "id": "051e60b8",
   "metadata": {},
   "outputs": [
    {
     "data": {
      "text/plain": [
       "dict_items([('company', 'Samsung'), ('Models', ['Sultra', 'F41', 'M21', 'F62'])])"
      ]
     },
     "execution_count": 34,
     "metadata": {},
     "output_type": "execute_result"
    }
   ],
   "source": [
    "Smartphones.items()"
   ]
  },
  {
   "cell_type": "code",
   "execution_count": 36,
   "id": "f918a20c",
   "metadata": {},
   "outputs": [
    {
     "data": {
      "text/plain": [
       "[('company', 'Samsung'), ('Models', ['Sultra', 'F41', 'M21', 'F62'])]"
      ]
     },
     "execution_count": 36,
     "metadata": {},
     "output_type": "execute_result"
    }
   ],
   "source": [
    "list(Smartphones.items())"
   ]
  },
  {
   "cell_type": "code",
   "execution_count": 37,
   "id": "a9d7abd6",
   "metadata": {},
   "outputs": [
    {
     "data": {
      "text/plain": [
       "['Sultra', 'F41', 'M21', 'F62']"
      ]
     },
     "execution_count": 37,
     "metadata": {},
     "output_type": "execute_result"
    }
   ],
   "source": [
    "Smartphones.pop(\"Models\")"
   ]
  },
  {
   "cell_type": "markdown",
   "id": "0fdc98bf",
   "metadata": {},
   "source": [
    "# Conditional Statment "
   ]
  },
  {
   "cell_type": "code",
   "execution_count": 44,
   "id": "ea97ff0f",
   "metadata": {},
   "outputs": [
    {
     "name": "stdout",
     "output_type": "stream",
     "text": [
      "Enter Your Marks: 62\n",
      "Selected for Batch2\n"
     ]
    }
   ],
   "source": [
    "marks   = int(input(\"Enter Your Marks: \"))\n",
    "if marks>=80:\n",
    "    print(\"Selected!!\")\n",
    "elif marks>=60 and marks<80:\n",
    "    print(\"Selected for Batch2\")\n",
    "else:\n",
    "    print(\"Not selected Fuckoff\")\n"
   ]
  },
  {
   "cell_type": "markdown",
   "id": "6b067b7f",
   "metadata": {},
   "source": [
    "#Loops "
   ]
  },
  {
   "cell_type": "code",
   "execution_count": 1,
   "id": "3ca27cdf",
   "metadata": {},
   "outputs": [],
   "source": [
    "l = [1,2,3,4,5,6,7,8,9]"
   ]
  },
  {
   "cell_type": "code",
   "execution_count": 2,
   "id": "4c359b20",
   "metadata": {},
   "outputs": [
    {
     "name": "stdout",
     "output_type": "stream",
     "text": [
      "1\n",
      "2\n",
      "3\n",
      "4\n",
      "5\n",
      "6\n",
      "7\n",
      "8\n",
      "9\n"
     ]
    }
   ],
   "source": [
    "for i in l:\n",
    "    print(i)"
   ]
  },
  {
   "cell_type": "code",
   "execution_count": 4,
   "id": "869faba6",
   "metadata": {},
   "outputs": [
    {
     "name": "stdout",
     "output_type": "stream",
     "text": [
      "3 4 5 6 7 8 9 10 11 "
     ]
    }
   ],
   "source": [
    "\n",
    "for i in l:\n",
    "    print(i+2,end = \" \")"
   ]
  },
  {
   "cell_type": "code",
   "execution_count": 2,
   "id": "98b8e831",
   "metadata": {},
   "outputs": [],
   "source": [
    "p = [\"Pratyush\",\"Kumar\",\"Choudhary\"]"
   ]
  },
  {
   "cell_type": "code",
   "execution_count": 8,
   "id": "33d73ad6",
   "metadata": {},
   "outputs": [
    {
     "name": "stdout",
     "output_type": "stream",
     "text": [
      "PRATYUSH,KUMAR,CHOUDHARY,"
     ]
    }
   ],
   "source": [
    "for i in p:\n",
    "    print(i.upper(),end = \",\")"
   ]
  },
  {
   "cell_type": "code",
   "execution_count": 10,
   "id": "e5c28698",
   "metadata": {},
   "outputs": [],
   "source": [
    "l = [1,2,3,4,5,\"Pratyush\",\"Kumar\",1.4,6.7]"
   ]
  },
  {
   "cell_type": "code",
   "execution_count": 14,
   "id": "938472eb",
   "metadata": {},
   "outputs": [
    {
     "name": "stdout",
     "output_type": "stream",
     "text": [
      "[1, 2, 3, 4, 5, 1.4, 6.7]\n",
      "['Pratyush', 'Kumar']\n"
     ]
    }
   ],
   "source": [
    "#Enter int value in l1 and Char value at l2\n",
    "l1 = []\n",
    "l2 = []\n",
    "for i in l:\n",
    "    if type(i) == int or type(i)==float:\n",
    "        l1.append(i)\n",
    "    else:\n",
    "        l2.append(i)\n",
    "print(l1)\n",
    "print(l2)\n"
   ]
  },
  {
   "cell_type": "code",
   "execution_count": null,
   "id": "40cbf141",
   "metadata": {},
   "outputs": [],
   "source": []
  }
 ],
 "metadata": {
  "kernelspec": {
   "display_name": "Python 3 (ipykernel)",
   "language": "python",
   "name": "python3"
  },
  "language_info": {
   "codemirror_mode": {
    "name": "ipython",
    "version": 3
   },
   "file_extension": ".py",
   "mimetype": "text/x-python",
   "name": "python",
   "nbconvert_exporter": "python",
   "pygments_lexer": "ipython3",
   "version": "3.9.13"
  }
 },
 "nbformat": 4,
 "nbformat_minor": 5
}
