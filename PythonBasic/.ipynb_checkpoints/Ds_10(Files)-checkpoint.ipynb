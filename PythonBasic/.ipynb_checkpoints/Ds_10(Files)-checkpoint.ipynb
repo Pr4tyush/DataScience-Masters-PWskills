{
 "cells": [
  {
   "cell_type": "markdown",
   "id": "5965e22a",
   "metadata": {},
   "source": [
    "# Working With Files"
   ]
  },
  {
   "cell_type": "code",
   "execution_count": 53,
   "id": "78f492c9",
   "metadata": {},
   "outputs": [],
   "source": [
    "f = open(\"test.txt\",\"w\") #A new File \"test.txt\" will be Created in my path"
   ]
  },
  {
   "cell_type": "code",
   "execution_count": 2,
   "id": "442ca3fa",
   "metadata": {},
   "outputs": [
    {
     "data": {
      "text/plain": [
       "'F:\\\\DataScienceMasters\\\\PythonBasic'"
      ]
     },
     "execution_count": 2,
     "metadata": {},
     "output_type": "execute_result"
    }
   ],
   "source": [
    "pwd"
   ]
  },
  {
   "cell_type": "code",
   "execution_count": 3,
   "id": "9d280f21",
   "metadata": {},
   "outputs": [
    {
     "name": "stdout",
     "output_type": "stream",
     "text": [
      " Volume in drive F is New Volume\n",
      " Volume Serial Number is 54E7-0808\n",
      "\n",
      " Directory of F:\\DataScienceMasters\\PythonBasic\n",
      "\n",
      "02/12/2023  01:50 PM    <DIR>          .\n",
      "02/12/2023  01:50 PM    <DIR>          ..\n",
      "02/12/2023  01:48 PM    <DIR>          .ipynb_checkpoints\n",
      "02/08/2023  04:31 PM            10,120 2 Feb Assigment.ipynb\n",
      "02/04/2023  11:49 PM             5,942 29th Jan Assignment .ipynb\n",
      "02/07/2023  02:10 PM            14,214 3 Feb Assigment.ipynb\n",
      "02/05/2023  12:18 PM             7,190 30 Jan Assignment1.ipynb\n",
      "02/07/2023  04:07 PM             7,390 4 Feb Assigment.ipynb\n",
      "02/07/2023  04:46 PM             6,249 5 Feb OOPS Assigment.ipynb\n",
      "02/07/2023  05:51 PM             2,506 6 Feb Assigment.ipynb\n",
      "02/04/2023  11:51 AM            21,574 Ds_1.ipynb\n",
      "02/12/2023  01:50 PM               763 Ds_10(Files).ipynb\n",
      "02/04/2023  04:04 PM            25,609 Ds_2.ipynb\n",
      "02/04/2023  11:11 PM            11,456 Ds_3.ipynb\n",
      "02/05/2023  11:05 AM            11,244 Ds_4.ipynb\n",
      "02/05/2023  06:38 PM            23,717 Ds_5.ipynb\n",
      "02/07/2023  01:38 PM             5,303 Ds_6.ipynb\n",
      "02/07/2023  04:29 PM             9,684 Ds_7.ipynb\n",
      "02/10/2023  07:03 PM            19,004 Ds_8 (Polymorphism,Inheritance).ipynb\n",
      "02/11/2023  11:27 AM            37,091 Ds_9(Decorator,classmethods,staticmethods,magic methods).ipynb\n",
      "02/07/2023  10:24 AM            17,784 Map,_Reduce,_Filter_Function.ipynb\n",
      "02/12/2023  01:50 PM                 0 test.txt\n",
      "              19 File(s)        236,840 bytes\n",
      "               3 Dir(s)  16,332,152,832 bytes free\n"
     ]
    }
   ],
   "source": [
    "ls"
   ]
  },
  {
   "cell_type": "code",
   "execution_count": 4,
   "id": "bec228dc",
   "metadata": {},
   "outputs": [
    {
     "data": {
      "text/plain": [
       "30"
      ]
     },
     "execution_count": 4,
     "metadata": {},
     "output_type": "execute_result"
    }
   ],
   "source": [
    "f.write(\"this is my first file to write\")"
   ]
  },
  {
   "cell_type": "code",
   "execution_count": 5,
   "id": "3ef34875",
   "metadata": {},
   "outputs": [],
   "source": [
    "f.close()"
   ]
  },
  {
   "cell_type": "code",
   "execution_count": 6,
   "id": "c8b7c382",
   "metadata": {},
   "outputs": [],
   "source": [
    "f = open(\"text.txt\",\"w\")"
   ]
  },
  {
   "cell_type": "code",
   "execution_count": 7,
   "id": "c24429a4",
   "metadata": {},
   "outputs": [],
   "source": [
    "f = open(\"text.txt\",\"a\")"
   ]
  },
  {
   "cell_type": "code",
   "execution_count": 8,
   "id": "90ff1672",
   "metadata": {},
   "outputs": [
    {
     "data": {
      "text/plain": [
       "50"
      ]
     },
     "execution_count": 8,
     "metadata": {},
     "output_type": "execute_result"
    }
   ],
   "source": [
    "f.write(\"http://localhost:8888/notebooks/Ds_10(Files).ipynb\")"
   ]
  },
  {
   "cell_type": "code",
   "execution_count": 10,
   "id": "b83376e6",
   "metadata": {},
   "outputs": [],
   "source": [
    "f.close()"
   ]
  },
  {
   "cell_type": "code",
   "execution_count": 11,
   "id": "9061c043",
   "metadata": {},
   "outputs": [],
   "source": [
    "f = open(\"text.txt\",\"r\")"
   ]
  },
  {
   "cell_type": "code",
   "execution_count": 12,
   "id": "fb191ca9",
   "metadata": {},
   "outputs": [
    {
     "data": {
      "text/plain": [
       "'http://localhost:8888/notebooks/Ds_10(Files).ipynb'"
      ]
     },
     "execution_count": 12,
     "metadata": {},
     "output_type": "execute_result"
    }
   ],
   "source": [
    "f.read()"
   ]
  },
  {
   "cell_type": "code",
   "execution_count": 18,
   "id": "93ec0905",
   "metadata": {},
   "outputs": [],
   "source": [
    "data = open(\"text.txt\",\"r\")"
   ]
  },
  {
   "cell_type": "code",
   "execution_count": 19,
   "id": "6f128b7f",
   "metadata": {},
   "outputs": [
    {
     "data": {
      "text/plain": [
       "'http://localhost:8888/notebooks/Ds_10(Files).ipynb'"
      ]
     },
     "execution_count": 19,
     "metadata": {},
     "output_type": "execute_result"
    }
   ],
   "source": [
    "data.read()"
   ]
  },
  {
   "cell_type": "code",
   "execution_count": 22,
   "id": "f0a57dcf",
   "metadata": {},
   "outputs": [
    {
     "data": {
      "text/plain": [
       "'http://localhost:8888/notebooks/Ds_10(Files).ipynb'"
      ]
     },
     "execution_count": 22,
     "metadata": {},
     "output_type": "execute_result"
    }
   ],
   "source": [
    "data.readline()"
   ]
  },
  {
   "cell_type": "code",
   "execution_count": 21,
   "id": "c52e4f97",
   "metadata": {},
   "outputs": [
    {
     "data": {
      "text/plain": [
       "0"
      ]
     },
     "execution_count": 21,
     "metadata": {},
     "output_type": "execute_result"
    }
   ],
   "source": [
    "data.seek(0)"
   ]
  },
  {
   "cell_type": "code",
   "execution_count": 23,
   "id": "64ac758b",
   "metadata": {},
   "outputs": [
    {
     "data": {
      "text/plain": [
       "''"
      ]
     },
     "execution_count": 23,
     "metadata": {},
     "output_type": "execute_result"
    }
   ],
   "source": [
    "data.readline()"
   ]
  },
  {
   "cell_type": "code",
   "execution_count": 26,
   "id": "5edbe670",
   "metadata": {},
   "outputs": [
    {
     "data": {
      "text/plain": [
       "10"
      ]
     },
     "execution_count": 26,
     "metadata": {},
     "output_type": "execute_result"
    }
   ],
   "source": [
    "data.seek(10) #this will set the pointer to the "
   ]
  },
  {
   "cell_type": "code",
   "execution_count": 27,
   "id": "93eaf2f3",
   "metadata": {},
   "outputs": [
    {
     "data": {
      "text/plain": [
       "'alhost:8888/notebooks/Ds_10(Files).ipynb'"
      ]
     },
     "execution_count": 27,
     "metadata": {},
     "output_type": "execute_result"
    }
   ],
   "source": [
    "data.readline() #Now it will read from 10th pos"
   ]
  },
  {
   "cell_type": "code",
   "execution_count": 30,
   "id": "3cdb90ca",
   "metadata": {},
   "outputs": [],
   "source": [
    "data1 = open(\"text.txt\",\"r\")"
   ]
  },
  {
   "cell_type": "code",
   "execution_count": 31,
   "id": "875631fc",
   "metadata": {},
   "outputs": [
    {
     "name": "stdout",
     "output_type": "stream",
     "text": [
      "http://localhost:8888/notebooks/Ds_10(Files).ipynb\n"
     ]
    }
   ],
   "source": [
    "for i in data1:\n",
    "    print(i)"
   ]
  },
  {
   "cell_type": "code",
   "execution_count": 32,
   "id": "736f813a",
   "metadata": {},
   "outputs": [],
   "source": [
    "import os"
   ]
  },
  {
   "cell_type": "code",
   "execution_count": 34,
   "id": "6ba8a93a",
   "metadata": {},
   "outputs": [
    {
     "data": {
      "text/plain": [
       "50"
      ]
     },
     "execution_count": 34,
     "metadata": {},
     "output_type": "execute_result"
    }
   ],
   "source": [
    "os.path.getsize(\"text.txt\") #this will show the size of file in byte"
   ]
  },
  {
   "cell_type": "code",
   "execution_count": null,
   "id": "44d52e2b",
   "metadata": {},
   "outputs": [],
   "source": [
    "os.remove(\"text.txt\") #this will remove the file from the Source"
   ]
  },
  {
   "cell_type": "code",
   "execution_count": 37,
   "id": "877c8821",
   "metadata": {},
   "outputs": [],
   "source": [
    "f = open(\"text.txt\",\"w\")"
   ]
  },
  {
   "cell_type": "code",
   "execution_count": 39,
   "id": "de9b9407",
   "metadata": {},
   "outputs": [
    {
     "data": {
      "text/plain": [
       "229"
      ]
     },
     "execution_count": 39,
     "metadata": {},
     "output_type": "execute_result"
    }
   ],
   "source": [
    "f.write(\"Graphs in data structures are used to represent the relationships between objects. Every graph consists of a set of points known as vertices or nodes connected by lines known as edges. The vertices in a network represent entities\")"
   ]
  },
  {
   "cell_type": "code",
   "execution_count": 40,
   "id": "9eb52b5f",
   "metadata": {},
   "outputs": [],
   "source": [
    "f.close()"
   ]
  },
  {
   "cell_type": "code",
   "execution_count": 47,
   "id": "cd7ae410",
   "metadata": {},
   "outputs": [
    {
     "ename": "PermissionError",
     "evalue": "[WinError 32] The process cannot access the file because it is being used by another process: 'text.txt' -> 'newtext.txt'",
     "output_type": "error",
     "traceback": [
      "\u001b[1;31m---------------------------------------------------------------------------\u001b[0m",
      "\u001b[1;31mPermissionError\u001b[0m                           Traceback (most recent call last)",
      "Cell \u001b[1;32mIn [47], line 1\u001b[0m\n\u001b[1;32m----> 1\u001b[0m \u001b[43mos\u001b[49m\u001b[38;5;241;43m.\u001b[39;49m\u001b[43mrename\u001b[49m\u001b[43m(\u001b[49m\u001b[38;5;124;43m\"\u001b[39;49m\u001b[38;5;124;43mtext.txt\u001b[39;49m\u001b[38;5;124;43m\"\u001b[39;49m\u001b[43m,\u001b[49m\u001b[38;5;124;43m\"\u001b[39;49m\u001b[38;5;124;43mnewtext.txt\u001b[39;49m\u001b[38;5;124;43m\"\u001b[39;49m\u001b[43m)\u001b[49m \u001b[38;5;66;03m#this will reaname the file from old to new\u001b[39;00m\n",
      "\u001b[1;31mPermissionError\u001b[0m: [WinError 32] The process cannot access the file because it is being used by another process: 'text.txt' -> 'newtext.txt'"
     ]
    }
   ],
   "source": [
    "os.rename(\"text.txt\",\"newtext.txt\") #this will reaname the file from old to new"
   ]
  },
  {
   "cell_type": "code",
   "execution_count": 48,
   "id": "57171bbd",
   "metadata": {},
   "outputs": [],
   "source": [
    "import shutil\n"
   ]
  },
  {
   "cell_type": "code",
   "execution_count": 49,
   "id": "a0af52c7",
   "metadata": {},
   "outputs": [
    {
     "data": {
      "text/plain": [
       "'copy.txt'"
      ]
     },
     "execution_count": 49,
     "metadata": {},
     "output_type": "execute_result"
    }
   ],
   "source": [
    "shutil.copy(\"text.txt\",\"copy.txt\")"
   ]
  },
  {
   "cell_type": "code",
   "execution_count": 51,
   "id": "a61f8c1f",
   "metadata": {},
   "outputs": [
    {
     "name": "stdout",
     "output_type": "stream",
     "text": [
      "Graphs in data structures are used to represent the relationships between objects. Every graph consists of a set of points known as vertices or nodes connected by lines known as edges. The vertices in a network represent entities\n"
     ]
    }
   ],
   "source": [
    "with open(\"copy.txt\",\"r\") as f :\n",
    "    print(f.read())"
   ]
  },
  {
   "cell_type": "code",
   "execution_count": 52,
   "id": "55948db5",
   "metadata": {},
   "outputs": [
    {
     "name": "stdout",
     "output_type": "stream",
     "text": [
      "15\n"
     ]
    }
   ],
   "source": [
    "with open(\"copy.txt\",\"w\") as f :\n",
    "    print(f.write(\"data structures\"))"
   ]
  },
  {
   "cell_type": "markdown",
   "id": "588a2d3e",
   "metadata": {},
   "source": [
    "# Files Reading and Writing"
   ]
  },
  {
   "cell_type": "code",
   "execution_count": 2,
   "id": "bfd6ced8",
   "metadata": {},
   "outputs": [],
   "source": [
    "data = {\n",
    "    \"name \" : \"Pratyush\",\n",
    "    \"Mail\" : \"pk@gmail.com\",\n",
    "    \"Phoneno\" : 889888989,\n",
    "    \"Subject\" : [\"dataScience\",\"Webdev\", \"Bigdata\",]\n",
    "}\n",
    "#these are also known as json format"
   ]
  },
  {
   "cell_type": "code",
   "execution_count": 3,
   "id": "cf107c3e",
   "metadata": {},
   "outputs": [],
   "source": [
    "import json"
   ]
  },
  {
   "cell_type": "code",
   "execution_count": 4,
   "id": "a4d72164",
   "metadata": {},
   "outputs": [],
   "source": [
    "with open(\"data.json\",\"w\") as f:\n",
    "    json.dump(data,f)\n",
    "\n",
    "#now a data.json file has been Created in my local file"
   ]
  },
  {
   "cell_type": "code",
   "execution_count": 5,
   "id": "c40db4af",
   "metadata": {},
   "outputs": [],
   "source": [
    "with open(\"data.json\",\"r\") as f:\n",
    "    data1 = json.load(f)"
   ]
  },
  {
   "cell_type": "code",
   "execution_count": 6,
   "id": "6c7327f9",
   "metadata": {},
   "outputs": [
    {
     "data": {
      "text/plain": [
       "{'name ': 'Pratyush',\n",
       " 'Mail': 'pk@gmail.com',\n",
       " 'Phoneno': 889888989,\n",
       " 'Subject': ['dataScience', 'Webdev', 'Bigdata']}"
      ]
     },
     "execution_count": 6,
     "metadata": {},
     "output_type": "execute_result"
    }
   ],
   "source": [
    "data1"
   ]
  },
  {
   "cell_type": "code",
   "execution_count": 7,
   "id": "5a079f61",
   "metadata": {},
   "outputs": [
    {
     "data": {
      "text/plain": [
       "['dataScience', 'Webdev', 'Bigdata']"
      ]
     },
     "execution_count": 7,
     "metadata": {},
     "output_type": "execute_result"
    }
   ],
   "source": [
    "data1[\"Subject\"]"
   ]
  },
  {
   "cell_type": "code",
   "execution_count": 8,
   "id": "4d491baa",
   "metadata": {},
   "outputs": [
    {
     "data": {
      "text/plain": [
       "'Bigdata'"
      ]
     },
     "execution_count": 8,
     "metadata": {},
     "output_type": "execute_result"
    }
   ],
   "source": [
    "\n",
    "data1[\"Subject\"][2]"
   ]
  },
  {
   "cell_type": "code",
   "execution_count": 9,
   "id": "e641dd74",
   "metadata": {},
   "outputs": [],
   "source": [
    "#csv\n",
    "#comma seprrated Value Files"
   ]
  },
  {
   "cell_type": "code",
   "execution_count": 10,
   "id": "2acf694c",
   "metadata": {},
   "outputs": [],
   "source": [
    "import csv"
   ]
  },
  {
   "cell_type": "code",
   "execution_count": 13,
   "id": "6d7a4237",
   "metadata": {},
   "outputs": [],
   "source": [
    "data = [\n",
    "    [\"Name\",\"Email\",\"Phone\"],\n",
    "    [\"Pratyush\",\"myself.pratyush@outlook.com\",67676767676],\n",
    "    [\"Chirag\",\"@gmail.com\",87689689668]\n",
    "]"
   ]
  },
  {
   "cell_type": "code",
   "execution_count": null,
   "id": "4cf7c3c6",
   "metadata": {},
   "outputs": [],
   "source": [
    "with open(\"data.csv\",\"w\") as f:\n",
    "    writer = csv.writer(f)\n",
    "    \n",
    "    for i in data:\n",
    "        writer.writerow(i)\n",
    "#now a data.csv has been created in the path file\n",
    "    "
   ]
  },
  {
   "cell_type": "code",
   "execution_count": 17,
   "id": "a8e751ce",
   "metadata": {},
   "outputs": [
    {
     "name": "stdout",
     "output_type": "stream",
     "text": [
      "['Name', 'Email', 'Phone']\n",
      "[]\n",
      "['Pratyush', 'myself.pratyush@outlook.com', '67676767676']\n",
      "[]\n",
      "['Chirag', '@gmail.com', '87689689668']\n",
      "[]\n"
     ]
    }
   ],
   "source": [
    "with open(\"data.csv\",\"r\") as f:\n",
    "    read_csv = csv.reader(f)\n",
    "    \n",
    "    for i in read_csv:\n",
    "        print(i)"
   ]
  },
  {
   "cell_type": "code",
   "execution_count": 18,
   "id": "0a2d9d04",
   "metadata": {},
   "outputs": [],
   "source": [
    "#create a Binary File"
   ]
  },
  {
   "cell_type": "code",
   "execution_count": 20,
   "id": "f3268ea4",
   "metadata": {},
   "outputs": [],
   "source": [
    "with open(\"testbinary.bin\",\"wb\") as f:\n",
    "    f.write(b\"\\x01\\x02\\x03\\x3454235\")\n",
    "#create a Binary File"
   ]
  },
  {
   "cell_type": "code",
   "execution_count": 22,
   "id": "9e6cb7e8",
   "metadata": {},
   "outputs": [
    {
     "name": "stdout",
     "output_type": "stream",
     "text": [
      "b'\\x01\\x02\\x03454235'\n"
     ]
    }
   ],
   "source": [
    "with open(\"testbinary.bin\",\"rb\") as f:\n",
    "    print(f.read())\n",
    "#open that file"
   ]
  },
  {
   "cell_type": "markdown",
   "id": "ec108e22",
   "metadata": {},
   "source": [
    "# Buffer Read And Write"
   ]
  },
  {
   "cell_type": "code",
   "execution_count": 23,
   "id": "57ebf3ba",
   "metadata": {},
   "outputs": [],
   "source": [
    "import io"
   ]
  },
  {
   "cell_type": "code",
   "execution_count": 27,
   "id": "7a2d76e4",
   "metadata": {},
   "outputs": [],
   "source": [
    "with open(\"test1.csv\",\"wb\") as f:\n",
    "    file = io.BufferedWriter(f)\n",
    "    \n",
    "    file.write(b\"this is my first line to write\\n\")\n",
    "    file.write(b\"this is my Second line to write\")\n",
    "    file.flush()\n",
    "#it is same as Read and writing the only diffrence is that it will write files in chunks and other will not"
   ]
  },
  {
   "cell_type": "code",
   "execution_count": 30,
   "id": "8edfe4f6",
   "metadata": {},
   "outputs": [
    {
     "ename": "FileNotFoundError",
     "evalue": "[Errno 2] No such file or directory: 'testbinary.txt'",
     "output_type": "error",
     "traceback": [
      "\u001b[1;31m---------------------------------------------------------------------------\u001b[0m",
      "\u001b[1;31mFileNotFoundError\u001b[0m                         Traceback (most recent call last)",
      "Cell \u001b[1;32mIn [30], line 1\u001b[0m\n\u001b[1;32m----> 1\u001b[0m \u001b[38;5;28;01mwith\u001b[39;00m \u001b[38;5;28;43mopen\u001b[39;49m\u001b[43m(\u001b[49m\u001b[38;5;124;43m\"\u001b[39;49m\u001b[38;5;124;43mtestbinary.txt\u001b[39;49m\u001b[38;5;124;43m\"\u001b[39;49m\u001b[43m,\u001b[49m\u001b[38;5;124;43m\"\u001b[39;49m\u001b[38;5;124;43mrb\u001b[39;49m\u001b[38;5;124;43m\"\u001b[39;49m\u001b[43m)\u001b[49m \u001b[38;5;28;01mas\u001b[39;00m f:\n\u001b[0;32m      2\u001b[0m     file \u001b[38;5;241m=\u001b[39m io\u001b[38;5;241m.\u001b[39mBufferedReader(f)\n\u001b[0;32m      3\u001b[0m     \u001b[38;5;28mprint\u001b[39m(file\u001b[38;5;241m.\u001b[39mread())\n",
      "File \u001b[1;32m~\\AppData\\Local\\Programs\\Python\\Python39\\lib\\site-packages\\IPython\\core\\interactiveshell.py:282\u001b[0m, in \u001b[0;36m_modified_open\u001b[1;34m(file, *args, **kwargs)\u001b[0m\n\u001b[0;32m    275\u001b[0m \u001b[38;5;28;01mif\u001b[39;00m file \u001b[38;5;129;01min\u001b[39;00m {\u001b[38;5;241m0\u001b[39m, \u001b[38;5;241m1\u001b[39m, \u001b[38;5;241m2\u001b[39m}:\n\u001b[0;32m    276\u001b[0m     \u001b[38;5;28;01mraise\u001b[39;00m \u001b[38;5;167;01mValueError\u001b[39;00m(\n\u001b[0;32m    277\u001b[0m         \u001b[38;5;124mf\u001b[39m\u001b[38;5;124m\"\u001b[39m\u001b[38;5;124mIPython won\u001b[39m\u001b[38;5;124m'\u001b[39m\u001b[38;5;124mt let you open fd=\u001b[39m\u001b[38;5;132;01m{\u001b[39;00mfile\u001b[38;5;132;01m}\u001b[39;00m\u001b[38;5;124m by default \u001b[39m\u001b[38;5;124m\"\u001b[39m\n\u001b[0;32m    278\u001b[0m         \u001b[38;5;124m\"\u001b[39m\u001b[38;5;124mas it is likely to crash IPython. If you know what you are doing, \u001b[39m\u001b[38;5;124m\"\u001b[39m\n\u001b[0;32m    279\u001b[0m         \u001b[38;5;124m\"\u001b[39m\u001b[38;5;124myou can use builtins\u001b[39m\u001b[38;5;124m'\u001b[39m\u001b[38;5;124m open.\u001b[39m\u001b[38;5;124m\"\u001b[39m\n\u001b[0;32m    280\u001b[0m     )\n\u001b[1;32m--> 282\u001b[0m \u001b[38;5;28;01mreturn\u001b[39;00m io_open(file, \u001b[38;5;241m*\u001b[39margs, \u001b[38;5;241m*\u001b[39m\u001b[38;5;241m*\u001b[39mkwargs)\n",
      "\u001b[1;31mFileNotFoundError\u001b[0m: [Errno 2] No such file or directory: 'testbinary.txt'"
     ]
    }
   ],
   "source": [
    "with open(\"testbinary.txt\",\"rb\") as f:\n",
    "    file = io.BufferedReader(f)\n",
    "    print(file.read())"
   ]
  },
  {
   "cell_type": "markdown",
   "id": "465fee89",
   "metadata": {},
   "source": [
    "# Logging and Debugger"
   ]
  },
  {
   "cell_type": "code",
   "execution_count": 1,
   "id": "6f8eaaf8",
   "metadata": {},
   "outputs": [],
   "source": [
    "import logging"
   ]
  },
  {
   "cell_type": "code",
   "execution_count": 33,
   "id": "a1bf02e7",
   "metadata": {},
   "outputs": [],
   "source": [
    "logging.basicConfig(filename = \"test.log\",level = logging.INFO)\n",
    "#with this statment user will able to make a \"Logfile\""
   ]
  },
  {
   "cell_type": "code",
   "execution_count": 34,
   "id": "09d26d25",
   "metadata": {},
   "outputs": [],
   "source": [
    "logging.info(\"Log this line of excution\")"
   ]
  },
  {
   "cell_type": "code",
   "execution_count": 36,
   "id": "3683e672",
   "metadata": {},
   "outputs": [],
   "source": [
    "logging.info(\"this will save into file\")\n"
   ]
  },
  {
   "cell_type": "markdown",
   "id": "ff8a8f18",
   "metadata": {},
   "source": [
    "1.NOTSET\n",
    "\n",
    "2.DEBUG\n",
    "\n",
    "3.INFO\n",
    "\n",
    "4.WARNING\n",
    "\n",
    "5.ERROR\n",
    "\n",
    "6.CRITICAL"
   ]
  },
  {
   "cell_type": "code",
   "execution_count": 38,
   "id": "9f9a54d5",
   "metadata": {},
   "outputs": [],
   "source": [
    "logging.debug(\"This is my msg\") \n",
    "#this will not log to the file because \"level = INFO\" we put"
   ]
  },
  {
   "cell_type": "code",
   "execution_count": 39,
   "id": "a93017aa",
   "metadata": {},
   "outputs": [],
   "source": [
    "logging.warning(\"This is my warning Information\")"
   ]
  },
  {
   "cell_type": "code",
   "execution_count": 40,
   "id": "c0e5cc42",
   "metadata": {},
   "outputs": [],
   "source": [
    "logging.error(\"This is my error message\")"
   ]
  },
  {
   "cell_type": "code",
   "execution_count": 41,
   "id": "37a0eed5",
   "metadata": {},
   "outputs": [],
   "source": [
    "logging.critical(\"this is my critical message\")"
   ]
  },
  {
   "cell_type": "markdown",
   "id": "25cc8b9f",
   "metadata": {},
   "source": [
    "logging module is a module which will permanantly save the message into a log file in disk which will use in future for any investigation purpose "
   ]
  },
  {
   "cell_type": "code",
   "execution_count": 3,
   "id": "7e3ee804",
   "metadata": {},
   "outputs": [],
   "source": [
    "logging.basicConfig(filename = \"log1.log\",level = logging.debug,format = '%(asctime)s %(message)s')"
   ]
  },
  {
   "cell_type": "code",
   "execution_count": 4,
   "id": "5e85057f",
   "metadata": {},
   "outputs": [],
   "source": [
    "logging.info(\"This is my info logging\")\n",
    "logging.error(\"This is my error msg\")\n",
    "logging.critical(\"This is my critical\")"
   ]
  },
  {
   "cell_type": "code",
   "execution_count": 5,
   "id": "f64c0723",
   "metadata": {},
   "outputs": [],
   "source": [
    "logging.shutdown()"
   ]
  },
  {
   "cell_type": "code",
   "execution_count": 2,
   "id": "97bdd108",
   "metadata": {},
   "outputs": [],
   "source": [
    "logging.basicConfig(filename = 'log2.log',level = logging.DEBUG,format ='%(asctime)s %(name)s %(levelname)s  %(message)s' )"
   ]
  },
  {
   "cell_type": "code",
   "execution_count": 3,
   "id": "509f9ac4",
   "metadata": {},
   "outputs": [],
   "source": [
    "logging.info(\"This is my info logging\")\n",
    "logging.error(\"This is my error msg\")\n",
    "logging.critical(\"This is my critical\")"
   ]
  },
  {
   "cell_type": "code",
   "execution_count": 5,
   "id": "1874e827",
   "metadata": {},
   "outputs": [],
   "source": [
    "l = [1,2,3,4,5,6,6,7,7,[2,3,4],\"Pratyush\",\"Kumar\"]"
   ]
  },
  {
   "cell_type": "code",
   "execution_count": 14,
   "id": "204d4b29",
   "metadata": {},
   "outputs": [],
   "source": [
    "l1 = []\n",
    "l2 = []\n",
    "for i in l:\n",
    "    logging.info(\"We are iterating through our local var is {}\".format(l))\n",
    "    if type(i) == list:\n",
    "        logging.info(\"Inside if statment and tryimg to check condition\"+str(i))\n",
    "        for j in i:\n",
    "            logging.info(\"Inside for statment and tryimg to check condition\"+str(j))\n",
    "            if type(j) == int:\n",
    "                logging.info(\"Inside if statment and tryimg to check condition\")\n",
    "                l1.append(j)\n",
    "    elif type(i)==int:\n",
    "        l1.append(i)\n",
    "    else:\n",
    "        if type(i)==str:\n",
    "            l2.append(i)\n",
    "logging.info(\"My final result for int is {l1} and  str is {l2}\".format(l1 = l1,l2 = l2))\n",
    "            \n",
    "    \n",
    "#with these statment we can save the every step of console into the log file and can save into the disk\n",
    "            "
   ]
  },
  {
   "cell_type": "code",
   "execution_count": 8,
   "id": "d437e426",
   "metadata": {},
   "outputs": [
    {
     "data": {
      "text/plain": [
       "[1, 2, 3, 4, 5, 6, 6, 7, 7, 2, 3, 4]"
      ]
     },
     "execution_count": 8,
     "metadata": {},
     "output_type": "execute_result"
    }
   ],
   "source": [
    "l1"
   ]
  },
  {
   "cell_type": "code",
   "execution_count": 9,
   "id": "e79c9b68",
   "metadata": {},
   "outputs": [
    {
     "data": {
      "text/plain": [
       "['Pratyush', 'Kumar']"
      ]
     },
     "execution_count": 9,
     "metadata": {},
     "output_type": "execute_result"
    }
   ],
   "source": [
    "l2"
   ]
  },
  {
   "cell_type": "code",
   "execution_count": null,
   "id": "a471a081",
   "metadata": {},
   "outputs": [],
   "source": []
  }
 ],
 "metadata": {
  "kernelspec": {
   "display_name": "Python 3 (ipykernel)",
   "language": "python",
   "name": "python3"
  },
  "language_info": {
   "codemirror_mode": {
    "name": "ipython",
    "version": 3
   },
   "file_extension": ".py",
   "mimetype": "text/x-python",
   "name": "python",
   "nbconvert_exporter": "python",
   "pygments_lexer": "ipython3",
   "version": "3.9.13"
  }
 },
 "nbformat": 4,
 "nbformat_minor": 5
}
