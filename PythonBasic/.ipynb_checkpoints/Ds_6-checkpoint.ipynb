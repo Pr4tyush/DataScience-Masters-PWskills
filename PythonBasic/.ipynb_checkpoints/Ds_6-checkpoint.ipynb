{
 "cells": [
  {
   "cell_type": "markdown",
   "id": "d948423f",
   "metadata": {},
   "source": [
    "# Genrator_Function"
   ]
  },
  {
   "cell_type": "markdown",
   "id": "57ae02af",
   "metadata": {},
   "source": [
    "In Python, a generator is a function that returns an iterator that produces a sequence of values when iterated over. Generators are useful when we want to produce a large sequence of values, but we don't want to store all of them in memory at once.\n"
   ]
  },
  {
   "cell_type": "code",
   "execution_count": 4,
   "id": "f1e2559b",
   "metadata": {},
   "outputs": [],
   "source": [
    "def fib(n):\n",
    "    a = 0\n",
    "    b = 1\n",
    "    for i in range(n):\n",
    "        yield a\n",
    "        a = b\n",
    "        b = a+b"
   ]
  },
  {
   "cell_type": "code",
   "execution_count": 5,
   "id": "5384ecd8",
   "metadata": {},
   "outputs": [
    {
     "name": "stdout",
     "output_type": "stream",
     "text": [
      "0\n",
      "1\n",
      "2\n",
      "4\n",
      "8\n",
      "16\n",
      "32\n",
      "64\n",
      "128\n",
      "256\n"
     ]
    }
   ],
   "source": [
    "for i in fib(10):\n",
    "    print(i)"
   ]
  },
  {
   "cell_type": "markdown",
   "id": "971b7c6a",
   "metadata": {},
   "source": [
    "Iterator"
   ]
  },
  {
   "cell_type": "markdown",
   "id": "79a07c16",
   "metadata": {},
   "source": [
    "An iterator is an object that contains a countable number of values. An iterator is an object that can be iterated upon, meaning that you can traverse through all the values "
   ]
  },
  {
   "cell_type": "markdown",
   "id": "6c75a44c",
   "metadata": {},
   "source": [
    "Iterable"
   ]
  },
  {
   "cell_type": "markdown",
   "id": "c30b1b1f",
   "metadata": {},
   "source": [
    "Iterable are those which are changed into iterator"
   ]
  },
  {
   "cell_type": "markdown",
   "id": "b134f63a",
   "metadata": {},
   "source": [
    "# Just use \"yeild\" function on The place of \"Return\" in any while Loop that will become it a Genrator Function"
   ]
  },
  {
   "cell_type": "markdown",
   "id": "5b0676b0",
   "metadata": {},
   "source": [
    "Lambda Function"
   ]
  },
  {
   "cell_type": "code",
   "execution_count": 7,
   "id": "c343eb5f",
   "metadata": {},
   "outputs": [
    {
     "data": {
      "text/plain": [
       "<function __main__.<lambda>(n, p)>"
      ]
     },
     "execution_count": 7,
     "metadata": {},
     "output_type": "execute_result"
    }
   ],
   "source": [
    "lambda n,p:n**p"
   ]
  },
  {
   "cell_type": "code",
   "execution_count": 11,
   "id": "9f931c03",
   "metadata": {},
   "outputs": [],
   "source": [
    "a = lambda n,p:n**p #these are also known as Oneliner functions or Lambda function"
   ]
  },
  {
   "cell_type": "code",
   "execution_count": 10,
   "id": "a91afe7f",
   "metadata": {},
   "outputs": [
    {
     "data": {
      "text/plain": [
       "8"
      ]
     },
     "execution_count": 10,
     "metadata": {},
     "output_type": "execute_result"
    }
   ],
   "source": [
    "a(2,3)"
   ]
  },
  {
   "cell_type": "code",
   "execution_count": 12,
   "id": "3bf5f984",
   "metadata": {},
   "outputs": [],
   "source": [
    "add = lambda n,p:n+p"
   ]
  },
  {
   "cell_type": "code",
   "execution_count": 13,
   "id": "e0c6bc17",
   "metadata": {},
   "outputs": [
    {
     "data": {
      "text/plain": [
       "16"
      ]
     },
     "execution_count": 13,
     "metadata": {},
     "output_type": "execute_result"
    }
   ],
   "source": [
    "add(7,9)"
   ]
  },
  {
   "cell_type": "code",
   "execution_count": 14,
   "id": "b3dc28f1",
   "metadata": {},
   "outputs": [],
   "source": [
    "x_or_y = lambda x,y:x if x>y else y"
   ]
  },
  {
   "cell_type": "code",
   "execution_count": 15,
   "id": "470b9941",
   "metadata": {},
   "outputs": [
    {
     "data": {
      "text/plain": [
       "3"
      ]
     },
     "execution_count": 15,
     "metadata": {},
     "output_type": "execute_result"
    }
   ],
   "source": [
    "x_or_y(2,3)"
   ]
  },
  {
   "cell_type": "code",
   "execution_count": 16,
   "id": "0119600b",
   "metadata": {},
   "outputs": [],
   "source": [
    "s = \"Pratyush\""
   ]
  },
  {
   "cell_type": "code",
   "execution_count": 17,
   "id": "0a4b8731",
   "metadata": {},
   "outputs": [],
   "source": [
    "strg = lambda length:len(length)"
   ]
  },
  {
   "cell_type": "code",
   "execution_count": 18,
   "id": "bbbc13cc",
   "metadata": {},
   "outputs": [
    {
     "data": {
      "text/plain": [
       "8"
      ]
     },
     "execution_count": 18,
     "metadata": {},
     "output_type": "execute_result"
    }
   ],
   "source": [
    "strg(s)"
   ]
  },
  {
   "cell_type": "code",
   "execution_count": null,
   "id": "53b56d8a",
   "metadata": {},
   "outputs": [],
   "source": []
  }
 ],
 "metadata": {
  "kernelspec": {
   "display_name": "Python 3 (ipykernel)",
   "language": "python",
   "name": "python3"
  },
  "language_info": {
   "codemirror_mode": {
    "name": "ipython",
    "version": 3
   },
   "file_extension": ".py",
   "mimetype": "text/x-python",
   "name": "python",
   "nbconvert_exporter": "python",
   "pygments_lexer": "ipython3",
   "version": "3.9.13"
  }
 },
 "nbformat": 4,
 "nbformat_minor": 5
}
