{
 "cells": [
  {
   "cell_type": "markdown",
   "id": "d2f2b31f",
   "metadata": {},
   "source": [
    "# Ds_4 ForLoop"
   ]
  },
  {
   "cell_type": "markdown",
   "id": "7db1404a",
   "metadata": {},
   "source": [
    "A for loop is a control flow statement that executes code for a predefined number of iterations. The keyword used in this control flow statement is “for”. When the number of iterations is already known, the for loop is used."
   ]
  },
  {
   "cell_type": "code",
   "execution_count": 64,
   "id": "c6539e00",
   "metadata": {},
   "outputs": [],
   "source": [
    "l1 = [\"Pratyush\",\"kumar\",\"Choudhary\",\"Chirag\"]"
   ]
  },
  {
   "cell_type": "code",
   "execution_count": 2,
   "id": "d4417ba1",
   "metadata": {},
   "outputs": [
    {
     "name": "stdout",
     "output_type": "stream",
     "text": [
      "Pratyush\n",
      "kumar\n",
      "Choudhary\n",
      "Chirag\n"
     ]
    }
   ],
   "source": [
    "for i in l1:\n",
    "    print(i)"
   ]
  },
  {
   "cell_type": "code",
   "execution_count": 4,
   "id": "8d132031",
   "metadata": {},
   "outputs": [
    {
     "name": "stdout",
     "output_type": "stream",
     "text": [
      "Pratyush\n",
      "kumar\n",
      "Choudhary\n",
      "Chirag\n",
      "If for loop is able to complete itself then only else will excute\n"
     ]
    }
   ],
   "source": [
    "for i in l1:\n",
    "    print(i)\n",
    "else:\n",
    "    print(\"If for loop is able to complete itself then only else will excute\")"
   ]
  },
  {
   "cell_type": "code",
   "execution_count": 11,
   "id": "6ba1891b",
   "metadata": {},
   "outputs": [
    {
     "name": "stdout",
     "output_type": "stream",
     "text": [
      "Pratyush kumar "
     ]
    }
   ],
   "source": [
    "for i in l1:\n",
    "    if i ==\"Choudhary\":\n",
    "        break   #it will break the statment if the condition occured\n",
    "    print(i,end = \" \")\n",
    "else:\n",
    "    print(\"If for loop is able to complete itself then only else will excute\") #if for loop is able to complete itself then only else will excute"
   ]
  },
  {
   "cell_type": "code",
   "execution_count": 12,
   "id": "be9a9dd3",
   "metadata": {},
   "outputs": [
    {
     "data": {
      "text/plain": [
       "['Pratyush', 'kumar', 'Choudhary', 'Chirag']"
      ]
     },
     "execution_count": 12,
     "metadata": {},
     "output_type": "execute_result"
    }
   ],
   "source": [
    "l1"
   ]
  },
  {
   "cell_type": "code",
   "execution_count": 14,
   "id": "8bfb9c4f",
   "metadata": {},
   "outputs": [
    {
     "name": "stdout",
     "output_type": "stream",
     "text": [
      "Pratyush\n",
      "kumar\n",
      "Chirag\n"
     ]
    }
   ],
   "source": [
    "for i in l1:\n",
    "    if i ==\"Choudhary\":\n",
    "        continue  #it will escape the particular data and doesnt print it and print the next data from the list\n",
    "    print(i)"
   ]
  },
  {
   "cell_type": "code",
   "execution_count": 15,
   "id": "fdfc11aa",
   "metadata": {},
   "outputs": [
    {
     "data": {
      "text/plain": [
       "range(0, 5)"
      ]
     },
     "execution_count": 15,
     "metadata": {},
     "output_type": "execute_result"
    }
   ],
   "source": [
    "range(5)"
   ]
  },
  {
   "cell_type": "code",
   "execution_count": 16,
   "id": "1fc46cdd",
   "metadata": {},
   "outputs": [
    {
     "data": {
      "text/plain": [
       "[0, 1, 2, 3, 4]"
      ]
     },
     "execution_count": 16,
     "metadata": {},
     "output_type": "execute_result"
    }
   ],
   "source": [
    "list(range(0,5))"
   ]
  },
  {
   "cell_type": "code",
   "execution_count": 17,
   "id": "25eeb4e7",
   "metadata": {},
   "outputs": [
    {
     "data": {
      "text/plain": [
       "[0, 2, 4, 6, 8]"
      ]
     },
     "execution_count": 17,
     "metadata": {},
     "output_type": "execute_result"
    }
   ],
   "source": [
    "list(range(0,10,2)) #it will jump two numbers \"THIRD DIGIT IN RANGE WILL TAKE INPUT AS TO PRINT THAT JUMP NUMBERS\""
   ]
  },
  {
   "cell_type": "code",
   "execution_count": 18,
   "id": "15ada9d5",
   "metadata": {},
   "outputs": [
    {
     "data": {
      "text/plain": [
       "['Pratyush', 'kumar', 'Choudhary', 'Chirag']"
      ]
     },
     "execution_count": 18,
     "metadata": {},
     "output_type": "execute_result"
    }
   ],
   "source": [
    "l1"
   ]
  },
  {
   "cell_type": "code",
   "execution_count": 26,
   "id": "81cbbe2e",
   "metadata": {},
   "outputs": [
    {
     "name": "stdout",
     "output_type": "stream",
     "text": [
      "Pratyush\n",
      "kumar\n",
      "Choudhary\n",
      "Chirag\n"
     ]
    }
   ],
   "source": [
    "for i in range(len(l1)):\n",
    "    print(l1[i])"
   ]
  },
  {
   "cell_type": "code",
   "execution_count": 27,
   "id": "6b2302ba",
   "metadata": {},
   "outputs": [
    {
     "name": "stdout",
     "output_type": "stream",
     "text": [
      "Chirag\n",
      "Choudhary\n",
      "kumar\n",
      "Pratyush\n"
     ]
    }
   ],
   "source": [
    "for i in range(len(l1)-1,-1,-1):\n",
    "    print(l1[i])"
   ]
  },
  {
   "cell_type": "code",
   "execution_count": 28,
   "id": "4c61bb86",
   "metadata": {},
   "outputs": [],
   "source": [
    "l2 = [1,2,3,4,5,6,7,8,9,10,11,12,]"
   ]
  },
  {
   "cell_type": "code",
   "execution_count": 29,
   "id": "2f2f49df",
   "metadata": {},
   "outputs": [
    {
     "data": {
      "text/plain": [
       "range(0, 12, 2)"
      ]
     },
     "execution_count": 29,
     "metadata": {},
     "output_type": "execute_result"
    }
   ],
   "source": [
    "range(0,len(l2),2)"
   ]
  },
  {
   "cell_type": "code",
   "execution_count": 30,
   "id": "8972ef75",
   "metadata": {},
   "outputs": [
    {
     "data": {
      "text/plain": [
       "[0, 2, 4, 6, 8, 10]"
      ]
     },
     "execution_count": 30,
     "metadata": {},
     "output_type": "execute_result"
    }
   ],
   "source": [
    "list(range(0,len(l2),2))"
   ]
  },
  {
   "cell_type": "code",
   "execution_count": 39,
   "id": "b421118e",
   "metadata": {},
   "outputs": [
    {
     "name": "stdout",
     "output_type": "stream",
     "text": [
      "1 3 5 7 9 11 "
     ]
    }
   ],
   "source": [
    "for i in range(0,len(l2),2):\n",
    "    print(l2[i],end = \" \")"
   ]
  },
  {
   "cell_type": "code",
   "execution_count": 41,
   "id": "93e5463e",
   "metadata": {},
   "outputs": [
    {
     "data": {
      "text/plain": [
       "[1, 2, 3, 4, 5, 6, 7, 8, 9, 10, 11, 12]"
      ]
     },
     "execution_count": 41,
     "metadata": {},
     "output_type": "execute_result"
    }
   ],
   "source": [
    "l2"
   ]
  },
  {
   "cell_type": "code",
   "execution_count": 49,
   "id": "501ef3f1",
   "metadata": {},
   "outputs": [
    {
     "name": "stdout",
     "output_type": "stream",
     "text": [
      "78\n"
     ]
    }
   ],
   "source": [
    "result = 0\n",
    "for i in l2:\n",
    "    result = result+i\n",
    "print(result)"
   ]
  },
  {
   "cell_type": "code",
   "execution_count": 50,
   "id": "e768df90",
   "metadata": {},
   "outputs": [
    {
     "data": {
      "text/plain": [
       "78"
      ]
     },
     "execution_count": 50,
     "metadata": {},
     "output_type": "execute_result"
    }
   ],
   "source": [
    "sum(l2)"
   ]
  },
  {
   "cell_type": "code",
   "execution_count": 52,
   "id": "46609ce2",
   "metadata": {},
   "outputs": [
    {
     "name": "stdout",
     "output_type": "stream",
     "text": [
      "pratyush\n",
      "1\n",
      "2\n",
      "3\n",
      "4\n"
     ]
    }
   ],
   "source": [
    "s = {1,2,3,4,\"pratyush\"}\n",
    "for i in s:\n",
    "    print(i)"
   ]
  },
  {
   "cell_type": "code",
   "execution_count": 55,
   "id": "608fe120",
   "metadata": {},
   "outputs": [
    {
     "name": "stdout",
     "output_type": "stream",
     "text": [
      "P r a t y u s h "
     ]
    }
   ],
   "source": [
    "st = \"Pratyush\"\n",
    "for i in st:\n",
    "    print(i,end = \" \")"
   ]
  },
  {
   "cell_type": "code",
   "execution_count": 56,
   "id": "6294d467",
   "metadata": {},
   "outputs": [],
   "source": [
    "d = {\"name\": \"Pratyush\",\"City\":\"Noida\",\"Pincode\":878787,\"EMail\":\"@gmail.com\",\"Skills\":[\"Datascience\",\"ML\",\"Webd\",\"OS\",\"Datastructures\",\"ComputerNetwork\"]}"
   ]
  },
  {
   "cell_type": "code",
   "execution_count": 57,
   "id": "00a3b51c",
   "metadata": {},
   "outputs": [
    {
     "data": {
      "text/plain": [
       "{'name': 'Pratyush',\n",
       " 'City': 'Noida',\n",
       " 'Pincode': 878787,\n",
       " 'EMail': '@gmail.com',\n",
       " 'Skills': ['Datascience',\n",
       "  'ML',\n",
       "  'Webd',\n",
       "  'OS',\n",
       "  'Datastructures',\n",
       "  'ComputerNetwork']}"
      ]
     },
     "execution_count": 57,
     "metadata": {},
     "output_type": "execute_result"
    }
   ],
   "source": [
    "d"
   ]
  },
  {
   "cell_type": "code",
   "execution_count": 58,
   "id": "0f1b7e74",
   "metadata": {},
   "outputs": [
    {
     "data": {
      "text/plain": [
       "dict_keys(['name', 'City', 'Pincode', 'EMail', 'Skills'])"
      ]
     },
     "execution_count": 58,
     "metadata": {},
     "output_type": "execute_result"
    }
   ],
   "source": [
    "d.keys()"
   ]
  },
  {
   "cell_type": "code",
   "execution_count": 59,
   "id": "de3052af",
   "metadata": {},
   "outputs": [
    {
     "name": "stdout",
     "output_type": "stream",
     "text": [
      "Pratyush\n",
      "Noida\n",
      "878787\n",
      "@gmail.com\n",
      "['Datascience', 'ML', 'Webd', 'OS', 'Datastructures', 'ComputerNetwork']\n"
     ]
    }
   ],
   "source": [
    "for i in d.keys():\n",
    "    print(d[i])"
   ]
  },
  {
   "cell_type": "code",
   "execution_count": 60,
   "id": "84fe649d",
   "metadata": {},
   "outputs": [
    {
     "data": {
      "text/plain": [
       "dict_values(['Pratyush', 'Noida', 878787, '@gmail.com', ['Datascience', 'ML', 'Webd', 'OS', 'Datastructures', 'ComputerNetwork']])"
      ]
     },
     "execution_count": 60,
     "metadata": {},
     "output_type": "execute_result"
    }
   ],
   "source": [
    "d.values()"
   ]
  },
  {
   "cell_type": "code",
   "execution_count": 62,
   "id": "776d6776",
   "metadata": {},
   "outputs": [
    {
     "name": "stdout",
     "output_type": "stream",
     "text": [
      "Pratyush\n",
      "Noida\n",
      "878787\n",
      "@gmail.com\n",
      "['Datascience', 'ML', 'Webd', 'OS', 'Datastructures', 'ComputerNetwork']\n"
     ]
    }
   ],
   "source": [
    "for i in d.values():\n",
    "    print(i)"
   ]
  },
  {
   "cell_type": "code",
   "execution_count": null,
   "id": "29cd4adb",
   "metadata": {},
   "outputs": [],
   "source": []
  }
 ],
 "metadata": {
  "kernelspec": {
   "display_name": "Python 3 (ipykernel)",
   "language": "python",
   "name": "python3"
  },
  "language_info": {
   "codemirror_mode": {
    "name": "ipython",
    "version": 3
   },
   "file_extension": ".py",
   "mimetype": "text/x-python",
   "name": "python",
   "nbconvert_exporter": "python",
   "pygments_lexer": "ipython3",
   "version": "3.9.13"
  }
 },
 "nbformat": 4,
 "nbformat_minor": 5
}
