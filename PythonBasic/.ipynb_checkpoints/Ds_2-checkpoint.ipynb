{
 "cells": [
  {
   "cell_type": "markdown",
   "id": "649e3f08",
   "metadata": {},
   "source": [
    "# Day 2 PwDataScienceMasters "
   ]
  },
  {
   "cell_type": "code",
   "execution_count": 1,
   "id": "adb91e06",
   "metadata": {},
   "outputs": [],
   "source": [
    "l = [1,2,\"Pratyush\",1.2,8+5j]"
   ]
  },
  {
   "cell_type": "code",
   "execution_count": 2,
   "id": "836e2a78",
   "metadata": {},
   "outputs": [
    {
     "data": {
      "text/plain": [
       "[1, 2, 'Pratyush', 1.2, (8+5j)]"
      ]
     },
     "execution_count": 2,
     "metadata": {},
     "output_type": "execute_result"
    }
   ],
   "source": [
    "l"
   ]
  },
  {
   "cell_type": "code",
   "execution_count": 3,
   "id": "fabf0c90",
   "metadata": {},
   "outputs": [
    {
     "data": {
      "text/plain": [
       "list"
      ]
     },
     "execution_count": 3,
     "metadata": {},
     "output_type": "execute_result"
    }
   ],
   "source": [
    "type(l)"
   ]
  },
  {
   "cell_type": "code",
   "execution_count": 4,
   "id": "b4a3bbab",
   "metadata": {},
   "outputs": [
    {
     "data": {
      "text/plain": [
       "1"
      ]
     },
     "execution_count": 4,
     "metadata": {},
     "output_type": "execute_result"
    }
   ],
   "source": [
    "l[0]"
   ]
  },
  {
   "cell_type": "code",
   "execution_count": 5,
   "id": "b97aa18e",
   "metadata": {},
   "outputs": [
    {
     "data": {
      "text/plain": [
       "'Pratyush'"
      ]
     },
     "execution_count": 5,
     "metadata": {},
     "output_type": "execute_result"
    }
   ],
   "source": [
    "l[2]"
   ]
  },
  {
   "cell_type": "code",
   "execution_count": 6,
   "id": "52fede22",
   "metadata": {},
   "outputs": [
    {
     "data": {
      "text/plain": [
       "1.2"
      ]
     },
     "execution_count": 6,
     "metadata": {},
     "output_type": "execute_result"
    }
   ],
   "source": [
    "l[3]"
   ]
  },
  {
   "cell_type": "code",
   "execution_count": 7,
   "id": "9d428840",
   "metadata": {},
   "outputs": [
    {
     "ename": "IndexError",
     "evalue": "list index out of range",
     "output_type": "error",
     "traceback": [
      "\u001b[1;31m---------------------------------------------------------------------------\u001b[0m",
      "\u001b[1;31mIndexError\u001b[0m                                Traceback (most recent call last)",
      "Cell \u001b[1;32mIn [7], line 1\u001b[0m\n\u001b[1;32m----> 1\u001b[0m \u001b[43ml\u001b[49m\u001b[43m[\u001b[49m\u001b[38;5;241;43m90\u001b[39;49m\u001b[43m]\u001b[49m\n",
      "\u001b[1;31mIndexError\u001b[0m: list index out of range"
     ]
    }
   ],
   "source": [
    "l[90]"
   ]
  },
  {
   "cell_type": "code",
   "execution_count": 9,
   "id": "2cef4eba",
   "metadata": {},
   "outputs": [
    {
     "data": {
      "text/plain": [
       "[1, 2, 'Pratyush']"
      ]
     },
     "execution_count": 9,
     "metadata": {},
     "output_type": "execute_result"
    }
   ],
   "source": [
    "l[0:3]"
   ]
  },
  {
   "cell_type": "code",
   "execution_count": 10,
   "id": "9a912faa",
   "metadata": {},
   "outputs": [
    {
     "data": {
      "text/plain": [
       "[(8+5j), 1.2, 'Pratyush', 2, 1]"
      ]
     },
     "execution_count": 10,
     "metadata": {},
     "output_type": "execute_result"
    }
   ],
   "source": [
    "l[::-1]"
   ]
  },
  {
   "cell_type": "code",
   "execution_count": 11,
   "id": "eeeda692",
   "metadata": {},
   "outputs": [
    {
     "data": {
      "text/plain": [
       "[1, 'Pratyush', (8+5j)]"
      ]
     },
     "execution_count": 11,
     "metadata": {},
     "output_type": "execute_result"
    }
   ],
   "source": [
    "l[::2]"
   ]
  },
  {
   "cell_type": "code",
   "execution_count": 12,
   "id": "cadc6d53",
   "metadata": {},
   "outputs": [
    {
     "data": {
      "text/plain": [
       "[(8+5j), 'Pratyush', 1]"
      ]
     },
     "execution_count": 12,
     "metadata": {},
     "output_type": "execute_result"
    }
   ],
   "source": [
    "l[::-2]"
   ]
  },
  {
   "cell_type": "code",
   "execution_count": 13,
   "id": "04f10a84",
   "metadata": {},
   "outputs": [],
   "source": [
    "P = \"Pratyush\""
   ]
  },
  {
   "cell_type": "code",
   "execution_count": 14,
   "id": "d76f33be",
   "metadata": {},
   "outputs": [
    {
     "data": {
      "text/plain": [
       "['P', 'r', 'a', 't', 'y', 'u', 's', 'h']"
      ]
     },
     "execution_count": 14,
     "metadata": {},
     "output_type": "execute_result"
    }
   ],
   "source": [
    "list(P)"
   ]
  },
  {
   "cell_type": "code",
   "execution_count": 16,
   "id": "94c6a47e",
   "metadata": {},
   "outputs": [
    {
     "data": {
      "text/plain": [
       "[1, 2, 'Pratyush', 1.2, (8+5j), 'P', 'r', 'a', 't', 'y', 'u', 's', 'h']"
      ]
     },
     "execution_count": 16,
     "metadata": {},
     "output_type": "execute_result"
    }
   ],
   "source": [
    "l+list(P)"
   ]
  },
  {
   "cell_type": "code",
   "execution_count": 17,
   "id": "78a164d0",
   "metadata": {},
   "outputs": [],
   "source": [
    "l.append(\"Pratyush\")"
   ]
  },
  {
   "cell_type": "code",
   "execution_count": 18,
   "id": "45bf4c76",
   "metadata": {},
   "outputs": [
    {
     "data": {
      "text/plain": [
       "[1, 2, 'Pratyush', 1.2, (8+5j), 'Pratyush']"
      ]
     },
     "execution_count": 18,
     "metadata": {},
     "output_type": "execute_result"
    }
   ],
   "source": [
    "l"
   ]
  },
  {
   "cell_type": "code",
   "execution_count": 19,
   "id": "fa7e6ace",
   "metadata": {},
   "outputs": [
    {
     "data": {
      "text/plain": [
       "1.2"
      ]
     },
     "execution_count": 19,
     "metadata": {},
     "output_type": "execute_result"
    }
   ],
   "source": [
    "l[3]"
   ]
  },
  {
   "cell_type": "code",
   "execution_count": 21,
   "id": "8b7dddd1",
   "metadata": {},
   "outputs": [],
   "source": [
    "a = l[2]"
   ]
  },
  {
   "cell_type": "code",
   "execution_count": 22,
   "id": "d980f68b",
   "metadata": {},
   "outputs": [
    {
     "data": {
      "text/plain": [
       "'Pratyush'"
      ]
     },
     "execution_count": 22,
     "metadata": {},
     "output_type": "execute_result"
    }
   ],
   "source": [
    "a"
   ]
  },
  {
   "cell_type": "code",
   "execution_count": 23,
   "id": "f0d2e25a",
   "metadata": {},
   "outputs": [
    {
     "data": {
      "text/plain": [
       "'Pra'"
      ]
     },
     "execution_count": 23,
     "metadata": {},
     "output_type": "execute_result"
    }
   ],
   "source": [
    "a[0:3]"
   ]
  },
  {
   "cell_type": "code",
   "execution_count": 24,
   "id": "50699388",
   "metadata": {},
   "outputs": [
    {
     "data": {
      "text/plain": [
       "[1,\n",
       " 2,\n",
       " 'Pratyush',\n",
       " 1.2,\n",
       " (8+5j),\n",
       " 'Pratyush',\n",
       " 1,\n",
       " 2,\n",
       " 'Pratyush',\n",
       " 1.2,\n",
       " (8+5j),\n",
       " 'Pratyush',\n",
       " 1,\n",
       " 2,\n",
       " 'Pratyush',\n",
       " 1.2,\n",
       " (8+5j),\n",
       " 'Pratyush']"
      ]
     },
     "execution_count": 24,
     "metadata": {},
     "output_type": "execute_result"
    }
   ],
   "source": [
    "l*3"
   ]
  },
  {
   "cell_type": "code",
   "execution_count": 27,
   "id": "0474c2f9",
   "metadata": {},
   "outputs": [
    {
     "data": {
      "text/plain": [
       "2"
      ]
     },
     "execution_count": 27,
     "metadata": {},
     "output_type": "execute_result"
    }
   ],
   "source": [
    "l.count(\"Pratyush\")"
   ]
  },
  {
   "cell_type": "code",
   "execution_count": 28,
   "id": "b4dfdf19",
   "metadata": {},
   "outputs": [
    {
     "data": {
      "text/plain": [
       "6"
      ]
     },
     "execution_count": 28,
     "metadata": {},
     "output_type": "execute_result"
    }
   ],
   "source": [
    "len(l)"
   ]
  },
  {
   "cell_type": "code",
   "execution_count": 29,
   "id": "06080fa1",
   "metadata": {},
   "outputs": [],
   "source": [
    "l2 = [1,2,3]"
   ]
  },
  {
   "cell_type": "code",
   "execution_count": 30,
   "id": "073850c4",
   "metadata": {},
   "outputs": [],
   "source": [
    "l.append(l2)"
   ]
  },
  {
   "cell_type": "code",
   "execution_count": 31,
   "id": "e0f5e784",
   "metadata": {},
   "outputs": [
    {
     "data": {
      "text/plain": [
       "[1, 2, 'Pratyush', 1.2, (8+5j), 'Pratyush', [1, 2, 3]]"
      ]
     },
     "execution_count": 31,
     "metadata": {},
     "output_type": "execute_result"
    }
   ],
   "source": [
    "l"
   ]
  },
  {
   "cell_type": "code",
   "execution_count": 32,
   "id": "2b568cf0",
   "metadata": {},
   "outputs": [
    {
     "data": {
      "text/plain": [
       "3"
      ]
     },
     "execution_count": 32,
     "metadata": {},
     "output_type": "execute_result"
    }
   ],
   "source": [
    "l[-1][2]"
   ]
  },
  {
   "cell_type": "code",
   "execution_count": 34,
   "id": "c1d00f76",
   "metadata": {},
   "outputs": [],
   "source": [
    "#extend() #this will only accept iterable data"
   ]
  },
  {
   "cell_type": "code",
   "execution_count": 35,
   "id": "42a3cba7",
   "metadata": {},
   "outputs": [
    {
     "ename": "TypeError",
     "evalue": "'int' object is not iterable",
     "output_type": "error",
     "traceback": [
      "\u001b[1;31m---------------------------------------------------------------------------\u001b[0m",
      "\u001b[1;31mTypeError\u001b[0m                                 Traceback (most recent call last)",
      "Cell \u001b[1;32mIn [35], line 1\u001b[0m\n\u001b[1;32m----> 1\u001b[0m \u001b[43ml\u001b[49m\u001b[38;5;241;43m.\u001b[39;49m\u001b[43mextend\u001b[49m\u001b[43m(\u001b[49m\u001b[38;5;241;43m1\u001b[39;49m\u001b[43m)\u001b[49m\n",
      "\u001b[1;31mTypeError\u001b[0m: 'int' object is not iterable"
     ]
    }
   ],
   "source": [
    "l.extend(1)"
   ]
  },
  {
   "cell_type": "code",
   "execution_count": 36,
   "id": "023e57a8",
   "metadata": {},
   "outputs": [],
   "source": [
    "l.extend(\"puku\")"
   ]
  },
  {
   "cell_type": "code",
   "execution_count": 37,
   "id": "e4e5aa5c",
   "metadata": {},
   "outputs": [
    {
     "data": {
      "text/plain": [
       "[1, 2, 'Pratyush', 1.2, (8+5j), 'Pratyush', [1, 2, 3], 'p', 'u', 'k', 'u']"
      ]
     },
     "execution_count": 37,
     "metadata": {},
     "output_type": "execute_result"
    }
   ],
   "source": [
    "l"
   ]
  },
  {
   "cell_type": "code",
   "execution_count": 40,
   "id": "f8933708",
   "metadata": {},
   "outputs": [],
   "source": [
    "l.insert(1,\"Chirag\") #it will Insert at a Specific Index"
   ]
  },
  {
   "cell_type": "code",
   "execution_count": 39,
   "id": "9d498d1d",
   "metadata": {},
   "outputs": [
    {
     "data": {
      "text/plain": [
       "[1,\n",
       " 'Chirag',\n",
       " 2,\n",
       " 'Pratyush',\n",
       " 1.2,\n",
       " (8+5j),\n",
       " 'Pratyush',\n",
       " [1, 2, 3],\n",
       " 'p',\n",
       " 'u',\n",
       " 'k',\n",
       " 'u']"
      ]
     },
     "execution_count": 39,
     "metadata": {},
     "output_type": "execute_result"
    }
   ],
   "source": [
    "l"
   ]
  },
  {
   "cell_type": "code",
   "execution_count": 44,
   "id": "daa536b0",
   "metadata": {},
   "outputs": [
    {
     "data": {
      "text/plain": [
       "'p'"
      ]
     },
     "execution_count": 44,
     "metadata": {},
     "output_type": "execute_result"
    }
   ],
   "source": [
    "l.pop() #it will remove data from last"
   ]
  },
  {
   "cell_type": "code",
   "execution_count": 42,
   "id": "8ada38b6",
   "metadata": {},
   "outputs": [
    {
     "data": {
      "text/plain": [
       "'k'"
      ]
     },
     "execution_count": 42,
     "metadata": {},
     "output_type": "execute_result"
    }
   ],
   "source": [
    "l.pop()"
   ]
  },
  {
   "cell_type": "code",
   "execution_count": 43,
   "id": "04fd5773",
   "metadata": {},
   "outputs": [
    {
     "data": {
      "text/plain": [
       "'u'"
      ]
     },
     "execution_count": 43,
     "metadata": {},
     "output_type": "execute_result"
    }
   ],
   "source": [
    "l.pop()#it will remove data from last"
   ]
  },
  {
   "cell_type": "code",
   "execution_count": 45,
   "id": "68cb1476",
   "metadata": {},
   "outputs": [
    {
     "data": {
      "text/plain": [
       "2"
      ]
     },
     "execution_count": 45,
     "metadata": {},
     "output_type": "execute_result"
    }
   ],
   "source": [
    "l.pop(3) #even from the index"
   ]
  },
  {
   "cell_type": "code",
   "execution_count": 46,
   "id": "8a50c810",
   "metadata": {},
   "outputs": [
    {
     "data": {
      "text/plain": [
       "[1, 'Chirag', 'Chirag', 'Pratyush', 1.2, (8+5j), 'Pratyush', [1, 2, 3]]"
      ]
     },
     "execution_count": 46,
     "metadata": {},
     "output_type": "execute_result"
    }
   ],
   "source": [
    "l"
   ]
  },
  {
   "cell_type": "code",
   "execution_count": 2,
   "id": "7b36218f",
   "metadata": {},
   "outputs": [],
   "source": [
    "l.remove(1.2)"
   ]
  },
  {
   "cell_type": "code",
   "execution_count": 3,
   "id": "12ac746b",
   "metadata": {},
   "outputs": [
    {
     "data": {
      "text/plain": [
       "[1, 2, 'Pratyush', (8+5j)]"
      ]
     },
     "execution_count": 3,
     "metadata": {},
     "output_type": "execute_result"
    }
   ],
   "source": [
    "l"
   ]
  },
  {
   "cell_type": "code",
   "execution_count": 4,
   "id": "e2bc9c93",
   "metadata": {},
   "outputs": [
    {
     "data": {
      "text/plain": [
       "[1, 2, 'Pratyush', (8+5j)]"
      ]
     },
     "execution_count": 4,
     "metadata": {},
     "output_type": "execute_result"
    }
   ],
   "source": [
    "l"
   ]
  },
  {
   "cell_type": "code",
   "execution_count": 5,
   "id": "9dd2ef7f",
   "metadata": {},
   "outputs": [],
   "source": [
    "l.append([1,2,3,4])"
   ]
  },
  {
   "cell_type": "code",
   "execution_count": 6,
   "id": "966cbdb5",
   "metadata": {},
   "outputs": [
    {
     "data": {
      "text/plain": [
       "[1, 2, 'Pratyush', (8+5j), [1, 2, 3, 4]]"
      ]
     },
     "execution_count": 6,
     "metadata": {},
     "output_type": "execute_result"
    }
   ],
   "source": [
    "l"
   ]
  },
  {
   "cell_type": "code",
   "execution_count": 7,
   "id": "e662bcdb",
   "metadata": {},
   "outputs": [],
   "source": [
    "l[4].remove(3) #remove from the list inside list the value of \"3\""
   ]
  },
  {
   "cell_type": "code",
   "execution_count": 8,
   "id": "7810e9a6",
   "metadata": {},
   "outputs": [
    {
     "data": {
      "text/plain": [
       "[1, 2, 'Pratyush', (8+5j), [1, 2, 4]]"
      ]
     },
     "execution_count": 8,
     "metadata": {},
     "output_type": "execute_result"
    }
   ],
   "source": [
    "l"
   ]
  },
  {
   "cell_type": "code",
   "execution_count": 10,
   "id": "567950f7",
   "metadata": {},
   "outputs": [],
   "source": [
    "l3 = [6,4,7,9,2,3,4]"
   ]
  },
  {
   "cell_type": "raw",
   "id": "3deeb13a",
   "metadata": {},
   "source": [
    " "
   ]
  },
  {
   "cell_type": "code",
   "execution_count": 11,
   "id": "42231a8e",
   "metadata": {},
   "outputs": [],
   "source": [
    "l3.sort()"
   ]
  },
  {
   "cell_type": "code",
   "execution_count": 12,
   "id": "463c32bc",
   "metadata": {},
   "outputs": [
    {
     "data": {
      "text/plain": [
       "[2, 3, 4, 4, 6, 7, 9]"
      ]
     },
     "execution_count": 12,
     "metadata": {},
     "output_type": "execute_result"
    }
   ],
   "source": [
    "l3"
   ]
  },
  {
   "cell_type": "code",
   "execution_count": 13,
   "id": "7f107bd4",
   "metadata": {},
   "outputs": [],
   "source": [
    "l4 = [\"Pratyush\",\"kumar\",\"Abhay\",\"Books\"]"
   ]
  },
  {
   "cell_type": "code",
   "execution_count": 14,
   "id": "a8802f42",
   "metadata": {},
   "outputs": [],
   "source": [
    "l4.sort() #Asending order"
   ]
  },
  {
   "cell_type": "code",
   "execution_count": 15,
   "id": "01ddfc6e",
   "metadata": {},
   "outputs": [
    {
     "data": {
      "text/plain": [
       "['Abhay', 'Books', 'Pratyush', 'kumar']"
      ]
     },
     "execution_count": 15,
     "metadata": {},
     "output_type": "execute_result"
    }
   ],
   "source": [
    "l4"
   ]
  },
  {
   "cell_type": "code",
   "execution_count": 16,
   "id": "9c19c5f2",
   "metadata": {},
   "outputs": [],
   "source": [
    "l4.sort(reverse= True) #Desending order"
   ]
  },
  {
   "cell_type": "code",
   "execution_count": 17,
   "id": "ced62a4e",
   "metadata": {},
   "outputs": [
    {
     "data": {
      "text/plain": [
       "['kumar', 'Pratyush', 'Books', 'Abhay']"
      ]
     },
     "execution_count": 17,
     "metadata": {},
     "output_type": "execute_result"
    }
   ],
   "source": [
    "l4"
   ]
  },
  {
   "cell_type": "code",
   "execution_count": 18,
   "id": "072b782e",
   "metadata": {},
   "outputs": [
    {
     "data": {
      "text/plain": [
       "1"
      ]
     },
     "execution_count": 18,
     "metadata": {},
     "output_type": "execute_result"
    }
   ],
   "source": [
    "l4.index(\"Pratyush\")"
   ]
  },
  {
   "cell_type": "code",
   "execution_count": 19,
   "id": "4558201a",
   "metadata": {},
   "outputs": [
    {
     "data": {
      "text/plain": [
       "0"
      ]
     },
     "execution_count": 19,
     "metadata": {},
     "output_type": "execute_result"
    }
   ],
   "source": [
    "l4.index(\"kumar\")"
   ]
  },
  {
   "cell_type": "code",
   "execution_count": 20,
   "id": "9ed629e8",
   "metadata": {},
   "outputs": [
    {
     "data": {
      "text/plain": [
       "1"
      ]
     },
     "execution_count": 20,
     "metadata": {},
     "output_type": "execute_result"
    }
   ],
   "source": [
    "l4.count(\"Pratyush\") # how much time this string will occcured"
   ]
  },
  {
   "cell_type": "code",
   "execution_count": 21,
   "id": "922c3bfa",
   "metadata": {},
   "outputs": [],
   "source": [
    "s = \"Pratyush\""
   ]
  },
  {
   "cell_type": "code",
   "execution_count": 23,
   "id": "d1837a93",
   "metadata": {},
   "outputs": [],
   "source": [
    "l5 = [1,2,3,4]"
   ]
  },
  {
   "cell_type": "code",
   "execution_count": 24,
   "id": "2e04f549",
   "metadata": {},
   "outputs": [],
   "source": [
    "l5[0] = 10"
   ]
  },
  {
   "cell_type": "code",
   "execution_count": 25,
   "id": "891d29b2",
   "metadata": {},
   "outputs": [
    {
     "data": {
      "text/plain": [
       "[10, 2, 3, 4]"
      ]
     },
     "execution_count": 25,
     "metadata": {},
     "output_type": "execute_result"
    }
   ],
   "source": [
    "l5"
   ]
  },
  {
   "cell_type": "code",
   "execution_count": 27,
   "id": "223cce55",
   "metadata": {},
   "outputs": [
    {
     "data": {
      "text/plain": [
       "'kratyush'"
      ]
     },
     "execution_count": 27,
     "metadata": {},
     "output_type": "execute_result"
    }
   ],
   "source": [
    "s.replace(\"P\",\"k\")"
   ]
  },
  {
   "cell_type": "code",
   "execution_count": 28,
   "id": "69d4c423",
   "metadata": {},
   "outputs": [
    {
     "data": {
      "text/plain": [
       "'Puatyush'"
      ]
     },
     "execution_count": 28,
     "metadata": {},
     "output_type": "execute_result"
    }
   ],
   "source": [
    "s.replace(\"r\",\"u\")"
   ]
  },
  {
   "cell_type": "markdown",
   "id": "623a2172",
   "metadata": {},
   "source": [
    "Tuples"
   ]
  },
  {
   "cell_type": "code",
   "execution_count": 29,
   "id": "29f20ae7",
   "metadata": {},
   "outputs": [],
   "source": [
    "t = (1,2,\"Pratyush\",8+5j,True,False)"
   ]
  },
  {
   "cell_type": "code",
   "execution_count": 30,
   "id": "9dd5756d",
   "metadata": {},
   "outputs": [
    {
     "data": {
      "text/plain": [
       "(1, 2, 'Pratyush', (8+5j), True, False)"
      ]
     },
     "execution_count": 30,
     "metadata": {},
     "output_type": "execute_result"
    }
   ],
   "source": [
    "t"
   ]
  },
  {
   "cell_type": "code",
   "execution_count": 31,
   "id": "f8ba30da",
   "metadata": {},
   "outputs": [
    {
     "data": {
      "text/plain": [
       "tuple"
      ]
     },
     "execution_count": 31,
     "metadata": {},
     "output_type": "execute_result"
    }
   ],
   "source": [
    "type(t)"
   ]
  },
  {
   "cell_type": "code",
   "execution_count": 32,
   "id": "a2b20644",
   "metadata": {},
   "outputs": [
    {
     "data": {
      "text/plain": [
       "6"
      ]
     },
     "execution_count": 32,
     "metadata": {},
     "output_type": "execute_result"
    }
   ],
   "source": [
    "len(t)"
   ]
  },
  {
   "cell_type": "code",
   "execution_count": 33,
   "id": "4fc796c5",
   "metadata": {},
   "outputs": [
    {
     "data": {
      "text/plain": [
       "1"
      ]
     },
     "execution_count": 33,
     "metadata": {},
     "output_type": "execute_result"
    }
   ],
   "source": [
    "t[0]"
   ]
  },
  {
   "cell_type": "code",
   "execution_count": 34,
   "id": "b416f0c7",
   "metadata": {},
   "outputs": [
    {
     "data": {
      "text/plain": [
       "'Pratyush'"
      ]
     },
     "execution_count": 34,
     "metadata": {},
     "output_type": "execute_result"
    }
   ],
   "source": [
    "t[2]"
   ]
  },
  {
   "cell_type": "code",
   "execution_count": 36,
   "id": "1895aaf1",
   "metadata": {},
   "outputs": [
    {
     "data": {
      "text/plain": [
       "(False, True, (8+5j), 'Pratyush', 2, 1)"
      ]
     },
     "execution_count": 36,
     "metadata": {},
     "output_type": "execute_result"
    }
   ],
   "source": [
    "t[::-1]"
   ]
  },
  {
   "cell_type": "code",
   "execution_count": 37,
   "id": "2716c311",
   "metadata": {},
   "outputs": [
    {
     "ename": "TypeError",
     "evalue": "'tuple' object does not support item assignment",
     "output_type": "error",
     "traceback": [
      "\u001b[1;31m---------------------------------------------------------------------------\u001b[0m",
      "\u001b[1;31mTypeError\u001b[0m                                 Traceback (most recent call last)",
      "Cell \u001b[1;32mIn [37], line 1\u001b[0m\n\u001b[1;32m----> 1\u001b[0m \u001b[43mt\u001b[49m\u001b[43m[\u001b[49m\u001b[38;5;241;43m0\u001b[39;49m\u001b[43m]\u001b[49m \u001b[38;5;241m=\u001b[39m \u001b[38;5;241m3\u001b[39m\n",
      "\u001b[1;31mTypeError\u001b[0m: 'tuple' object does not support item assignment"
     ]
    }
   ],
   "source": [
    "t[0] = 3 #tuples are immutable"
   ]
  },
  {
   "cell_type": "markdown",
   "id": "4dba26b6",
   "metadata": {},
   "source": [
    "Dictonary or Sets"
   ]
  },
  {
   "cell_type": "code",
   "execution_count": 38,
   "id": "266b3db1",
   "metadata": {},
   "outputs": [],
   "source": [
    "s1= {}"
   ]
  },
  {
   "cell_type": "code",
   "execution_count": 39,
   "id": "af9ca7af",
   "metadata": {},
   "outputs": [
    {
     "data": {
      "text/plain": [
       "dict"
      ]
     },
     "execution_count": 39,
     "metadata": {},
     "output_type": "execute_result"
    }
   ],
   "source": [
    "type(s1)"
   ]
  },
  {
   "cell_type": "code",
   "execution_count": 40,
   "id": "6584c0dd",
   "metadata": {},
   "outputs": [],
   "source": [
    "s2 = {2,3,4,5,6,7}"
   ]
  },
  {
   "cell_type": "code",
   "execution_count": 41,
   "id": "57fe0fae",
   "metadata": {},
   "outputs": [
    {
     "data": {
      "text/plain": [
       "set"
      ]
     },
     "execution_count": 41,
     "metadata": {},
     "output_type": "execute_result"
    }
   ],
   "source": [
    "type(s2)"
   ]
  },
  {
   "cell_type": "code",
   "execution_count": 45,
   "id": "028a3fc7",
   "metadata": {},
   "outputs": [],
   "source": [
    "s3 = {1,1,1,1,1,11,3,232,3,3,2,2,2,5,5} # it will not store duplicate data"
   ]
  },
  {
   "cell_type": "code",
   "execution_count": 46,
   "id": "cbcb4532",
   "metadata": {},
   "outputs": [
    {
     "data": {
      "text/plain": [
       "{1, 2, 3, 5, 11, 232}"
      ]
     },
     "execution_count": 46,
     "metadata": {},
     "output_type": "execute_result"
    }
   ],
   "source": [
    "s3"
   ]
  },
  {
   "cell_type": "code",
   "execution_count": 47,
   "id": "dc8ce4d7",
   "metadata": {},
   "outputs": [
    {
     "ename": "TypeError",
     "evalue": "'set' object is not subscriptable",
     "output_type": "error",
     "traceback": [
      "\u001b[1;31m---------------------------------------------------------------------------\u001b[0m",
      "\u001b[1;31mTypeError\u001b[0m                                 Traceback (most recent call last)",
      "Cell \u001b[1;32mIn [47], line 1\u001b[0m\n\u001b[1;32m----> 1\u001b[0m \u001b[43ms3\u001b[49m\u001b[43m[\u001b[49m\u001b[38;5;241;43m0\u001b[39;49m\u001b[43m]\u001b[49m\n",
      "\u001b[1;31mTypeError\u001b[0m: 'set' object is not subscriptable"
     ]
    }
   ],
   "source": [
    "s3[0]"
   ]
  },
  {
   "cell_type": "markdown",
   "id": "72070329",
   "metadata": {},
   "source": [
    "# Sets are stored in Hashing technique but not in a Index value it will store in Hash uy78678htte677\n"
   ]
  },
  {
   "cell_type": "code",
   "execution_count": null,
   "id": "577fd6d6",
   "metadata": {},
   "outputs": [],
   "source": []
  }
 ],
 "metadata": {
  "kernelspec": {
   "display_name": "Python 3 (ipykernel)",
   "language": "python",
   "name": "python3"
  },
  "language_info": {
   "codemirror_mode": {
    "name": "ipython",
    "version": 3
   },
   "file_extension": ".py",
   "mimetype": "text/x-python",
   "name": "python",
   "nbconvert_exporter": "python",
   "pygments_lexer": "ipython3",
   "version": "3.9.13"
  }
 },
 "nbformat": 4,
 "nbformat_minor": 5
}
