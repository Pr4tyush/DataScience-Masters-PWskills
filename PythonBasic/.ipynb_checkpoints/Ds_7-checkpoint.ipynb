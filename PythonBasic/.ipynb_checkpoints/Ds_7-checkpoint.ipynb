{
 "cells": [
  {
   "cell_type": "markdown",
   "id": "c238572a",
   "metadata": {},
   "source": [
    "# Object Oriented Programming"
   ]
  },
  {
   "cell_type": "code",
   "execution_count": null,
   "id": "4536eaab",
   "metadata": {},
   "outputs": [],
   "source": [
    "class test:\n",
    "    pass"
   ]
  },
  {
   "cell_type": "code",
   "execution_count": 2,
   "id": "290e9ea3",
   "metadata": {},
   "outputs": [],
   "source": [
    "a = test()"
   ]
  },
  {
   "cell_type": "code",
   "execution_count": 3,
   "id": "80ea2d3f",
   "metadata": {},
   "outputs": [
    {
     "data": {
      "text/plain": [
       "__main__.test"
      ]
     },
     "execution_count": 3,
     "metadata": {},
     "output_type": "execute_result"
    }
   ],
   "source": [
    "type(a)"
   ]
  },
  {
   "cell_type": "code",
   "execution_count": 4,
   "id": "d57bd986",
   "metadata": {},
   "outputs": [
    {
     "name": "stdout",
     "output_type": "stream",
     "text": [
      "<class '__main__.test'>\n"
     ]
    }
   ],
   "source": [
    "print(type(a))"
   ]
  },
  {
   "cell_type": "code",
   "execution_count": 10,
   "id": "64fc38f8",
   "metadata": {},
   "outputs": [],
   "source": [
    "class pwskills:\n",
    "    def welcome_message(self):\n",
    "        print(\"Welcome to PwSkills\")"
   ]
  },
  {
   "cell_type": "code",
   "execution_count": 11,
   "id": "d3004c80",
   "metadata": {},
   "outputs": [],
   "source": [
    "rohan = pwskills()"
   ]
  },
  {
   "cell_type": "code",
   "execution_count": 12,
   "id": "92b5bc44",
   "metadata": {},
   "outputs": [
    {
     "name": "stdout",
     "output_type": "stream",
     "text": [
      "<class '__main__.pwskills'>\n"
     ]
    }
   ],
   "source": [
    "print(type(rohan))"
   ]
  },
  {
   "cell_type": "code",
   "execution_count": 13,
   "id": "cc350cb1",
   "metadata": {},
   "outputs": [
    {
     "name": "stdout",
     "output_type": "stream",
     "text": [
      "Welcome to PwSkills\n"
     ]
    }
   ],
   "source": [
    "rohan.welcome_message()"
   ]
  },
  {
   "cell_type": "code",
   "execution_count": 14,
   "id": "3307d7ac",
   "metadata": {},
   "outputs": [],
   "source": [
    "Pratyush = pwskills()"
   ]
  },
  {
   "cell_type": "code",
   "execution_count": 16,
   "id": "5cd2a2c6",
   "metadata": {},
   "outputs": [
    {
     "name": "stdout",
     "output_type": "stream",
     "text": [
      "Welcome to PwSkills\n"
     ]
    }
   ],
   "source": [
    "Pratyush.welcome_message()"
   ]
  },
  {
   "cell_type": "code",
   "execution_count": 17,
   "id": "641a15b9",
   "metadata": {},
   "outputs": [],
   "source": [
    "class Student():\n",
    "    def __init__(self,phone,email_id,student_id):\n",
    "        self.phone = phone\n",
    "        self.email_id = email_id\n",
    "        self.student_id = student_id\n",
    "    def return_details(self):\n",
    "        return self.student_id,self.phone,self.email_id\n",
    "    "
   ]
  },
  {
   "cell_type": "code",
   "execution_count": 23,
   "id": "8d8d768c",
   "metadata": {},
   "outputs": [
    {
     "ename": "TypeError",
     "evalue": "__init__() missing 3 required positional arguments: 'phone', 'email_id', and 'student_id'",
     "output_type": "error",
     "traceback": [
      "\u001b[1;31m---------------------------------------------------------------------------\u001b[0m",
      "\u001b[1;31mTypeError\u001b[0m                                 Traceback (most recent call last)",
      "Cell \u001b[1;32mIn [23], line 1\u001b[0m\n\u001b[1;32m----> 1\u001b[0m Pratyush \u001b[38;5;241m=\u001b[39m \u001b[43mStudent\u001b[49m\u001b[43m(\u001b[49m\u001b[43m)\u001b[49m\n",
      "\u001b[1;31mTypeError\u001b[0m: __init__() missing 3 required positional arguments: 'phone', 'email_id', and 'student_id'"
     ]
    }
   ],
   "source": [
    "Pratyush = Student()"
   ]
  },
  {
   "cell_type": "code",
   "execution_count": 25,
   "id": "85f25447",
   "metadata": {},
   "outputs": [],
   "source": [
    "Pratyush = Student(6299327319,\"@gmail\",909)"
   ]
  },
  {
   "cell_type": "code",
   "execution_count": 26,
   "id": "a651e1f0",
   "metadata": {},
   "outputs": [
    {
     "data": {
      "text/plain": [
       "(909, 6299327319, '@gmail')"
      ]
     },
     "execution_count": 26,
     "metadata": {},
     "output_type": "execute_result"
    }
   ],
   "source": [
    "Pratyush.return_details()"
   ]
  },
  {
   "cell_type": "code",
   "execution_count": 27,
   "id": "65b0053d",
   "metadata": {},
   "outputs": [],
   "source": [
    "gaurav = Student(78787,\"gg@gmail.com\",87878)"
   ]
  },
  {
   "cell_type": "code",
   "execution_count": 29,
   "id": "5d43a846",
   "metadata": {},
   "outputs": [
    {
     "data": {
      "text/plain": [
       "(87878, 78787, 'gg@gmail.com')"
      ]
     },
     "execution_count": 29,
     "metadata": {},
     "output_type": "execute_result"
    }
   ],
   "source": [
    "gaurav.return_details()"
   ]
  },
  {
   "cell_type": "code",
   "execution_count": 30,
   "id": "fb25663e",
   "metadata": {},
   "outputs": [],
   "source": [
    "#Video paused at 29min,20sec"
   ]
  },
  {
   "cell_type": "code",
   "execution_count": null,
   "id": "a9685caf",
   "metadata": {},
   "outputs": [],
   "source": []
  }
 ],
 "metadata": {
  "kernelspec": {
   "display_name": "Python 3 (ipykernel)",
   "language": "python",
   "name": "python3"
  },
  "language_info": {
   "codemirror_mode": {
    "name": "ipython",
    "version": 3
   },
   "file_extension": ".py",
   "mimetype": "text/x-python",
   "name": "python",
   "nbconvert_exporter": "python",
   "pygments_lexer": "ipython3",
   "version": "3.9.13"
  }
 },
 "nbformat": 4,
 "nbformat_minor": 5
}
