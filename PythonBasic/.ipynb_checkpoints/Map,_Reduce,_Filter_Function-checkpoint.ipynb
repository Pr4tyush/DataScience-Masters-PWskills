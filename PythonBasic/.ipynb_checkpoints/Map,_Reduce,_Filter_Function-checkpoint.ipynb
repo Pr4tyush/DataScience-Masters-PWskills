{
 "cells": [
  {
   "cell_type": "markdown",
   "id": "11480889",
   "metadata": {
    "id": "6527aecd-6a31-4f31-b825-7a09bfae7f3b"
   },
   "source": [
    "# Map,Reduce,Filter_Function"
   ]
  },
  {
   "cell_type": "code",
   "execution_count": 9,
   "id": "d13dd830",
   "metadata": {},
   "outputs": [],
   "source": [
    "l = [2,3,4,5,6]"
   ]
  },
  {
   "cell_type": "code",
   "execution_count": null,
   "id": "3303fb64-4639-4bc1-83b5-3ffa129ee739",
   "metadata": {
    "id": "3303fb64-4639-4bc1-83b5-3ffa129ee739"
   },
   "outputs": [],
   "source": [
    "def test(l):\n",
    "    l1 = []\n",
    "    for i in l :\n",
    "        l1.append(i**2)\n",
    "    return l1\n",
    "        "
   ]
  },
  {
   "cell_type": "code",
   "execution_count": null,
   "id": "1982b992-0ab7-44ae-9d2d-6a6714fd6936",
   "metadata": {
    "id": "1982b992-0ab7-44ae-9d2d-6a6714fd6936",
    "outputId": "07fd1b88-acee-4b11-9c7e-8167a9e0dd23"
   },
   "outputs": [
    {
     "data": {
      "text/plain": [
       "[4, 9, 16, 25, 36]"
      ]
     },
     "execution_count": 3,
     "metadata": {},
     "output_type": "execute_result"
    }
   ],
   "source": [
    "test(l)"
   ]
  },
  {
   "cell_type": "code",
   "execution_count": null,
   "id": "cd2a0d23-f72d-45e4-995c-e5f603dd5357",
   "metadata": {
    "id": "cd2a0d23-f72d-45e4-995c-e5f603dd5357"
   },
   "outputs": [],
   "source": [
    "def sq(x):\n",
    "    return x**2"
   ]
  },
  {
   "cell_type": "markdown",
   "id": "abb6d2cd",
   "metadata": {},
   "source": [
    "Map will Basically Map a list to another list with their respective Operations.The function Structure is going like this\n",
    "map(takes operation or a function,takes list or object where the operations is going to perform)\n",
    "For example:\n",
    "    def sq(x):\n",
    "    return x**2 # I make a funtion to calculate a square \n",
    "and then i make list \"l\" \n",
    "...\n",
    "then I have to write like this to map that fun on the list"
   ]
  },
  {
   "cell_type": "code",
   "execution_count": null,
   "id": "9030119e-6114-4b43-ac40-d864d240e67c",
   "metadata": {
    "id": "9030119e-6114-4b43-ac40-d864d240e67c",
    "outputId": "bece4108-d131-406b-d720-5f8a97e6e487"
   },
   "outputs": [
    {
     "data": {
      "text/plain": [
       "[4, 9, 16, 25, 36]"
      ]
     },
     "execution_count": 6,
     "metadata": {},
     "output_type": "execute_result"
    }
   ],
   "source": [
    "list(map(sq , l))"
   ]
  },
  {
   "cell_type": "code",
   "execution_count": null,
   "id": "b9a14de5-64e8-4bff-80ea-3f210d7e9fdf",
   "metadata": {
    "id": "b9a14de5-64e8-4bff-80ea-3f210d7e9fdf",
    "outputId": "b7c3f683-701a-4a42-a399-4e4a9fc4fc2f"
   },
   "outputs": [
    {
     "data": {
      "text/plain": [
       "[4, 9, 16, 25, 36]"
      ]
     },
     "execution_count": 7,
     "metadata": {},
     "output_type": "execute_result"
    }
   ],
   "source": [
    "list(map(lambda x : x**2 , l))"
   ]
  },
  {
   "cell_type": "code",
   "execution_count": null,
   "id": "659b3e16-3dc5-4147-939c-bd6d87ca6730",
   "metadata": {
    "id": "659b3e16-3dc5-4147-939c-bd6d87ca6730",
    "outputId": "477a28b4-77de-4850-b463-4e44eb1cc730"
   },
   "outputs": [
    {
     "data": {
      "text/plain": [
       "[7, 9, 11, 13, 15]"
      ]
     },
     "execution_count": 8,
     "metadata": {},
     "output_type": "execute_result"
    }
   ],
   "source": [
    "l1 = [1,2,3,4,5]\n",
    "l2 = [6,7,8,9,10]\n",
    "\n",
    "list(map(lambda x , y : x+y , l1 , l2 ))"
   ]
  },
  {
   "cell_type": "code",
   "execution_count": null,
   "id": "2ff63811-e566-4d2d-a1a3-cad4d325ed72",
   "metadata": {
    "id": "2ff63811-e566-4d2d-a1a3-cad4d325ed72"
   },
   "outputs": [],
   "source": [
    "def add(x,y) :\n",
    "    return x+y"
   ]
  },
  {
   "cell_type": "code",
   "execution_count": null,
   "id": "3d9be8d7-4914-4fc8-8d5a-57fb5078ad83",
   "metadata": {
    "id": "3d9be8d7-4914-4fc8-8d5a-57fb5078ad83",
    "outputId": "610dd4e0-2e48-4810-899c-a3e338da2d04"
   },
   "outputs": [
    {
     "data": {
      "text/plain": [
       "[7, 9, 11, 13, 15]"
      ]
     },
     "execution_count": 10,
     "metadata": {},
     "output_type": "execute_result"
    }
   ],
   "source": [
    "list(map(add , l1 , l2 ))"
   ]
  },
  {
   "cell_type": "code",
   "execution_count": 3,
   "id": "947f0e74-33c4-4e76-a120-2e1027c163e9",
   "metadata": {
    "id": "947f0e74-33c4-4e76-a120-2e1027c163e9",
    "outputId": "9512ab6e-3710-4e4c-b32d-39ba134d8ef8"
   },
   "outputs": [
    {
     "data": {
      "text/plain": [
       "['P', 'R', 'A', 'T', 'Y', 'U', 'S', 'H']"
      ]
     },
     "execution_count": 3,
     "metadata": {},
     "output_type": "execute_result"
    }
   ],
   "source": [
    "s = \"Pratyush\"\n",
    "list(map(lambda s : s.upper() , s))\n"
   ]
  },
  {
   "cell_type": "code",
   "execution_count": 5,
   "id": "21aa99ed",
   "metadata": {},
   "outputs": [
    {
     "data": {
      "text/plain": [
       "['p', 'r', 'a', 't', 'y', 'u', 's', 'h']"
      ]
     },
     "execution_count": 5,
     "metadata": {},
     "output_type": "execute_result"
    }
   ],
   "source": [
    "s = \"PRATYUSH\"\n",
    "list(map(lambda s : s.lower() , s))\n"
   ]
  },
  {
   "cell_type": "markdown",
   "id": "22b84bc3",
   "metadata": {},
   "source": [
    "# Reduce Function"
   ]
  },
  {
   "cell_type": "markdown",
   "id": "8c8c4ccf",
   "metadata": {},
   "source": [
    "The reduce(fun,seq) function is used to apply a particular function passed in its argument to all of the list elements mentioned in the sequence passed along.This function is defined in “functools” module."
   ]
  },
  {
   "cell_type": "markdown",
   "id": "a33cf1da",
   "metadata": {},
   "source": [
    "Working :  \n",
    "\n",
    "1.At first step, first two elements of sequence are picked and the result is obtained.\n",
    "\n",
    "2.Next step is to apply the same function to the previously attained result and the number just succeeding the second element \n",
    "and the result is again stored.\n",
    "\n",
    "3.This process continues till no more elements are left in the container.\n",
    "\n",
    "4.The final returned result is returned and printed on console.\n"
   ]
  },
  {
   "cell_type": "markdown",
   "id": "ab696b02",
   "metadata": {},
   "source": [
    "To use \"reduce\" Function First have to import reduce"
   ]
  },
  {
   "cell_type": "code",
   "execution_count": 6,
   "id": "35c83c12-f7ec-4006-bf38-a1a396c9e04f",
   "metadata": {
    "id": "35c83c12-f7ec-4006-bf38-a1a396c9e04f"
   },
   "outputs": [],
   "source": [
    "from functools import  reduce"
   ]
  },
  {
   "cell_type": "code",
   "execution_count": 7,
   "id": "f2145d14-2849-4bfe-bf84-daebd8a61142",
   "metadata": {
    "id": "f2145d14-2849-4bfe-bf84-daebd8a61142"
   },
   "outputs": [],
   "source": [
    "l = [1,2,3,3,4,5]"
   ]
  },
  {
   "cell_type": "code",
   "execution_count": 8,
   "id": "145c02ae-51b5-448e-9d6e-8f06360ad318",
   "metadata": {
    "id": "145c02ae-51b5-448e-9d6e-8f06360ad318",
    "outputId": "5f7b6760-2df6-4774-d566-0c4071fba78d"
   },
   "outputs": [
    {
     "data": {
      "text/plain": [
       "18"
      ]
     },
     "execution_count": 8,
     "metadata": {},
     "output_type": "execute_result"
    }
   ],
   "source": [
    "reduce(lambda x ,y : x+y , l)"
   ]
  },
  {
   "cell_type": "code",
   "execution_count": null,
   "id": "34470b0c-4628-4d34-8b77-8f3bcf70c1f3",
   "metadata": {
    "id": "34470b0c-4628-4d34-8b77-8f3bcf70c1f3",
    "outputId": "afee8f15-ab23-4d7e-83c6-e4054774806a"
   },
   "outputs": [
    {
     "ename": "TypeError",
     "evalue": "<lambda>() missing 1 required positional argument: 'z'",
     "output_type": "error",
     "traceback": [
      "\u001b[0;31m---------------------------------------------------------------------------\u001b[0m",
      "\u001b[0;31mTypeError\u001b[0m                                 Traceback (most recent call last)",
      "Cell \u001b[0;32mIn[16], line 1\u001b[0m\n\u001b[0;32m----> 1\u001b[0m \u001b[43mreduce\u001b[49m\u001b[43m(\u001b[49m\u001b[38;5;28;43;01mlambda\u001b[39;49;00m\u001b[43m \u001b[49m\u001b[43mx\u001b[49m\u001b[43m \u001b[49m\u001b[43m,\u001b[49m\u001b[43my\u001b[49m\u001b[43m \u001b[49m\u001b[43m,\u001b[49m\u001b[43mz\u001b[49m\u001b[43m \u001b[49m\u001b[43m:\u001b[49m\u001b[43m \u001b[49m\u001b[43mx\u001b[49m\u001b[38;5;241;43m+\u001b[39;49m\u001b[43my\u001b[49m\u001b[38;5;241;43m+\u001b[39;49m\u001b[43mz\u001b[49m\u001b[43m \u001b[49m\u001b[43m,\u001b[49m\u001b[43m \u001b[49m\u001b[43ml\u001b[49m\u001b[43m)\u001b[49m\n",
      "\u001b[0;31mTypeError\u001b[0m: <lambda>() missing 1 required positional argument: 'z'"
     ]
    }
   ],
   "source": [
    "reduce(lambda x ,y ,z : x+y+z , l) "
   ]
  },
  {
   "cell_type": "markdown",
   "id": "ce3af603",
   "metadata": {},
   "source": [
    "It Will never takes Three Arguments Always Take \"TWO ARGUMENTS ONLY TO PERFORM OPEARIONS\""
   ]
  },
  {
   "cell_type": "code",
   "execution_count": null,
   "id": "b642a904-6bba-47ce-9227-3f056ae66c63",
   "metadata": {
    "id": "b642a904-6bba-47ce-9227-3f056ae66c63",
    "outputId": "df42ba22-63c2-4af4-b574-98092d38151e"
   },
   "outputs": [
    {
     "ename": "TypeError",
     "evalue": "reduce() of empty iterable with no initial value",
     "output_type": "error",
     "traceback": [
      "\u001b[0;31m---------------------------------------------------------------------------\u001b[0m",
      "\u001b[0;31mTypeError\u001b[0m                                 Traceback (most recent call last)",
      "Cell \u001b[0;32mIn[17], line 1\u001b[0m\n\u001b[0;32m----> 1\u001b[0m \u001b[43mreduce\u001b[49m\u001b[43m(\u001b[49m\u001b[38;5;28;43;01mlambda\u001b[39;49;00m\u001b[43m \u001b[49m\u001b[43mx\u001b[49m\u001b[43m \u001b[49m\u001b[43m,\u001b[49m\u001b[43my\u001b[49m\u001b[43m \u001b[49m\u001b[43m:\u001b[49m\u001b[43m \u001b[49m\u001b[43mx\u001b[49m\u001b[38;5;241;43m+\u001b[39;49m\u001b[43my\u001b[49m\u001b[43m \u001b[49m\u001b[43m,\u001b[49m\u001b[43m \u001b[49m\u001b[43m[\u001b[49m\u001b[43m]\u001b[49m\u001b[43m)\u001b[49m\n",
      "\u001b[0;31mTypeError\u001b[0m: reduce() of empty iterable with no initial value"
     ]
    }
   ],
   "source": [
    "reduce(lambda x ,y : x+y , [])"
   ]
  },
  {
   "cell_type": "code",
   "execution_count": null,
   "id": "7d590f23-1c3f-4c93-8aeb-d47ccdea4e20",
   "metadata": {
    "id": "7d590f23-1c3f-4c93-8aeb-d47ccdea4e20",
    "outputId": "9e6cd816-ba11-4056-cdc1-86283a5c8281"
   },
   "outputs": [
    {
     "data": {
      "text/plain": [
       "1"
      ]
     },
     "execution_count": 18,
     "metadata": {},
     "output_type": "execute_result"
    }
   ],
   "source": [
    "reduce(lambda x ,y : x+y , [1])"
   ]
  },
  {
   "cell_type": "code",
   "execution_count": null,
   "id": "3bfe9082-d65b-4ad4-8e73-6ea9434a2c21",
   "metadata": {
    "id": "3bfe9082-d65b-4ad4-8e73-6ea9434a2c21",
    "outputId": "a76edfdf-1bf2-4d13-cfa2-615d2f07c80c"
   },
   "outputs": [
    {
     "data": {
      "text/plain": [
       "360"
      ]
     },
     "execution_count": 19,
     "metadata": {},
     "output_type": "execute_result"
    }
   ],
   "source": [
    "reduce(lambda x ,y : x*y , l)"
   ]
  },
  {
   "cell_type": "code",
   "execution_count": null,
   "id": "b3b698c6-a059-4851-8aae-d5d96ff80e01",
   "metadata": {
    "id": "b3b698c6-a059-4851-8aae-d5d96ff80e01",
    "outputId": "9fa6fa68-cca7-4882-db82-58792f65bf2f"
   },
   "outputs": [
    {
     "data": {
      "text/plain": [
       "[1, 2, 3, 3, 4, 5]"
      ]
     },
     "execution_count": 20,
     "metadata": {},
     "output_type": "execute_result"
    }
   ],
   "source": [
    "l"
   ]
  },
  {
   "cell_type": "code",
   "execution_count": null,
   "id": "50a48126-0ab9-4f82-a95d-1e39dc3c190b",
   "metadata": {
    "id": "50a48126-0ab9-4f82-a95d-1e39dc3c190b",
    "outputId": "a6b18446-7ae5-4ee7-84ed-fae74f2ffa3d"
   },
   "outputs": [
    {
     "data": {
      "text/plain": [
       "5"
      ]
     },
     "execution_count": 21,
     "metadata": {},
     "output_type": "execute_result"
    }
   ],
   "source": [
    "reduce(lambda x,y :x if x > y else y , l )"
   ]
  },
  {
   "cell_type": "code",
   "execution_count": null,
   "id": "f94ad832-6477-47ba-9074-766c85b838d8",
   "metadata": {
    "id": "f94ad832-6477-47ba-9074-766c85b838d8",
    "outputId": "604a6ef0-4391-46ea-e269-a1e4204f2416"
   },
   "outputs": [
    {
     "data": {
      "text/plain": [
       "[1, 2, 3, 3, 4, 5]"
      ]
     },
     "execution_count": 22,
     "metadata": {},
     "output_type": "execute_result"
    }
   ],
   "source": [
    "l"
   ]
  },
  {
   "cell_type": "markdown",
   "id": "dd28a4fb",
   "metadata": {},
   "source": [
    "\n",
    "# Filter()"
   ]
  },
  {
   "cell_type": "markdown",
   "id": "3fd4c499",
   "metadata": {},
   "source": [
    "Filter() is a built-in function in Python. The filter function can be applied to an iterable such as a list or a dictionary and create a new iterator. This new iterator can filter out certain specific elements based on the condition that you provide very efficiently. "
   ]
  },
  {
   "cell_type": "markdown",
   "id": "57651c2f",
   "metadata": {},
   "source": [
    "An iterable in Python is an object that you can iterate over. It is possible to loop over an iterable and return items that are in it."
   ]
  },
  {
   "cell_type": "code",
   "execution_count": null,
   "id": "d77f7b09-3863-4e10-9976-a54a74a92a01",
   "metadata": {
    "id": "d77f7b09-3863-4e10-9976-a54a74a92a01",
    "outputId": "2e243c38-b54c-4eb3-a76b-2ca21efe7542"
   },
   "outputs": [
    {
     "data": {
      "text/plain": [
       "[1, 2, 3, 3, 4, 5]"
      ]
     },
     "execution_count": 23,
     "metadata": {},
     "output_type": "execute_result"
    }
   ],
   "source": [
    "l "
   ]
  },
  {
   "cell_type": "code",
   "execution_count": null,
   "id": "46bb15c5-f45b-4bd7-a985-db06b147bde2",
   "metadata": {
    "id": "46bb15c5-f45b-4bd7-a985-db06b147bde2",
    "outputId": "076e24a8-12d8-4b4a-8102-9a5e5c8e80e3"
   },
   "outputs": [
    {
     "data": {
      "text/plain": [
       "[2, 4]"
      ]
     },
     "execution_count": 24,
     "metadata": {},
     "output_type": "execute_result"
    }
   ],
   "source": [
    "list(filter(lambda x : x % 2 == 0 , l))"
   ]
  },
  {
   "cell_type": "code",
   "execution_count": null,
   "id": "d4a6d5a8-e1fd-4842-a178-27ec9243c148",
   "metadata": {
    "id": "d4a6d5a8-e1fd-4842-a178-27ec9243c148",
    "outputId": "c0a8286d-c3f2-4e6d-8584-0391a9888338"
   },
   "outputs": [
    {
     "data": {
      "text/plain": [
       "[1, 3, 3, 5]"
      ]
     },
     "execution_count": 25,
     "metadata": {},
     "output_type": "execute_result"
    }
   ],
   "source": [
    "list(filter(lambda x : x % 2 != 0 , l))"
   ]
  },
  {
   "cell_type": "code",
   "execution_count": null,
   "id": "9fc95878-661c-4475-aa69-82adb5c45152",
   "metadata": {
    "id": "9fc95878-661c-4475-aa69-82adb5c45152"
   },
   "outputs": [],
   "source": [
    "l1 = [-3,4,5,6,-1,-5]"
   ]
  },
  {
   "cell_type": "code",
   "execution_count": null,
   "id": "f6213819-b89e-4259-ab39-c524bcfeb0fd",
   "metadata": {
    "id": "f6213819-b89e-4259-ab39-c524bcfeb0fd",
    "outputId": "5237dce4-0b0d-428e-a8e9-e2ea3b4442ed"
   },
   "outputs": [
    {
     "data": {
      "text/plain": [
       "[-3, -1, -5]"
      ]
     },
     "execution_count": 28,
     "metadata": {},
     "output_type": "execute_result"
    }
   ],
   "source": [
    "list(filter(lambda x : x<0 , l1 ))"
   ]
  },
  {
   "cell_type": "code",
   "execution_count": 1,
   "id": "f2915704-d6e3-40a0-bc33-e8d3744bab65",
   "metadata": {
    "id": "f2915704-d6e3-40a0-bc33-e8d3744bab65"
   },
   "outputs": [],
   "source": [
    "l2 = [\"Pratyush\"  , \"Choudhary\" , \"kumar\" , \"Noida\" , \"Chirag\"]"
   ]
  },
  {
   "cell_type": "code",
   "execution_count": 2,
   "id": "6af36803-6ca2-4639-9c14-c6134d812fb7",
   "metadata": {
    "id": "6af36803-6ca2-4639-9c14-c6134d812fb7",
    "outputId": "317a0b02-c5fc-44ac-f5d2-a779503f2589"
   },
   "outputs": [
    {
     "data": {
      "text/plain": [
       "['kumar', 'Noida']"
      ]
     },
     "execution_count": 2,
     "metadata": {},
     "output_type": "execute_result"
    }
   ],
   "source": [
    "list(filter(lambda x : len(x) <6 , l2))"
   ]
  },
  {
   "cell_type": "code",
   "execution_count": 11,
   "id": "3e291523-7f93-496f-a32a-c92e44b38abf",
   "metadata": {
    "id": "3e291523-7f93-496f-a32a-c92e44b38abf"
   },
   "outputs": [],
   "source": [
    "l3 = [\"Apple\",\"Analyze\",\"Abstract\",\"Books\",\"Argument\",\"Zebra\",\"Laptop\"]"
   ]
  },
  {
   "cell_type": "code",
   "execution_count": 15,
   "id": "e75a39ee",
   "metadata": {},
   "outputs": [
    {
     "data": {
      "text/plain": [
       "['Apple', 'Books', 'Zebra']"
      ]
     },
     "execution_count": 15,
     "metadata": {},
     "output_type": "execute_result"
    }
   ],
   "source": [
    "list (filter(lambda x: len(x)<6 ,l3))"
   ]
  },
  {
   "cell_type": "code",
   "execution_count": null,
   "id": "5ec140b8",
   "metadata": {},
   "outputs": [],
   "source": []
  }
 ],
 "metadata": {
  "colab": {
   "provenance": []
  },
  "kernelspec": {
   "display_name": "Python 3 (ipykernel)",
   "language": "python",
   "name": "python3"
  },
  "language_info": {
   "codemirror_mode": {
    "name": "ipython",
    "version": 3
   },
   "file_extension": ".py",
   "mimetype": "text/x-python",
   "name": "python",
   "nbconvert_exporter": "python",
   "pygments_lexer": "ipython3",
   "version": "3.9.13"
  }
 },
 "nbformat": 4,
 "nbformat_minor": 5
}
