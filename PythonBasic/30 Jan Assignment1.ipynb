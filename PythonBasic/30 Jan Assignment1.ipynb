{
 "cells": [
  {
   "cell_type": "markdown",
   "id": "ea80ed84",
   "metadata": {},
   "source": [
    "Write a program to accept percentage from the user and display the grade according to the following"
   ]
  },
  {
   "cell_type": "markdown",
   "id": "c43544bc",
   "metadata": {},
   "source": [
    "Marks \n",
    "Grade \n",
    ">90 \n",
    "A \n",
    ">80 and <=90 \n",
    "B \n",
    ">=60 and <=80 \n",
    "C \n",
    "below 60 \n",
    "D \n"
   ]
  },
  {
   "cell_type": "code",
   "execution_count": 8,
   "id": "92b1b574",
   "metadata": {},
   "outputs": [
    {
     "name": "stdout",
     "output_type": "stream",
     "text": [
      "Enter ypur Marks: 59\n",
      "D\n"
     ]
    }
   ],
   "source": [
    "marks = int(input(\"Enter ypur Marks: \"))\n",
    "if marks > 90:\n",
    "    print(\"A\")\n",
    "elif marks > 80 and marks <=90:\n",
    "    print(\"B\")\n",
    "elif marks >=60 and marks <=80:\n",
    "    print(\"C\")\n",
    "else:\n",
    "    print(\"D\")"
   ]
  },
  {
   "cell_type": "markdown",
   "id": "6995c48f",
   "metadata": {},
   "source": [
    "2. Write a program to accept the cost price of a bike and display the road tax to be paid according to the criteria\n"
   ]
  },
  {
   "cell_type": "code",
   "execution_count": 15,
   "id": "d897938c",
   "metadata": {},
   "outputs": [
    {
     "name": "stdout",
     "output_type": "stream",
     "text": [
      "Enter the Price of Bike5000\n",
      "5%\n"
     ]
    }
   ],
   "source": [
    "price = int(input(\"Enter the Price of Bike\"))\n",
    "if price > 1000000:\n",
    "    print(\"15%\")\n",
    "elif price >500000 and  price <=1000000:\n",
    "    print(\"10%\")\n",
    "elif price<=500000:\n",
    "    print(\"5%\")\n",
    "else:\n",
    "    print(\"thank you\")\n",
    "    "
   ]
  },
  {
   "cell_type": "markdown",
   "id": "42ab4687",
   "metadata": {},
   "source": [
    "3. Accept any city from the user and display monuments of that city. \n",
    "Delhi \n",
    "Monument \n",
    "Red Fort \n",
    "Taj Mahal \n",
    "Agra \n",
    "Jaipur \n",
    "Jal Mahal "
   ]
  },
  {
   "cell_type": "code",
   "execution_count": 21,
   "id": "e02164e1",
   "metadata": {},
   "outputs": [
    {
     "name": "stdout",
     "output_type": "stream",
     "text": [
      "Enter the Place you Visit:Delhi\n",
      "RedFort\n"
     ]
    }
   ],
   "source": [
    "Monuments = input(\"Enter the Place you Visit:\" )\n",
    "if  Monuments == \"Delhi\" or \"delhi\":\n",
    "    print(\"RedFort\")\n",
    "elif Monuments ==\"Agra\" or \"agra\":\n",
    "    print(\"Tajmahal\")\n",
    "elif Monuments == \"Jaipur\" or \"jaipur\":\n",
    "    print(\"Jal mahal\")\n",
    "else:\n",
    "    print(\"thank you\")"
   ]
  },
  {
   "cell_type": "markdown",
   "id": "c2aa0c1f",
   "metadata": {},
   "source": [
    "4.Why and When to Use while Loop in Python give a detailed description with example "
   ]
  },
  {
   "cell_type": "markdown",
   "id": "23e0a768",
   "metadata": {},
   "source": [
    "Python while loop is used to run a block code until a certain condition is met. Here, A while loop evaluates the condition. If the condition evaluates to True , the code inside the while loop is executed."
   ]
  },
  {
   "cell_type": "code",
   "execution_count": 1,
   "id": "117dd3d9",
   "metadata": {},
   "outputs": [
    {
     "name": "stdout",
     "output_type": "stream",
     "text": [
      "1\n",
      "2\n",
      "3\n",
      "4\n",
      "5\n",
      "6\n",
      "7\n",
      "8\n",
      "9\n",
      "10\n"
     ]
    }
   ],
   "source": [
    "a = 1\n",
    "while a<=10:\n",
    "    print(a)\n",
    "    a = a+1"
   ]
  },
  {
   "cell_type": "markdown",
   "id": "8c7892f8",
   "metadata": {},
   "source": [
    "8. Reverse a while loop to display numbers from 10 to 1 `m"
   ]
  },
  {
   "cell_type": "code",
   "execution_count": null,
   "id": "c4690e2a",
   "metadata": {},
   "outputs": [],
   "source": []
  },
  {
   "cell_type": "code",
   "execution_count": 26,
   "id": "c8d4f4d9",
   "metadata": {},
   "outputs": [
    {
     "name": "stdout",
     "output_type": "stream",
     "text": [
      "10\n",
      "9\n",
      "8\n",
      "7\n",
      "6\n",
      "5\n",
      "4\n",
      "3\n",
      "2\n",
      "1\n"
     ]
    }
   ],
   "source": [
    "i = 10\n",
    "while(i>0):\n",
    "    print(i)\n",
    "    i = i-1"
   ]
  },
  {
   "cell_type": "markdown",
   "id": "fbd7d076",
   "metadata": {},
   "source": [
    "9.Use nested while loop to print 3 different pattern. "
   ]
  },
  {
   "cell_type": "code",
   "execution_count": 27,
   "id": "87aa8717",
   "metadata": {},
   "outputs": [
    {
     "name": "stdout",
     "output_type": "stream",
     "text": [
      "Enter number of rows : 5\n",
      "* \n",
      "* * \n",
      "* * * \n",
      "* * * * \n",
      "* * * * * \n"
     ]
    }
   ],
   "source": [
    "n = int(input('Enter number of rows : '))\n",
    " \n",
    "i = 1\n",
    "while i <= n :\n",
    "    j = 1\n",
    "    while j <= i:\n",
    "        print(\"*\", end = \" \")\n",
    "        j += 1\n",
    "    print()\n",
    "    i += 1"
   ]
  },
  {
   "cell_type": "code",
   "execution_count": 28,
   "id": "eb509d1c",
   "metadata": {},
   "outputs": [
    {
     "name": "stdout",
     "output_type": "stream",
     "text": [
      "Enter number of rows : 7\n",
      "* * * * * * * \n",
      "* * * * * * \n",
      "* * * * * \n",
      "* * * * \n",
      "* * * \n",
      "* * \n",
      "* \n"
     ]
    }
   ],
   "source": [
    "n = int(input('Enter number of rows : '))\n",
    " \n",
    "i = 1\n",
    "while i <= n :\n",
    "    j = n\n",
    "    while j >= i:\n",
    "        print(\"*\", end = \" \")\n",
    "        j -= 1\n",
    "    print()\n",
    "    i += 1"
   ]
  },
  {
   "cell_type": "code",
   "execution_count": 29,
   "id": "4a375bc0",
   "metadata": {},
   "outputs": [
    {
     "name": "stdout",
     "output_type": "stream",
     "text": [
      "Enter number of rows : 7\n",
      "  1 \n",
      "  2   3 \n",
      "  4   5   6 \n",
      "  7   8   9  10 \n",
      " 11  12  13  14  15 \n",
      " 16  17  18  19  20  21 \n",
      " 22  23  24  25  26  27  28 \n"
     ]
    }
   ],
   "source": [
    "n = int(input('Enter number of rows : '))\n",
    " \n",
    "k = 1\n",
    "i = 1\n",
    "while i <= n :\n",
    "    j = 1\n",
    "    while j <= i:\n",
    "        print(\"{:3d}\".format(k), end = \" \")\n",
    "        j += 1\n",
    "        k += 1\n",
    "    print()\n",
    "    i += 1"
   ]
  },
  {
   "cell_type": "code",
   "execution_count": null,
   "id": "dc08dcc0",
   "metadata": {},
   "outputs": [],
   "source": []
  }
 ],
 "metadata": {
  "kernelspec": {
   "display_name": "Python 3 (ipykernel)",
   "language": "python",
   "name": "python3"
  },
  "language_info": {
   "codemirror_mode": {
    "name": "ipython",
    "version": 3
   },
   "file_extension": ".py",
   "mimetype": "text/x-python",
   "name": "python",
   "nbconvert_exporter": "python",
   "pygments_lexer": "ipython3",
   "version": "3.9.13"
  }
 },
 "nbformat": 4,
 "nbformat_minor": 5
}
