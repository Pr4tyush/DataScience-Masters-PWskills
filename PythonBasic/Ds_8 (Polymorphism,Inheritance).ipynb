{
 "cells": [
  {
   "cell_type": "markdown",
   "id": "d90c53df",
   "metadata": {},
   "source": [
    "# Polymorphism"
   ]
  },
  {
   "cell_type": "markdown",
   "id": "051de4c0",
   "metadata": {},
   "source": [
    "The word polymorphism means having many forms. In programming, polymorphism means the same function name (but different signatures) being used for different types. The key difference is the data types and number of arguments used in function."
   ]
  },
  {
   "cell_type": "code",
   "execution_count": 5,
   "id": "fdc43a51",
   "metadata": {},
   "outputs": [],
   "source": [
    "class DataScience :\n",
    "    def slayybuss(self):\n",
    "        print(\"This is my slaybuss of the DataScience branch\")"
   ]
  },
  {
   "cell_type": "code",
   "execution_count": 6,
   "id": "90b8b913",
   "metadata": {},
   "outputs": [],
   "source": [
    "class WebDevlopment:\n",
    "    def slayybuss(self):\n",
    "        print(\"This is my salybuss of the Webdevlopment Branch\")"
   ]
  },
  {
   "cell_type": "code",
   "execution_count": 7,
   "id": "749bf95b",
   "metadata": {},
   "outputs": [],
   "source": [
    "DS = DataScience()"
   ]
  },
  {
   "cell_type": "code",
   "execution_count": 10,
   "id": "28e1a040",
   "metadata": {},
   "outputs": [],
   "source": [
    "WD = WebDevlopment()\n"
   ]
  },
  {
   "cell_type": "code",
   "execution_count": 16,
   "id": "19e6eef8",
   "metadata": {},
   "outputs": [],
   "source": [
    "class_object = [DS,WD]"
   ]
  },
  {
   "cell_type": "code",
   "execution_count": 20,
   "id": "6690f4f7",
   "metadata": {},
   "outputs": [
    {
     "name": "stdout",
     "output_type": "stream",
     "text": [
      "This is my slaybuss of the DataScience branch\n",
      "This is my salybuss of the Webdevlopment Branch\n"
     ]
    },
    {
     "ename": "TypeError",
     "evalue": "list expected at most 1 argument, got 3",
     "output_type": "error",
     "traceback": [
      "\u001b[1;31m---------------------------------------------------------------------------\u001b[0m",
      "\u001b[1;31mTypeError\u001b[0m                                 Traceback (most recent call last)",
      "Cell \u001b[1;32mIn [20], line 1\u001b[0m\n\u001b[1;32m----> 1\u001b[0m \u001b[38;5;28;01mclass\u001b[39;00m \u001b[38;5;21;01mParcer\u001b[39;00m(class_object):\n\u001b[0;32m      2\u001b[0m     \u001b[38;5;28;01mfor\u001b[39;00m i \u001b[38;5;129;01min\u001b[39;00m class_object:\n\u001b[0;32m      3\u001b[0m         i\u001b[38;5;241m.\u001b[39mslayybuss()\n",
      "\u001b[1;31mTypeError\u001b[0m: list expected at most 1 argument, got 3"
     ]
    }
   ],
   "source": [
    "class Parcer(class_object):\n",
    "    for i in class_object:\n",
    "        i.slayybuss()"
   ]
  },
  {
   "cell_type": "code",
   "execution_count": 21,
   "id": "256a963c",
   "metadata": {},
   "outputs": [],
   "source": [
    "class India:\n",
    "    def language(self):\n",
    "        print(\"Hindi\")\n",
    "    def Culture(self):\n",
    "        print(\"Traditional\")\n",
    "    def intelligency(self):\n",
    "        print(\"Best in World\")\n",
    "class USA:\n",
    "    def language(self):\n",
    "        print(\"English\")\n",
    "    def Culture(self):\n",
    "        print(\"Modern\")\n",
    "    def intelligency(self):\n",
    "        print(\"Below India\")\n",
    "    "
   ]
  },
  {
   "cell_type": "code",
   "execution_count": 22,
   "id": "112af484",
   "metadata": {},
   "outputs": [],
   "source": [
    "India = India()"
   ]
  },
  {
   "cell_type": "code",
   "execution_count": 23,
   "id": "dee60706",
   "metadata": {},
   "outputs": [],
   "source": [
    "USA = USA()"
   ]
  },
  {
   "cell_type": "code",
   "execution_count": 24,
   "id": "a13472f8",
   "metadata": {},
   "outputs": [],
   "source": [
    "class_object = [India,USA]"
   ]
  },
  {
   "cell_type": "code",
   "execution_count": 26,
   "id": "75520b69",
   "metadata": {},
   "outputs": [
    {
     "name": "stdout",
     "output_type": "stream",
     "text": [
      "Hindi\n",
      "Traditional\n",
      "Best in World\n",
      "English\n",
      "Modern\n",
      "Below India\n"
     ]
    },
    {
     "ename": "TypeError",
     "evalue": "list expected at most 1 argument, got 3",
     "output_type": "error",
     "traceback": [
      "\u001b[1;31m---------------------------------------------------------------------------\u001b[0m",
      "\u001b[1;31mTypeError\u001b[0m                                 Traceback (most recent call last)",
      "Cell \u001b[1;32mIn [26], line 1\u001b[0m\n\u001b[1;32m----> 1\u001b[0m \u001b[38;5;28;01mclass\u001b[39;00m \u001b[38;5;21;01mparcer\u001b[39;00m(class_object):\n\u001b[0;32m      2\u001b[0m     \u001b[38;5;28;01mfor\u001b[39;00m i \u001b[38;5;129;01min\u001b[39;00m class_object:\n\u001b[0;32m      3\u001b[0m         i\u001b[38;5;241m.\u001b[39mlanguage()\n",
      "\u001b[1;31mTypeError\u001b[0m: list expected at most 1 argument, got 3"
     ]
    }
   ],
   "source": [
    "class parcer(class_object):\n",
    "    for i in class_object:\n",
    "        i.language()\n",
    "        i.Culture()\n",
    "        i.intelligency()"
   ]
  },
  {
   "cell_type": "markdown",
   "id": "1a252ffb",
   "metadata": {},
   "source": [
    "# Encapsulation"
   ]
  },
  {
   "cell_type": "markdown",
   "id": "d186c579",
   "metadata": {},
   "source": [
    "Encapsulation is a mechanism of wrapping the data (variables) and code acting on the data (methods) together as a single unit. In encapsulation, the variables of a class will be hidden from other classes, and can be accessed only through the methods of their current class.`"
   ]
  },
  {
   "cell_type": "code",
   "execution_count": 37,
   "id": "4ceff145",
   "metadata": {},
   "outputs": [],
   "source": [
    "class car:\n",
    "    def __init__(self,year,make,model,speed):\n",
    "        self.__year = year\n",
    "        self.__make = make\n",
    "        self.__model = model\n",
    "        self.__speed = 0\n",
    "    def set_speed(self,speed):\n",
    "        self.__speed = 0 if speed < 0 else speed\n",
    "    def get_speed(self):\n",
    "        return self.__speed\n"
   ]
  },
  {
   "cell_type": "code",
   "execution_count": 28,
   "id": "fba6a5ec",
   "metadata": {},
   "outputs": [],
   "source": [
    "c = car(2021,\"Mahindra\",\"Thar\",12)"
   ]
  },
  {
   "cell_type": "code",
   "execution_count": 31,
   "id": "f3b53d00",
   "metadata": {},
   "outputs": [
    {
     "data": {
      "text/plain": [
       "2021"
      ]
     },
     "execution_count": 31,
     "metadata": {},
     "output_type": "execute_result"
    }
   ],
   "source": [
    "c._car__year"
   ]
  },
  {
   "cell_type": "code",
   "execution_count": 32,
   "id": "405cf1ba",
   "metadata": {},
   "outputs": [
    {
     "data": {
      "text/plain": [
       "'Mahindra'"
      ]
     },
     "execution_count": 32,
     "metadata": {},
     "output_type": "execute_result"
    }
   ],
   "source": [
    "c._car__make"
   ]
  },
  {
   "cell_type": "code",
   "execution_count": 33,
   "id": "0b364525",
   "metadata": {},
   "outputs": [
    {
     "data": {
      "text/plain": [
       "'Thar'"
      ]
     },
     "execution_count": 33,
     "metadata": {},
     "output_type": "execute_result"
    }
   ],
   "source": [
    "c._car__model"
   ]
  },
  {
   "cell_type": "code",
   "execution_count": 40,
   "id": "f9c88e42",
   "metadata": {},
   "outputs": [
    {
     "ename": "AttributeError",
     "evalue": "'car' object has no attribute 'get_speed'",
     "output_type": "error",
     "traceback": [
      "\u001b[1;31m---------------------------------------------------------------------------\u001b[0m",
      "\u001b[1;31mAttributeError\u001b[0m                            Traceback (most recent call last)",
      "Cell \u001b[1;32mIn [40], line 1\u001b[0m\n\u001b[1;32m----> 1\u001b[0m \u001b[43mc\u001b[49m\u001b[38;5;241;43m.\u001b[39;49m\u001b[43mget_speed\u001b[49m(\u001b[38;5;241m8998\u001b[39m)\n",
      "\u001b[1;31mAttributeError\u001b[0m: 'car' object has no attribute 'get_speed'"
     ]
    }
   ],
   "source": [
    "c.get_speed(8998)"
   ]
  },
  {
   "cell_type": "code",
   "execution_count": 43,
   "id": "c2db2de1",
   "metadata": {},
   "outputs": [],
   "source": [
    "class bank_account:\n",
    "    def __init__(self,balance):\n",
    "        self.__balance = balance\n",
    "    def deposite(self,amount):\n",
    "        self.__balance = self.__balance + amount\n",
    "    def withdrwal(self,amount):\n",
    "        if self.__balance >= amount :\n",
    "            self.__balance = self.__balance - amount\n",
    "            return True\n",
    "        else:\n",
    "            return False\n",
    "    def get_balance(self):\n",
    "        return self.__balance"
   ]
  },
  {
   "cell_type": "code",
   "execution_count": 44,
   "id": "65ed7289",
   "metadata": {},
   "outputs": [],
   "source": [
    "Pratyush = bank_account(1000)"
   ]
  },
  {
   "cell_type": "code",
   "execution_count": 45,
   "id": "36530460",
   "metadata": {},
   "outputs": [
    {
     "data": {
      "text/plain": [
       "1000"
      ]
     },
     "execution_count": 45,
     "metadata": {},
     "output_type": "execute_result"
    }
   ],
   "source": [
    "Pratyush.get_balance()"
   ]
  },
  {
   "cell_type": "code",
   "execution_count": 46,
   "id": "36304e4d",
   "metadata": {},
   "outputs": [],
   "source": [
    "Pratyush.deposite(5000)"
   ]
  },
  {
   "cell_type": "code",
   "execution_count": 47,
   "id": "ec657f5d",
   "metadata": {},
   "outputs": [
    {
     "data": {
      "text/plain": [
       "6000"
      ]
     },
     "execution_count": 47,
     "metadata": {},
     "output_type": "execute_result"
    }
   ],
   "source": [
    "Pratyush.get_balance()"
   ]
  },
  {
   "cell_type": "code",
   "execution_count": 48,
   "id": "0b576f04",
   "metadata": {},
   "outputs": [],
   "source": [
    "Pratyush.deposite(80000)"
   ]
  },
  {
   "cell_type": "code",
   "execution_count": 49,
   "id": "151d11f8",
   "metadata": {},
   "outputs": [
    {
     "data": {
      "text/plain": [
       "86000"
      ]
     },
     "execution_count": 49,
     "metadata": {},
     "output_type": "execute_result"
    }
   ],
   "source": [
    "Pratyush.get_balance()"
   ]
  },
  {
   "cell_type": "code",
   "execution_count": 50,
   "id": "0666b468",
   "metadata": {},
   "outputs": [
    {
     "data": {
      "text/plain": [
       "True"
      ]
     },
     "execution_count": 50,
     "metadata": {},
     "output_type": "execute_result"
    }
   ],
   "source": [
    "Pratyush.withdrwal(6000)"
   ]
  },
  {
   "cell_type": "code",
   "execution_count": 51,
   "id": "34f3f74d",
   "metadata": {},
   "outputs": [
    {
     "data": {
      "text/plain": [
       "80000"
      ]
     },
     "execution_count": 51,
     "metadata": {},
     "output_type": "execute_result"
    }
   ],
   "source": [
    "Pratyush.get_balance()"
   ]
  },
  {
   "cell_type": "markdown",
   "id": "ef1e87c0",
   "metadata": {},
   "source": [
    "# Inheritance"
   ]
  },
  {
   "cell_type": "markdown",
   "id": "055ca44c",
   "metadata": {},
   "source": [
    "# The method of using the property of Parent class is known as Inheritance"
   ]
  },
  {
   "cell_type": "code",
   "execution_count": null,
   "id": "f05bfb59",
   "metadata": {},
   "outputs": [],
   "source": []
  },
  {
   "cell_type": "code",
   "execution_count": 52,
   "id": "1c0afdde",
   "metadata": {},
   "outputs": [],
   "source": [
    "class test:\n",
    "    def testmethod(self):\n",
    "        print(\"Hello this is my class\")"
   ]
  },
  {
   "cell_type": "code",
   "execution_count": 53,
   "id": "d6e1f6f7",
   "metadata": {},
   "outputs": [],
   "source": [
    "class childClass(test):\n",
    "    pass"
   ]
  },
  {
   "cell_type": "code",
   "execution_count": 56,
   "id": "806ff132",
   "metadata": {},
   "outputs": [],
   "source": [
    "child = childClass()"
   ]
  },
  {
   "cell_type": "code",
   "execution_count": 58,
   "id": "942b5181",
   "metadata": {},
   "outputs": [
    {
     "name": "stdout",
     "output_type": "stream",
     "text": [
      "Hello this is my class\n"
     ]
    }
   ],
   "source": [
    "child.testmethod()"
   ]
  },
  {
   "cell_type": "markdown",
   "id": "fd48c441",
   "metadata": {},
   "source": [
    "# Multilevel Inheritance"
   ]
  },
  {
   "cell_type": "markdown",
   "id": "d1e7a7a1",
   "metadata": {},
   "source": [
    "In Python, not only can we derive a class from the superclass but you can also derive a class from the derived class. This form of inheritance is known as multilevel inheritance."
   ]
  },
  {
   "cell_type": "code",
   "execution_count": 68,
   "id": "62e26348",
   "metadata": {},
   "outputs": [],
   "source": [
    "class class1:\n",
    "    def test_class1(self):\n",
    "        return \"this is method from class1\""
   ]
  },
  {
   "cell_type": "code",
   "execution_count": 60,
   "id": "32738634",
   "metadata": {},
   "outputs": [],
   "source": [
    "class class2(class1):\n",
    "    def test_class2(self):\n",
    "        return \"This is my method from class2\"\n"
   ]
  },
  {
   "cell_type": "code",
   "execution_count": 61,
   "id": "7dae1f06",
   "metadata": {},
   "outputs": [],
   "source": [
    "class class3(class2):\n",
    "    pass"
   ]
  },
  {
   "cell_type": "code",
   "execution_count": 64,
   "id": "a7fec532",
   "metadata": {},
   "outputs": [],
   "source": [
    "obj_class3 = class3()"
   ]
  },
  {
   "cell_type": "code",
   "execution_count": 66,
   "id": "ea01d560",
   "metadata": {},
   "outputs": [
    {
     "data": {
      "text/plain": [
       "'this is method from class1'"
      ]
     },
     "execution_count": 66,
     "metadata": {},
     "output_type": "execute_result"
    }
   ],
   "source": [
    "obj_class3.test_class1()"
   ]
  },
  {
   "cell_type": "code",
   "execution_count": 67,
   "id": "08e60e2e",
   "metadata": {},
   "outputs": [
    {
     "data": {
      "text/plain": [
       "'This is my method from class2'"
      ]
     },
     "execution_count": 67,
     "metadata": {},
     "output_type": "execute_result"
    }
   ],
   "source": [
    "obj_class2.test_class2()"
   ]
  },
  {
   "cell_type": "markdown",
   "id": "fedaf245",
   "metadata": {},
   "source": [
    "# Multiple Inheritance"
   ]
  },
  {
   "cell_type": "markdown",
   "id": "0333e8af",
   "metadata": {},
   "source": [
    "When a class is derived from more than one base class it is called multiple Inheritance. The derived class inherits all the features of the base case."
   ]
  },
  {
   "cell_type": "code",
   "execution_count": 69,
   "id": "58a82e41",
   "metadata": {},
   "outputs": [],
   "source": [
    "class class1:\n",
    "    def test_class1(self):\n",
    "        return \"This is class1\""
   ]
  },
  {
   "cell_type": "code",
   "execution_count": 70,
   "id": "11c4dbca",
   "metadata": {},
   "outputs": [],
   "source": [
    "class class2:\n",
    "    def test_class2(self):\n",
    "        return \"This is class2\""
   ]
  },
  {
   "cell_type": "code",
   "execution_count": 71,
   "id": "9dd1c128",
   "metadata": {},
   "outputs": [],
   "source": [
    "class class3(class1,class2):\n",
    "    pass"
   ]
  },
  {
   "cell_type": "code",
   "execution_count": 72,
   "id": "bd37c57f",
   "metadata": {},
   "outputs": [],
   "source": [
    "obj_class3 = class3()"
   ]
  },
  {
   "cell_type": "code",
   "execution_count": 73,
   "id": "f3b1133c",
   "metadata": {},
   "outputs": [
    {
     "data": {
      "text/plain": [
       "'This is class1'"
      ]
     },
     "execution_count": 73,
     "metadata": {},
     "output_type": "execute_result"
    }
   ],
   "source": [
    "obj_class3.test_class1()"
   ]
  },
  {
   "cell_type": "code",
   "execution_count": 76,
   "id": "a93f9dcb",
   "metadata": {},
   "outputs": [
    {
     "data": {
      "text/plain": [
       "'This is class2'"
      ]
     },
     "execution_count": 76,
     "metadata": {},
     "output_type": "execute_result"
    }
   ],
   "source": [
    "obj_class3.test_class2()"
   ]
  },
  {
   "cell_type": "code",
   "execution_count": null,
   "id": "a0712c85",
   "metadata": {},
   "outputs": [],
   "source": []
  },
  {
   "cell_type": "code",
   "execution_count": 81,
   "id": "d35587fb",
   "metadata": {},
   "outputs": [],
   "source": [
    "class car_Model:\n",
    "    def Model(self):\n",
    "        return \"Maclaren\""
   ]
  },
  {
   "cell_type": "code",
   "execution_count": 82,
   "id": "73c60d7d",
   "metadata": {},
   "outputs": [],
   "source": [
    "class car_price:\n",
    "    def Price(self):\n",
    "        return \"99000/-\""
   ]
  },
  {
   "cell_type": "code",
   "execution_count": 83,
   "id": "86fdca20",
   "metadata": {},
   "outputs": [],
   "source": [
    "class car_name:\n",
    "    def name (self):\n",
    "        return \"Gt100\""
   ]
  },
  {
   "cell_type": "code",
   "execution_count": 84,
   "id": "fe108278",
   "metadata": {},
   "outputs": [],
   "source": [
    "class pack(car_Model,car_price,car_name):\n",
    "    pass"
   ]
  },
  {
   "cell_type": "code",
   "execution_count": 89,
   "id": "c7ea7ce1",
   "metadata": {},
   "outputs": [],
   "source": [
    "obj3 = pack()"
   ]
  },
  {
   "cell_type": "code",
   "execution_count": 90,
   "id": "226b84db",
   "metadata": {},
   "outputs": [
    {
     "data": {
      "text/plain": [
       "'Maclaren'"
      ]
     },
     "execution_count": 90,
     "metadata": {},
     "output_type": "execute_result"
    }
   ],
   "source": [
    "obj3.Model()"
   ]
  },
  {
   "cell_type": "code",
   "execution_count": 91,
   "id": "6f6d69b3",
   "metadata": {},
   "outputs": [
    {
     "data": {
      "text/plain": [
       "'Gt100'"
      ]
     },
     "execution_count": 91,
     "metadata": {},
     "output_type": "execute_result"
    }
   ],
   "source": [
    "obj3.name()"
   ]
  },
  {
   "cell_type": "code",
   "execution_count": 92,
   "id": "36a97a37",
   "metadata": {},
   "outputs": [
    {
     "data": {
      "text/plain": [
       "'99000/-'"
      ]
     },
     "execution_count": 92,
     "metadata": {},
     "output_type": "execute_result"
    }
   ],
   "source": [
    "obj3.Price()"
   ]
  },
  {
   "cell_type": "code",
   "execution_count": null,
   "id": "0e72a17b",
   "metadata": {},
   "outputs": [],
   "source": []
  }
 ],
 "metadata": {
  "kernelspec": {
   "display_name": "Python 3 (ipykernel)",
   "language": "python",
   "name": "python3"
  },
  "language_info": {
   "codemirror_mode": {
    "name": "ipython",
    "version": 3
   },
   "file_extension": ".py",
   "mimetype": "text/x-python",
   "name": "python",
   "nbconvert_exporter": "python",
   "pygments_lexer": "ipython3",
   "version": "3.9.13"
  }
 },
 "nbformat": 4,
 "nbformat_minor": 5
}
