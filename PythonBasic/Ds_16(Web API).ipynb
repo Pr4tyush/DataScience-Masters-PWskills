{
 "cells": [
  {
   "cell_type": "markdown",
   "id": "28662206",
   "metadata": {},
   "source": [
    "# API : Application programming Interface "
   ]
  },
  {
   "cell_type": "markdown",
   "id": "1db43511",
   "metadata": {},
   "source": [
    "API : Application programming Interface is helps to connect diffrent application Such as Homogenous or Heterogenous applications and communicate with them is Known as Application programming Interace"
   ]
  },
  {
   "cell_type": "markdown",
   "id": "5f56e553",
   "metadata": {},
   "source": [
    "# WebAPI"
   ]
  },
  {
   "cell_type": "markdown",
   "id": "36b37e1e",
   "metadata": {},
   "source": [
    "Web API is an API as the name suggests, it can be accessed over the web using the HTTP protocol. It is a framework that helps you to create and develop HTTP based RESTFUL services. The web API can be developed by using different technologies such as java, ASP.NET, etc. Web API is used in either a web server or a web browser. Basically Web API is a web development concept. It is limited to Web Application’s client-side and also it does not include a web server or web browser details. If an application is to be used on a distributed system and to provide services on different devices like laptops, mobiles, etc then web API services are used. Web API is the enhanced form of the web application."
   ]
  },
  {
   "cell_type": "markdown",
   "id": "c9ec77ad",
   "metadata": {},
   "source": [
    "# Key Diffrences Between API and WEB API"
   ]
  },
  {
   "cell_type": "markdown",
   "id": "b270ad64",
   "metadata": {},
   "source": [
    "\n",
    "1.Web service is a collection of open source protocols and standards used for exchanging data between systems or applications, whereas API is a software interface that allows two applications to interact with each other without any user involvement.\n",
    "\n",
    "2.Web service is used for REST, SOAP, and XML-RPC for communication, while API is used for any style of communication.\n",
    "\n",
    "3.Web service supports only HTTP protocol, whereas API supports HTTP/HTTPS protocol.\n",
    "\n",
    "4.Web service supports XML, while API supports XML and JSON\n",
    "\n",
    "5.All Web services are APIs, but all APIs are not web services."
   ]
  },
  {
   "cell_type": "markdown",
   "id": "f7eaf9b5",
   "metadata": {},
   "source": [
    "# What is REST?"
   ]
  },
  {
   "cell_type": "markdown",
   "id": "5b72c13f",
   "metadata": {},
   "source": [
    "REST stands for REpresentational State Transfer and API stands for Application Program Interface. REST is a software architectural style that defines the set of rules to be used for creating web services. Web services which follow the REST architectural style are known as RESTful web services. It allows requesting systems to access and manipulate web resources by using a uniform and predefined set of rules. Interaction in REST based systems happen through Internet’s Hypertext Transfer Protocol (HTTP). "
   ]
  },
  {
   "cell_type": "markdown",
   "id": "e9ff2839",
   "metadata": {},
   "source": [
    "Stateless: It means that the necessary state to handle the request is contained within the request itself and server would not store anything related to the session."
   ]
  },
  {
   "cell_type": "markdown",
   "id": "35fa4f3f",
   "metadata": {},
   "source": [
    "It works on HTTP protocols such as:\n",
    "\n",
    "    PUT\n",
    "    GET\n",
    "    POST\n",
    "    DELETE\n",
    "    "
   ]
  },
  {
   "cell_type": "markdown",
   "id": "22fcea82",
   "metadata": {},
   "source": [
    "REST API Artitecture has some Good Characterics:\n",
    "    \n",
    "    Simple\n",
    "    Scalablity\n",
    "    Flexiblity"
   ]
  },
  {
   "cell_type": "markdown",
   "id": "76cf0ccb",
   "metadata": {},
   "source": [
    "REST API is Used Where Security is Not that Concerend"
   ]
  },
  {
   "cell_type": "markdown",
   "id": "40ad002e",
   "metadata": {},
   "source": [
    "Cacheble: Response from the server can be cached to improve Performance"
   ]
  },
  {
   "cell_type": "markdown",
   "id": "45d1b988",
   "metadata": {},
   "source": [
    "Uniform Interface: Restful services use a uniform interface consisting of resources HTTP verbs (GET,POST,PUT,DEL)\n",
    "and hypermedia links"
   ]
  },
  {
   "cell_type": "markdown",
   "id": "1b38d7db",
   "metadata": {},
   "source": [
    "Layered System: RESTful api services can be composed of multiple layers allowing for scalablity ,flexibility,security"
   ]
  },
  {
   "cell_type": "markdown",
   "id": "3c876cb3",
   "metadata": {},
   "source": [
    "# What is SOAP API?"
   ]
  },
  {
   "cell_type": "markdown",
   "id": "83a5a131",
   "metadata": {},
   "source": [
    "It works on XML"
   ]
  },
  {
   "cell_type": "markdown",
   "id": "658733e1",
   "metadata": {},
   "source": [
    "It works on Such protocols:\n",
    "    \n",
    "    HTTP\n",
    "    SMTP\n",
    "    TCP/IP"
   ]
  },
  {
   "cell_type": "markdown",
   "id": "f52dc2bd",
   "metadata": {},
   "source": [
    "It is complex as compared to REST API"
   ]
  },
  {
   "cell_type": "markdown",
   "id": "9711f478",
   "metadata": {},
   "source": [
    "SOAP uses only XML for exchanging information in its message format whereas REST is not restricted to XML and its the choice of implementer which Media-Type to use like XML, JSON, Plain-text. Moreover, REST can use SOAP protocol but SOAP cannot use REST."
   ]
  },
  {
   "cell_type": "markdown",
   "id": "f5c30514",
   "metadata": {},
   "source": [
    "SOAP is difficult to implement and it requires more bandwidth whereas REST is easy to implement and requires less bandwidth such as smartphones"
   ]
  },
  {
   "cell_type": "markdown",
   "id": "c0464f87",
   "metadata": {},
   "source": [
    "On the basis of Security, SOAP has SSL( Secure Socket Layer) and WS-security whereas REST has SSL and HTTPS. In the case of Bank Account Password, Card Number, etc. SOAP is preferred over REST. The security issue is all about your application requirement, you have to build security on your own. It’s about what type of protocol you use."
   ]
  },
  {
   "cell_type": "code",
   "execution_count": null,
   "id": "dbd8baab",
   "metadata": {},
   "outputs": [],
   "source": []
  }
 ],
 "metadata": {
  "kernelspec": {
   "display_name": "Python 3 (ipykernel)",
   "language": "python",
   "name": "python3"
  },
  "language_info": {
   "codemirror_mode": {
    "name": "ipython",
    "version": 3
   },
   "file_extension": ".py",
   "mimetype": "text/x-python",
   "name": "python",
   "nbconvert_exporter": "python",
   "pygments_lexer": "ipython3",
   "version": "3.9.13"
  }
 },
 "nbformat": 4,
 "nbformat_minor": 5
}
