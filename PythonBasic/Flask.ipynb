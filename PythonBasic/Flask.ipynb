{
 "cells": [
  {
   "cell_type": "markdown",
   "id": "db5cb5db",
   "metadata": {},
   "source": [
    "# What is Flask?"
   ]
  },
  {
   "cell_type": "markdown",
   "id": "28926ccc",
   "metadata": {},
   "source": [
    "It is a Webapplication Framework Written In Python .To make end to end projects"
   ]
  },
  {
   "cell_type": "markdown",
   "id": "e8f653b7",
   "metadata": {},
   "source": [
    "Armin Roncher Developed it"
   ]
  },
  {
   "cell_type": "markdown",
   "id": "115d944b",
   "metadata": {},
   "source": [
    "BAsed on WSGI Concept and JINja 2 Template engine"
   ]
  },
  {
   "cell_type": "markdown",
   "id": "437e7c87",
   "metadata": {},
   "source": [
    "WSGI: Web Server Gateway Protocol"
   ]
  },
  {
   "cell_type": "markdown",
   "id": "6b458c25",
   "metadata": {},
   "source": [
    "WSGI is a specification that describes the communication between web servers and Python web applications or frameworks. It explains how a web server communicates with python web applications/frameworks and how web applications/frameworks can be chained for processing a request."
   ]
  },
  {
   "cell_type": "markdown",
   "id": "92a34b0d",
   "metadata": {},
   "source": [
    "# What is JINJA2 Template Engine?"
   ]
  },
  {
   "cell_type": "markdown",
   "id": "173bb5b8",
   "metadata": {},
   "source": [
    "Jinja2 is a modern day templating language for Python developers. It was made after Django’s template. It is used to create HTML, XML or other markup formats that are returned to the user via an HTTP request"
   ]
  },
  {
   "cell_type": "markdown",
   "id": "cac350c6",
   "metadata": {},
   "source": [
    "Here is a small example of a template file example.html.jinja"
   ]
  },
  {
   "cell_type": "code",
   "execution_count": 1,
   "id": "81498334",
   "metadata": {},
   "outputs": [
    {
     "ename": "SyntaxError",
     "evalue": "invalid syntax (1742261481.py, line 1)",
     "output_type": "error",
     "traceback": [
      "\u001b[1;36m  Cell \u001b[1;32mIn [1], line 1\u001b[1;36m\u001b[0m\n\u001b[1;33m    <!DOCTYPE html>\u001b[0m\n\u001b[1;37m    ^\u001b[0m\n\u001b[1;31mSyntaxError\u001b[0m\u001b[1;31m:\u001b[0m invalid syntax\n"
     ]
    }
   ],
   "source": [
    "<!DOCTYPE html>\n",
    "<html>\n",
    "  <head>\n",
    "    <title>{{ variable|escape }}</title>\n",
    "  </head>\n",
    "  <body>\n",
    "  {%- for item in item_list %}\n",
    "    {{ item }}{% if not loop.last %},{% endif %}\n",
    "  {%- endfor %}\n",
    "  </body>\n",
    "</html>"
   ]
  },
  {
   "cell_type": "code",
   "execution_count": null,
   "id": "f2bbc6c9",
   "metadata": {},
   "outputs": [],
   "source": []
  }
 ],
 "metadata": {
  "kernelspec": {
   "display_name": "Python 3 (ipykernel)",
   "language": "python",
   "name": "python3"
  },
  "language_info": {
   "codemirror_mode": {
    "name": "ipython",
    "version": 3
   },
   "file_extension": ".py",
   "mimetype": "text/x-python",
   "name": "python",
   "nbconvert_exporter": "python",
   "pygments_lexer": "ipython3",
   "version": "3.9.13"
  }
 },
 "nbformat": 4,
 "nbformat_minor": 5
}
