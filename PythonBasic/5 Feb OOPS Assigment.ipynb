{
 "cells": [
  {
   "cell_type": "markdown",
   "id": "6155e6e5",
   "metadata": {},
   "source": [
    "Q1. Explain Class and Object with respect to Object-Oriented Programming. Give a suitable example."
   ]
  },
  {
   "cell_type": "markdown",
   "id": "d2f01c09",
   "metadata": {},
   "source": [
    "Ans:A class is considered as a blueprint of objects. We can think of the class as a sketch (prototype) of a house. It contains all the details about the floors, doors, windows, etc. Based on these descriptions we build the house. House is the object.\n",
    "\n",
    "Since many houses can be made from the same description, we can create many objects from a class\n",
    "\n",
    "while Objects are the Instances of \"Class\""
   ]
  },
  {
   "cell_type": "markdown",
   "id": "d12c7429",
   "metadata": {},
   "source": [
    "Q2. Name the four pillars of OOPs."
   ]
  },
  {
   "cell_type": "markdown",
   "id": "aa3f8aa0",
   "metadata": {},
   "source": [
    "Ans:Inheritance,Polymorphism,Encapsulation,Abstraction"
   ]
  },
  {
   "cell_type": "markdown",
   "id": "6d2cf38a",
   "metadata": {},
   "source": [
    "Q3. Explain why the __init__() function is used. Give a suitable example."
   ]
  },
  {
   "cell_type": "markdown",
   "id": "0d2a71f0",
   "metadata": {},
   "source": [
    "A constructor of a class in Python is defined using the __init__ method. The python __init__ is a reserved method in Python that behaves like any other member function of the class, except the statements written under its definition are used to initialize the data members of a class in Python,"
   ]
  },
  {
   "cell_type": "markdown",
   "id": "b341449f",
   "metadata": {},
   "source": [
    "It is declared as __init__()\n"
   ]
  },
  {
   "cell_type": "code",
   "execution_count": 2,
   "id": "bd88f640",
   "metadata": {},
   "outputs": [],
   "source": [
    "#example \n",
    "class Pratyush():\n",
    "    def __init__(self,number,name):\n",
    "        self.number =  number\n",
    "        self.name = name \n",
    "\n",
    "    "
   ]
  },
  {
   "cell_type": "markdown",
   "id": "0f345e0d",
   "metadata": {},
   "source": [
    "Q4. Why self is used in OOPs?"
   ]
  },
  {
   "cell_type": "markdown",
   "id": "80da9381",
   "metadata": {},
   "source": [
    "\"self\" is not a private word of python you can use anything at the place of \"self\" \n",
    "The self keyword is used in the __init__ method to initialize the name and salary attributes of the Employee class. "
   ]
  },
  {
   "cell_type": "markdown",
   "id": "819f34ca",
   "metadata": {},
   "source": [
    "The self keyword is used to refer to the instance of an object. It is used to access the attributes and methods of an object within the object's own class."
   ]
  },
  {
   "cell_type": "markdown",
   "id": "62b0a181",
   "metadata": {},
   "source": [
    "Q5. What is inheritance? Give an example for each type of inheritance."
   ]
  },
  {
   "cell_type": "markdown",
   "id": "318fe05a",
   "metadata": {},
   "source": [
    "It is a mechanism that allows you to create a hierarchy of classes that share a set of properties and methods by deriving a class from another class. Inheritance is the capability of one class to derive or inherit the properties from another class. "
   ]
  },
  {
   "cell_type": "markdown",
   "id": "b4f919b4",
   "metadata": {},
   "source": [
    "There are basically two Types of class in Inheritance:\n",
    "    \n",
    "1.Parent Class\n",
    "\n",
    "2.Child Class"
   ]
  },
  {
   "cell_type": "markdown",
   "id": "a0eab406",
   "metadata": {},
   "source": [
    "ParentClass: Parent Class are also known as BaseClass The class being inherited from\n",
    "    \n",
    "Child Class: Child class is the class that inherits from another class, also called derived class"
   ]
  },
  {
   "cell_type": "code",
   "execution_count": 22,
   "id": "6c9cb4cc",
   "metadata": {},
   "outputs": [],
   "source": [
    "#example of Parent Class:\n",
    "class Student():\n",
    "    def __init__(self,name,rollno):\n",
    "        self.name = name\n",
    "        self.rollno = rollno\n",
    "    def display(self):\n",
    "        return (self.name,self.rollno)\n",
    "#child Class\n",
    "class stud():\n",
    "    def cclass(self):\n",
    "        std = stud(\"Pratyush\",908090)"
   ]
  },
  {
   "cell_type": "code",
   "execution_count": 15,
   "id": "5619d248",
   "metadata": {},
   "outputs": [],
   "source": [
    "pk = Student(\"pratyush\",8888888)"
   ]
  },
  {
   "cell_type": "code",
   "execution_count": 16,
   "id": "e6b1bdb9",
   "metadata": {},
   "outputs": [
    {
     "data": {
      "text/plain": [
       "('pratyush', 8888888)"
      ]
     },
     "execution_count": 16,
     "metadata": {},
     "output_type": "execute_result"
    }
   ],
   "source": [
    "pk.display()"
   ]
  },
  {
   "cell_type": "code",
   "execution_count": 17,
   "id": "20391e26",
   "metadata": {},
   "outputs": [
    {
     "data": {
      "text/plain": [
       "'pratyush'"
      ]
     },
     "execution_count": 17,
     "metadata": {},
     "output_type": "execute_result"
    }
   ],
   "source": [
    "pk.name"
   ]
  },
  {
   "cell_type": "code",
   "execution_count": 18,
   "id": "a4b72241",
   "metadata": {},
   "outputs": [
    {
     "data": {
      "text/plain": [
       "8888888"
      ]
     },
     "execution_count": 18,
     "metadata": {},
     "output_type": "execute_result"
    }
   ],
   "source": [
    "pk.rollno"
   ]
  },
  {
   "cell_type": "code",
   "execution_count": null,
   "id": "78616b79",
   "metadata": {},
   "outputs": [],
   "source": []
  },
  {
   "cell_type": "code",
   "execution_count": null,
   "id": "1d200369",
   "metadata": {},
   "outputs": [],
   "source": []
  }
 ],
 "metadata": {
  "kernelspec": {
   "display_name": "Python 3 (ipykernel)",
   "language": "python",
   "name": "python3"
  },
  "language_info": {
   "codemirror_mode": {
    "name": "ipython",
    "version": 3
   },
   "file_extension": ".py",
   "mimetype": "text/x-python",
   "name": "python",
   "nbconvert_exporter": "python",
   "pygments_lexer": "ipython3",
   "version": "3.9.13"
  }
 },
 "nbformat": 4,
 "nbformat_minor": 5
}
