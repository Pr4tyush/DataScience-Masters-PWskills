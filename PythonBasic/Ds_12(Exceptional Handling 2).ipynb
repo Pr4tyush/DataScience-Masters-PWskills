{
 "cells": [
  {
   "cell_type": "code",
   "execution_count": 2,
   "id": "399977d1",
   "metadata": {},
   "outputs": [
    {
     "name": "stdout",
     "output_type": "stream",
     "text": [
      "There is some error division by zero\n"
     ]
    }
   ],
   "source": [
    "try:\n",
    "    a = 10/0\n",
    "except Exception as e:\n",
    "    print(\"There is some error\",e)"
   ]
  },
  {
   "cell_type": "code",
   "execution_count": 3,
   "id": "3ad00abf",
   "metadata": {},
   "outputs": [
    {
     "name": "stdout",
     "output_type": "stream",
     "text": [
      "Some Erroe Occured invalid literal for int() with base 10: 'Pratyush Kumar'\n"
     ]
    }
   ],
   "source": [
    "try:\n",
    "    int(\"Pratyush Kumar\")\n",
    "except (ValueError , TypeError) as e:\n",
    "    print(\"Some Erroe Occured\",e)"
   ]
  },
  {
   "cell_type": "code",
   "execution_count": 6,
   "id": "ce3364f8",
   "metadata": {},
   "outputs": [
    {
     "name": "stdout",
     "output_type": "stream",
     "text": [
      "This will Caught an Error\n"
     ]
    }
   ],
   "source": [
    "try:\n",
    "    int(\"Pratyush\")\n",
    "except:\n",
    "    print('This will Caught an Error')"
   ]
  },
  {
   "cell_type": "code",
   "execution_count": 8,
   "id": "199d3c40",
   "metadata": {},
   "outputs": [
    {
     "name": "stdout",
     "output_type": "stream",
     "text": [
      "No module named 'Pratyush'\n",
      "Pratyush\n"
     ]
    }
   ],
   "source": [
    "try:\n",
    "    import Pratyush\n",
    "except ImportError as e:\n",
    "    print(e)\n",
    "finally:\n",
    "    print(\"Pratyush\")"
   ]
  },
  {
   "cell_type": "code",
   "execution_count": 14,
   "id": "8f742621",
   "metadata": {},
   "outputs": [
    {
     "name": "stdout",
     "output_type": "stream",
     "text": [
      "'Key2'\n"
     ]
    }
   ],
   "source": [
    "try:\n",
    "    d = {\"Pratyush\": \"PratyushK\",\n",
    "        \"Key\": [1,2,3,4,45,5,6]}\n",
    "    print(d[\"Key2\"])\n",
    "except KeyError as e:\n",
    "    print(e)"
   ]
  },
  {
   "cell_type": "code",
   "execution_count": 13,
   "id": "6956e2d9",
   "metadata": {},
   "outputs": [
    {
     "name": "stdout",
     "output_type": "stream",
     "text": [
      "'str' object has no attribute 'test'\n"
     ]
    }
   ],
   "source": [
    "try:\n",
    "    \"Pratyush\".test()\n",
    "except AttributeError as e:\n",
    "    print(e)"
   ]
  },
  {
   "cell_type": "code",
   "execution_count": 15,
   "id": "8ae55c5a",
   "metadata": {},
   "outputs": [
    {
     "name": "stdout",
     "output_type": "stream",
     "text": [
      "list index out of range\n"
     ]
    }
   ],
   "source": [
    "try:\n",
    "    l = [2,3,4,4,5]\n",
    "    print(l[10])\n",
    "except IndexError as e:\n",
    "    print(e)"
   ]
  },
  {
   "cell_type": "code",
   "execution_count": 17,
   "id": "5b9dcfac",
   "metadata": {},
   "outputs": [
    {
     "ename": "SyntaxError",
     "evalue": "cannot assign to literal (3927143139.py, line 2)",
     "output_type": "error",
     "traceback": [
      "\u001b[1;36m  Cell \u001b[1;32mIn [17], line 2\u001b[1;36m\u001b[0m\n\u001b[1;33m    123 = \"Pratyush\"\u001b[0m\n\u001b[1;37m    ^\u001b[0m\n\u001b[1;31mSyntaxError\u001b[0m\u001b[1;31m:\u001b[0m cannot assign to literal\n"
     ]
    }
   ],
   "source": [
    "try:\n",
    "    123 = \"Pratyush\"\n",
    "except TypeError as e:\n",
    "    print(e)"
   ]
  },
  {
   "cell_type": "raw",
   "id": "22e38046",
   "metadata": {},
   "source": [
    "tr"
   ]
  },
  {
   "cell_type": "code",
   "execution_count": 22,
   "id": "67f0e532",
   "metadata": {},
   "outputs": [
    {
     "ename": "AttributeError",
     "evalue": "__enter__",
     "output_type": "error",
     "traceback": [
      "\u001b[1;31m---------------------------------------------------------------------------\u001b[0m",
      "\u001b[1;31mAttributeError\u001b[0m                            Traceback (most recent call last)",
      "Cell \u001b[1;32mIn [22], line 2\u001b[0m\n\u001b[0;32m      1\u001b[0m \u001b[38;5;28;01mtry\u001b[39;00m:\n\u001b[1;32m----> 2\u001b[0m     \u001b[38;5;28;01mwith\u001b[39;00m(\u001b[38;5;124m\"\u001b[39m\u001b[38;5;124mtest.txt\u001b[39m\u001b[38;5;124m\"\u001b[39m,\u001b[38;5;124m\"\u001b[39m\u001b[38;5;124mr\u001b[39m\u001b[38;5;124m\"\u001b[39m) \u001b[38;5;28;01mas\u001b[39;00m f:\n\u001b[0;32m      3\u001b[0m         test \u001b[38;5;241m=\u001b[39m f\u001b[38;5;241m.\u001b[39mread()\n\u001b[0;32m      4\u001b[0m \u001b[38;5;28;01mexcept\u001b[39;00m \u001b[38;5;167;01mFileNotFoundError\u001b[39;00m \u001b[38;5;28;01mas\u001b[39;00m e:\n",
      "\u001b[1;31mAttributeError\u001b[0m: __enter__"
     ]
    }
   ],
   "source": [
    "try:\n",
    "    with(\"test.txt\",\"r\") as f:\n",
    "        test = f.read()\n",
    "except FileNotFoundError as e:\n",
    "    print(e)"
   ]
  },
  {
   "cell_type": "code",
   "execution_count": 21,
   "id": "a6f5d970",
   "metadata": {},
   "outputs": [
    {
     "data": {
      "text/plain": [
       "['__cause__',\n",
       " '__class__',\n",
       " '__context__',\n",
       " '__delattr__',\n",
       " '__dict__',\n",
       " '__dir__',\n",
       " '__doc__',\n",
       " '__eq__',\n",
       " '__format__',\n",
       " '__ge__',\n",
       " '__getattribute__',\n",
       " '__gt__',\n",
       " '__hash__',\n",
       " '__init__',\n",
       " '__init_subclass__',\n",
       " '__le__',\n",
       " '__lt__',\n",
       " '__ne__',\n",
       " '__new__',\n",
       " '__reduce__',\n",
       " '__reduce_ex__',\n",
       " '__repr__',\n",
       " '__setattr__',\n",
       " '__setstate__',\n",
       " '__sizeof__',\n",
       " '__str__',\n",
       " '__subclasshook__',\n",
       " '__suppress_context__',\n",
       " '__traceback__',\n",
       " 'args',\n",
       " 'with_traceback']"
      ]
     },
     "execution_count": 21,
     "metadata": {},
     "output_type": "execute_result"
    }
   ],
   "source": [
    "dir(Exception)"
   ]
  },
  {
   "cell_type": "code",
   "execution_count": null,
   "id": "5d6fe59f",
   "metadata": {},
   "outputs": [],
   "source": []
  }
 ],
 "metadata": {
  "kernelspec": {
   "display_name": "Python 3 (ipykernel)",
   "language": "python",
   "name": "python3"
  },
  "language_info": {
   "codemirror_mode": {
    "name": "ipython",
    "version": 3
   },
   "file_extension": ".py",
   "mimetype": "text/x-python",
   "name": "python",
   "nbconvert_exporter": "python",
   "pygments_lexer": "ipython3",
   "version": "3.9.13"
  }
 },
 "nbformat": 4,
 "nbformat_minor": 5
}
