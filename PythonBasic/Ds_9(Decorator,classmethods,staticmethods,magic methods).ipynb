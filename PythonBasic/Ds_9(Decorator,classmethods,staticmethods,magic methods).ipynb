{
 "cells": [
  {
   "cell_type": "markdown",
   "id": "7c3b317d",
   "metadata": {},
   "source": [
    "# Decorator"
   ]
  },
  {
   "cell_type": "markdown",
   "id": "6dd1bb77",
   "metadata": {},
   "source": [
    "Decorators are a very powerful and useful tool in Python since it allows programmers to modify the behaviour of a function or class. Decorators allow us to wrap another function in order to extend the behaviour of the wrapped function, without permanently modifying it. But before diving deep into decorators let us understand some concepts that will come in handy in learning the decorators."
   ]
  },
  {
   "cell_type": "code",
   "execution_count": 1,
   "id": "9f58a13a",
   "metadata": {},
   "outputs": [],
   "source": [
    "def test():\n",
    "    print(\"Start\")\n",
    "    print(\"mid\")\n",
    "    print(\"end\")"
   ]
  },
  {
   "cell_type": "code",
   "execution_count": 2,
   "id": "8fbcff32",
   "metadata": {},
   "outputs": [
    {
     "name": "stdout",
     "output_type": "stream",
     "text": [
      "Start\n",
      "mid\n",
      "end\n"
     ]
    }
   ],
   "source": [
    "test()"
   ]
  },
  {
   "cell_type": "code",
   "execution_count": 14,
   "id": "77993377",
   "metadata": {},
   "outputs": [],
   "source": [
    "def decor(func):\n",
    "    def inner_fun():\n",
    "        print(\"Hello this is Starting\")\n",
    "        func()\n",
    "        print(\"Hello this is my end point\")"
   ]
  },
  {
   "cell_type": "code",
   "execution_count": 15,
   "id": "ad35a339",
   "metadata": {},
   "outputs": [],
   "source": [
    "@decor\n",
    "def test1():\n",
    "    return \"pratyush\""
   ]
  },
  {
   "cell_type": "code",
   "execution_count": 16,
   "id": "d9f18466",
   "metadata": {},
   "outputs": [
    {
     "ename": "TypeError",
     "evalue": "'NoneType' object is not callable",
     "output_type": "error",
     "traceback": [
      "\u001b[1;31m---------------------------------------------------------------------------\u001b[0m",
      "\u001b[1;31mTypeError\u001b[0m                                 Traceback (most recent call last)",
      "Cell \u001b[1;32mIn [16], line 1\u001b[0m\n\u001b[1;32m----> 1\u001b[0m \u001b[43mtest1\u001b[49m\u001b[43m(\u001b[49m\u001b[43m)\u001b[49m\n",
      "\u001b[1;31mTypeError\u001b[0m: 'NoneType' object is not callable"
     ]
    }
   ],
   "source": [
    "test1()"
   ]
  },
  {
   "cell_type": "code",
   "execution_count": 6,
   "id": "5e3c8d57",
   "metadata": {},
   "outputs": [],
   "source": [
    "import time "
   ]
  },
  {
   "cell_type": "code",
   "execution_count": 7,
   "id": "721d9024",
   "metadata": {},
   "outputs": [],
   "source": [
    "def timer_test(func):\n",
    "    def inner_func():\n",
    "        start = time.time()\n",
    "        func()\n",
    "        end = time.time()\n",
    "        print(end - start)\n",
    "    return inner_func\n",
    "        "
   ]
  },
  {
   "cell_type": "code",
   "execution_count": 8,
   "id": "0f511e00",
   "metadata": {},
   "outputs": [],
   "source": [
    "def test2():\n",
    "    print(48+78)"
   ]
  },
  {
   "cell_type": "code",
   "execution_count": 9,
   "id": "14570c96",
   "metadata": {},
   "outputs": [
    {
     "name": "stdout",
     "output_type": "stream",
     "text": [
      "126\n"
     ]
    }
   ],
   "source": [
    "test2()"
   ]
  },
  {
   "cell_type": "code",
   "execution_count": 10,
   "id": "19ab461e",
   "metadata": {},
   "outputs": [],
   "source": [
    "@timer_test\n",
    "def test2():\n",
    "    print(48+78)"
   ]
  },
  {
   "cell_type": "code",
   "execution_count": 11,
   "id": "4f7252ad",
   "metadata": {},
   "outputs": [
    {
     "name": "stdout",
     "output_type": "stream",
     "text": [
      "126\n",
      "0.0009982585906982422\n"
     ]
    }
   ],
   "source": [
    "test2()"
   ]
  },
  {
   "cell_type": "code",
   "execution_count": 16,
   "id": "9d543d97",
   "metadata": {},
   "outputs": [],
   "source": [
    "@timer_test\n",
    "def test3():\n",
    "    for i in range(1766767372376763247347838793248978973428973698369836737643676976786769):\n",
    "        return i"
   ]
  },
  {
   "cell_type": "code",
   "execution_count": 17,
   "id": "01ddb51b",
   "metadata": {},
   "outputs": [
    {
     "name": "stdout",
     "output_type": "stream",
     "text": [
      "0.0\n"
     ]
    }
   ],
   "source": [
    "test3()"
   ]
  },
  {
   "cell_type": "markdown",
   "id": "ebe2261f",
   "metadata": {},
   "source": [
    "# Class Methods"
   ]
  },
  {
   "cell_type": "code",
   "execution_count": 18,
   "id": "a2aab916",
   "metadata": {},
   "outputs": [],
   "source": [
    "class pratyush:\n",
    "    def __init__(self,name ,email):\n",
    "        self.name = name\n",
    "        self.email = email\n",
    "    def students_details(self):\n",
    "        print(self.name,self.email)\n",
    "    "
   ]
  },
  {
   "cell_type": "code",
   "execution_count": 20,
   "id": "e606f5ee",
   "metadata": {},
   "outputs": [],
   "source": [
    "pk = pratyush(\"Mohan\",\"Mohan@Gmail.com\")"
   ]
  },
  {
   "cell_type": "code",
   "execution_count": 22,
   "id": "dd257a6c",
   "metadata": {},
   "outputs": [
    {
     "data": {
      "text/plain": [
       "'Mohan'"
      ]
     },
     "execution_count": 22,
     "metadata": {},
     "output_type": "execute_result"
    }
   ],
   "source": [
    "pk.name"
   ]
  },
  {
   "cell_type": "code",
   "execution_count": 23,
   "id": "0a818df3",
   "metadata": {},
   "outputs": [
    {
     "data": {
      "text/plain": [
       "'Mohan@Gmail.com'"
      ]
     },
     "execution_count": 23,
     "metadata": {},
     "output_type": "execute_result"
    }
   ],
   "source": [
    "pk.email"
   ]
  },
  {
   "cell_type": "code",
   "execution_count": 25,
   "id": "f891bdc3",
   "metadata": {},
   "outputs": [
    {
     "name": "stdout",
     "output_type": "stream",
     "text": [
      "Mohan Mohan@Gmail.com\n"
     ]
    }
   ],
   "source": [
    "pk.students_details()"
   ]
  },
  {
   "cell_type": "code",
   "execution_count": 1,
   "id": "26318457",
   "metadata": {},
   "outputs": [],
   "source": [
    "class pratyush1:\n",
    "    mobile = 98787978\n",
    "    def __init__(self,name ,email):\n",
    "        self.name = name\n",
    "        self.email = email\n",
    "        \n",
    "    @classmethod\n",
    "    def change_number(cls,mobile):\n",
    "        pratyush.mobile =mobile\n",
    "        \n",
    "    @classmethod    \n",
    "    def details(cls,name,email):\n",
    "        return cls(name,email)\n",
    "    \n",
    "    \n",
    "    \n",
    "    def students_details(self):\n",
    "        print(self.name,self.email)\n",
    "    "
   ]
  },
  {
   "cell_type": "code",
   "execution_count": 30,
   "id": "d4930b68",
   "metadata": {},
   "outputs": [],
   "source": [
    "pk1 = pratyush1.details(\"Pratyush\",\"Pratus@outlook.com\")"
   ]
  },
  {
   "cell_type": "code",
   "execution_count": 32,
   "id": "9066f994",
   "metadata": {},
   "outputs": [
    {
     "data": {
      "text/plain": [
       "'Pratus@outlook.com'"
      ]
     },
     "execution_count": 32,
     "metadata": {},
     "output_type": "execute_result"
    }
   ],
   "source": [
    "pk1.email"
   ]
  },
  {
   "cell_type": "code",
   "execution_count": 33,
   "id": "af92ab67",
   "metadata": {},
   "outputs": [
    {
     "data": {
      "text/plain": [
       "'Pratus@outlook.com'"
      ]
     },
     "execution_count": 33,
     "metadata": {},
     "output_type": "execute_result"
    }
   ],
   "source": [
    "pk1.email"
   ]
  },
  {
   "cell_type": "code",
   "execution_count": 34,
   "id": "529ecbf0",
   "metadata": {},
   "outputs": [
    {
     "data": {
      "text/plain": [
       "<bound method pratyush1.details of <class '__main__.pratyush1'>>"
      ]
     },
     "execution_count": 34,
     "metadata": {},
     "output_type": "execute_result"
    }
   ],
   "source": [
    "pk1.details"
   ]
  },
  {
   "cell_type": "code",
   "execution_count": 36,
   "id": "05bfc7f7",
   "metadata": {},
   "outputs": [
    {
     "data": {
      "text/plain": [
       "'Pratyush'"
      ]
     },
     "execution_count": 36,
     "metadata": {},
     "output_type": "execute_result"
    }
   ],
   "source": [
    "pk1.name"
   ]
  },
  {
   "cell_type": "code",
   "execution_count": 37,
   "id": "8c5336e2",
   "metadata": {},
   "outputs": [
    {
     "name": "stdout",
     "output_type": "stream",
     "text": [
      "Pratyush Pratus@outlook.com\n"
     ]
    }
   ],
   "source": [
    "pk1.students_details()"
   ]
  },
  {
   "cell_type": "code",
   "execution_count": 40,
   "id": "e1dc0722",
   "metadata": {},
   "outputs": [
    {
     "data": {
      "text/plain": [
       "98787978"
      ]
     },
     "execution_count": 40,
     "metadata": {},
     "output_type": "execute_result"
    }
   ],
   "source": [
    "pratyush1.mobile"
   ]
  },
  {
   "cell_type": "code",
   "execution_count": 41,
   "id": "71b3fa75",
   "metadata": {},
   "outputs": [],
   "source": [
    "pratyush1.change_number(877676)"
   ]
  },
  {
   "cell_type": "code",
   "execution_count": 42,
   "id": "b752928e",
   "metadata": {},
   "outputs": [
    {
     "data": {
      "text/plain": [
       "98787978"
      ]
     },
     "execution_count": 42,
     "metadata": {},
     "output_type": "execute_result"
    }
   ],
   "source": [
    "pratyush1.mobile"
   ]
  },
  {
   "cell_type": "code",
   "execution_count": 10,
   "id": "4e2156f0",
   "metadata": {},
   "outputs": [],
   "source": [
    "def course_details(cls,course_name):\n",
    "    print(\"course name is\",course_name)\n",
    "#Eveen we can add external function to the main function"
   ]
  },
  {
   "cell_type": "code",
   "execution_count": 8,
   "id": "06f85568",
   "metadata": {},
   "outputs": [],
   "source": [
    "pratyush1.course_details = classmethod(course_details)"
   ]
  },
  {
   "cell_type": "code",
   "execution_count": 9,
   "id": "b4b853c6",
   "metadata": {},
   "outputs": [
    {
     "name": "stdout",
     "output_type": "stream",
     "text": [
      "course name is Datascience\n"
     ]
    }
   ],
   "source": [
    "pratyush1.course_details(\"Datascience\")"
   ]
  },
  {
   "cell_type": "code",
   "execution_count": 13,
   "id": "f91d0e1f",
   "metadata": {},
   "outputs": [],
   "source": [
    "def mentor(cls,list_of_mentor):\n",
    "    print(list_of_mentor)"
   ]
  },
  {
   "cell_type": "code",
   "execution_count": 14,
   "id": "b55e51aa",
   "metadata": {},
   "outputs": [],
   "source": [
    "pratyush1.mentor = classmethod(mentor)\n",
    "# A developer can add more function outside from the main function also"
   ]
  },
  {
   "cell_type": "code",
   "execution_count": 20,
   "id": "92dd96bb",
   "metadata": {},
   "outputs": [
    {
     "name": "stdout",
     "output_type": "stream",
     "text": [
      "Chirag\n"
     ]
    }
   ],
   "source": [
    "pratyush1.mentor(\"Chirag\")\n",
    "# A developer can add more function outside from the main function also"
   ]
  },
  {
   "cell_type": "code",
   "execution_count": 21,
   "id": "cd5c95fc",
   "metadata": {},
   "outputs": [],
   "source": [
    "class pratyush2:\n",
    "    mobile = 98787978\n",
    "    def __init__(self,name ,email):\n",
    "        self.name = name\n",
    "        self.email = email\n",
    "        \n",
    "    @classmethod\n",
    "    def change_number(cls,mobile):\n",
    "        pratyush.mobile =mobile\n",
    "        \n",
    "    @classmethod    \n",
    "    def details(cls,name,email):\n",
    "        return cls(name,email)\n",
    "    \n",
    "    \n",
    "    \n",
    "    def students_details(self):\n",
    "        print(self.name,self.email)\n",
    "    "
   ]
  },
  {
   "cell_type": "markdown",
   "id": "621b9dd9",
   "metadata": {},
   "source": [
    "Now if I want to delete a Function from the main class "
   ]
  },
  {
   "cell_type": "code",
   "execution_count": 24,
   "id": "797c18d1",
   "metadata": {},
   "outputs": [],
   "source": [
    "del pratyush2.change_number"
   ]
  },
  {
   "cell_type": "code",
   "execution_count": 25,
   "id": "cd76c087",
   "metadata": {},
   "outputs": [
    {
     "ename": "AttributeError",
     "evalue": "type object 'pratyush2' has no attribute 'change_number'",
     "output_type": "error",
     "traceback": [
      "\u001b[1;31m---------------------------------------------------------------------------\u001b[0m",
      "\u001b[1;31mAttributeError\u001b[0m                            Traceback (most recent call last)",
      "Cell \u001b[1;32mIn [25], line 1\u001b[0m\n\u001b[1;32m----> 1\u001b[0m \u001b[43mpratyush2\u001b[49m\u001b[38;5;241;43m.\u001b[39;49m\u001b[43mchange_number\u001b[49m(\u001b[38;5;241m877667897\u001b[39m)\n",
      "\u001b[1;31mAttributeError\u001b[0m: type object 'pratyush2' has no attribute 'change_number'"
     ]
    }
   ],
   "source": [
    "pratyush2.change_number(877667897)"
   ]
  },
  {
   "cell_type": "markdown",
   "id": "75212bb8",
   "metadata": {},
   "source": [
    "Now change_number() is not avaliable now!"
   ]
  },
  {
   "cell_type": "markdown",
   "id": "e0c38ba2",
   "metadata": {},
   "source": [
    "another way to delete a function"
   ]
  },
  {
   "cell_type": "code",
   "execution_count": 35,
   "id": "f0772360",
   "metadata": {},
   "outputs": [],
   "source": [
    "delattr(pratyush2,\"details\")"
   ]
  },
  {
   "cell_type": "code",
   "execution_count": 37,
   "id": "95f4f636",
   "metadata": {},
   "outputs": [
    {
     "ename": "AttributeError",
     "evalue": "type object 'pratyush2' has no attribute 'deatils'",
     "output_type": "error",
     "traceback": [
      "\u001b[1;31m---------------------------------------------------------------------------\u001b[0m",
      "\u001b[1;31mAttributeError\u001b[0m                            Traceback (most recent call last)",
      "Cell \u001b[1;32mIn [37], line 1\u001b[0m\n\u001b[1;32m----> 1\u001b[0m \u001b[43mpratyush2\u001b[49m\u001b[38;5;241;43m.\u001b[39;49m\u001b[43mdeatils\u001b[49m() \u001b[38;5;66;03m#deleted\u001b[39;00m\n",
      "\u001b[1;31mAttributeError\u001b[0m: type object 'pratyush2' has no attribute 'deatils'"
     ]
    }
   ],
   "source": [
    "pratyush2.deatils() #deleted"
   ]
  },
  {
   "cell_type": "code",
   "execution_count": 38,
   "id": "c00053fb",
   "metadata": {},
   "outputs": [],
   "source": [
    "delattr(pratyush2,\"students_details\")"
   ]
  },
  {
   "cell_type": "code",
   "execution_count": 39,
   "id": "290d48fd",
   "metadata": {},
   "outputs": [
    {
     "ename": "AttributeError",
     "evalue": "type object 'pratyush2' has no attribute 'students_details'",
     "output_type": "error",
     "traceback": [
      "\u001b[1;31m---------------------------------------------------------------------------\u001b[0m",
      "\u001b[1;31mAttributeError\u001b[0m                            Traceback (most recent call last)",
      "Cell \u001b[1;32mIn [39], line 1\u001b[0m\n\u001b[1;32m----> 1\u001b[0m \u001b[43mpratyush2\u001b[49m\u001b[38;5;241;43m.\u001b[39;49m\u001b[43mstudents_details\u001b[49m()\n",
      "\u001b[1;31mAttributeError\u001b[0m: type object 'pratyush2' has no attribute 'students_details'"
     ]
    }
   ],
   "source": [
    "pratyush2.students_details()"
   ]
  },
  {
   "cell_type": "code",
   "execution_count": 40,
   "id": "cd887780",
   "metadata": {},
   "outputs": [],
   "source": [
    "delattr(pratyush2,\"mobile\")"
   ]
  },
  {
   "cell_type": "code",
   "execution_count": 41,
   "id": "652efaf1",
   "metadata": {},
   "outputs": [
    {
     "ename": "AttributeError",
     "evalue": "type object 'pratyush2' has no attribute 'mobile'",
     "output_type": "error",
     "traceback": [
      "\u001b[1;31m---------------------------------------------------------------------------\u001b[0m",
      "\u001b[1;31mAttributeError\u001b[0m                            Traceback (most recent call last)",
      "Cell \u001b[1;32mIn [41], line 1\u001b[0m\n\u001b[1;32m----> 1\u001b[0m \u001b[43mpratyush2\u001b[49m\u001b[38;5;241;43m.\u001b[39;49m\u001b[43mmobile\u001b[49m()\n",
      "\u001b[1;31mAttributeError\u001b[0m: type object 'pratyush2' has no attribute 'mobile'"
     ]
    }
   ],
   "source": [
    "pratyush2.mobile()"
   ]
  },
  {
   "cell_type": "code",
   "execution_count": 42,
   "id": "85dbd887",
   "metadata": {},
   "outputs": [],
   "source": [
    "#Some Example of class method"
   ]
  },
  {
   "cell_type": "code",
   "execution_count": 43,
   "id": "37d3030f",
   "metadata": {},
   "outputs": [],
   "source": [
    "from datetime import date"
   ]
  },
  {
   "cell_type": "code",
   "execution_count": 47,
   "id": "24aca95f",
   "metadata": {},
   "outputs": [],
   "source": [
    "class person:\n",
    "    def __init__(self,name,age):\n",
    "        self.name = name\n",
    "        self.age = age\n",
    "    def frombirthage(cls,name,year):\n",
    "        return cls(name,date.today().year-year)\n",
    "    \n",
    "    def display(self):\n",
    "        print(self.name,\"and the age is \",str(self.age))\n",
    "\n",
    "        "
   ]
  },
  {
   "cell_type": "code",
   "execution_count": 51,
   "id": "3e61db7a",
   "metadata": {},
   "outputs": [],
   "source": [
    "person1 = person(\"Pratyush\",2001)"
   ]
  },
  {
   "cell_type": "code",
   "execution_count": 52,
   "id": "997a6cdc",
   "metadata": {},
   "outputs": [
    {
     "name": "stdout",
     "output_type": "stream",
     "text": [
      "Pratyush and the age is  2001\n"
     ]
    }
   ],
   "source": [
    "person1.display()"
   ]
  },
  {
   "cell_type": "code",
   "execution_count": 53,
   "id": "141444d4",
   "metadata": {},
   "outputs": [],
   "source": [
    "def qualification(cls,quali):\n",
    "    print(\"The qualification is\",quali)"
   ]
  },
  {
   "cell_type": "code",
   "execution_count": 54,
   "id": "bf59d57a",
   "metadata": {},
   "outputs": [],
   "source": [
    "person.qualification =  classmethod(qualification)"
   ]
  },
  {
   "cell_type": "code",
   "execution_count": 56,
   "id": "22e56ed7",
   "metadata": {},
   "outputs": [
    {
     "name": "stdout",
     "output_type": "stream",
     "text": [
      "The qualification is Btech in DataScience\n"
     ]
    }
   ],
   "source": [
    "person.qualification(\"Btech in DataScience\")\n",
    "#now with this you can add a new function from outside"
   ]
  },
  {
   "cell_type": "markdown",
   "id": "8ec18c5d",
   "metadata": {},
   "source": [
    "# Static Method"
   ]
  },
  {
   "cell_type": "code",
   "execution_count": 57,
   "id": "4a504213",
   "metadata": {},
   "outputs": [],
   "source": [
    "class Chirag:\n",
    "    def pratyush_details(self,name,email,number):\n",
    "        print(name,email,number)"
   ]
  },
  {
   "cell_type": "code",
   "execution_count": 58,
   "id": "7eaddc25",
   "metadata": {},
   "outputs": [],
   "source": [
    "pk = Chirag()"
   ]
  },
  {
   "cell_type": "code",
   "execution_count": 59,
   "id": "5b445e77",
   "metadata": {},
   "outputs": [
    {
     "name": "stdout",
     "output_type": "stream",
     "text": [
      "Pratyush @gmail 88798798\n"
     ]
    }
   ],
   "source": [
    "pk.pratyush_details(\"Pratyush\",\"@gmail\",88798798)"
   ]
  },
  {
   "cell_type": "markdown",
   "id": "94d95337",
   "metadata": {},
   "source": [
    "Above these can accesed only from the object of the class only"
   ]
  },
  {
   "cell_type": "code",
   "execution_count": 60,
   "id": "29a20cd8",
   "metadata": {},
   "outputs": [],
   "source": [
    "class Chirag1:\n",
    "    def pratyush_details(self,name,email,number):\n",
    "        print(name,email,number)\n",
    "    @staticmethod\n",
    "    def mentor_class(list_mentor):\n",
    "        print(list_mentor)"
   ]
  },
  {
   "cell_type": "code",
   "execution_count": 62,
   "id": "4aa75a5f",
   "metadata": {},
   "outputs": [],
   "source": [
    "pk1 = Chirag1()"
   ]
  },
  {
   "cell_type": "code",
   "execution_count": 65,
   "id": "fe26f725",
   "metadata": {},
   "outputs": [
    {
     "name": "stdout",
     "output_type": "stream",
     "text": [
      "['Pratyush', 'Chirag']\n"
     ]
    }
   ],
   "source": [
    "pk1.mentor_class([\"Pratyush\",\"Chirag\"])"
   ]
  },
  {
   "cell_type": "code",
   "execution_count": 66,
   "id": "1eaecdc7",
   "metadata": {},
   "outputs": [],
   "source": [
    "student1 = Chirag1()"
   ]
  },
  {
   "cell_type": "code",
   "execution_count": 72,
   "id": "2f0e8490",
   "metadata": {},
   "outputs": [],
   "source": [
    "class Chirag2:\n",
    "    def pratyush_details(self,name,email,number):\n",
    "        print(name,email,number)\n",
    "    @staticmethod\n",
    "    def mentor_id(id_mail_mentor):\n",
    "        print(id_mail_mentor)\n",
    "    @staticmethod\n",
    "    def mentor_class(list_mentor):\n",
    "        Chirag2.mentor_id([\"Pratyush@gmail.com\",\"Piyush@gmail.com\"])\n",
    "        print(list_mentor)\n",
    "    @classmethod\n",
    "    def class_name(cls):\n",
    "        cls.mentor_class([\"Pratyush\",\"Chirag\"])\n",
    "        "
   ]
  },
  {
   "cell_type": "code",
   "execution_count": 69,
   "id": "5dad56dc",
   "metadata": {},
   "outputs": [],
   "source": [
    "pk2 = Chirag2()"
   ]
  },
  {
   "cell_type": "code",
   "execution_count": 71,
   "id": "84dcd57e",
   "metadata": {},
   "outputs": [
    {
     "name": "stdout",
     "output_type": "stream",
     "text": [
      "['Pratyush', 'Chirag']\n"
     ]
    }
   ],
   "source": [
    "pk2.class_name()"
   ]
  },
  {
   "cell_type": "code",
   "execution_count": 75,
   "id": "4e75ed7e",
   "metadata": {},
   "outputs": [
    {
     "name": "stdout",
     "output_type": "stream",
     "text": [
      "['Pratyush', 'Chirag']\n"
     ]
    }
   ],
   "source": [
    "pk2.class_name()"
   ]
  },
  {
   "cell_type": "markdown",
   "id": "fb1191c0",
   "metadata": {},
   "source": [
    "What is a static method Python?"
   ]
  },
  {
   "cell_type": "markdown",
   "id": "314774a9",
   "metadata": {},
   "source": [
    "Static method can used where the repeatly function will call for many objects"
   ]
  },
  {
   "cell_type": "markdown",
   "id": "df940435",
   "metadata": {},
   "source": [
    "Static method can help to optimize the memory usage"
   ]
  },
  {
   "cell_type": "markdown",
   "id": "78142d2a",
   "metadata": {},
   "source": [
    "\n",
    "\n",
    "\n",
    "What is a static method? Static methods, much like class methods, are methods that are bound to a class rather than its object. They do not require a class instance creation. So, they are not dependent on the state of the object."
   ]
  },
  {
   "cell_type": "markdown",
   "id": "d07b433d",
   "metadata": {},
   "source": [
    "# Magic or Dunder  Methods"
   ]
  },
  {
   "cell_type": "markdown",
   "id": "8b62105f",
   "metadata": {},
   "source": [
    "under or magic methods in Python are the methods having two prefix and suffix underscores in the method name. Dunder here means “Double Under (Underscores)”. These are commonly used for operator overloading. Few examples for magic methods are: __init__, __add__, __len__, __repr__ etc."
   ]
  },
  {
   "cell_type": "code",
   "execution_count": 77,
   "id": "a31fea7b",
   "metadata": {},
   "outputs": [
    {
     "data": {
      "text/plain": [
       "['__abs__',\n",
       " '__add__',\n",
       " '__and__',\n",
       " '__bool__',\n",
       " '__ceil__',\n",
       " '__class__',\n",
       " '__delattr__',\n",
       " '__dir__',\n",
       " '__divmod__',\n",
       " '__doc__',\n",
       " '__eq__',\n",
       " '__float__',\n",
       " '__floor__',\n",
       " '__floordiv__',\n",
       " '__format__',\n",
       " '__ge__',\n",
       " '__getattribute__',\n",
       " '__getnewargs__',\n",
       " '__gt__',\n",
       " '__hash__',\n",
       " '__index__',\n",
       " '__init__',\n",
       " '__init_subclass__',\n",
       " '__int__',\n",
       " '__invert__',\n",
       " '__le__',\n",
       " '__lshift__',\n",
       " '__lt__',\n",
       " '__mod__',\n",
       " '__mul__',\n",
       " '__ne__',\n",
       " '__neg__',\n",
       " '__new__',\n",
       " '__or__',\n",
       " '__pos__',\n",
       " '__pow__',\n",
       " '__radd__',\n",
       " '__rand__',\n",
       " '__rdivmod__',\n",
       " '__reduce__',\n",
       " '__reduce_ex__',\n",
       " '__repr__',\n",
       " '__rfloordiv__',\n",
       " '__rlshift__',\n",
       " '__rmod__',\n",
       " '__rmul__',\n",
       " '__ror__',\n",
       " '__round__',\n",
       " '__rpow__',\n",
       " '__rrshift__',\n",
       " '__rshift__',\n",
       " '__rsub__',\n",
       " '__rtruediv__',\n",
       " '__rxor__',\n",
       " '__setattr__',\n",
       " '__sizeof__',\n",
       " '__str__',\n",
       " '__sub__',\n",
       " '__subclasshook__',\n",
       " '__truediv__',\n",
       " '__trunc__',\n",
       " '__xor__',\n",
       " 'as_integer_ratio',\n",
       " 'bit_length',\n",
       " 'conjugate',\n",
       " 'denominator',\n",
       " 'from_bytes',\n",
       " 'imag',\n",
       " 'numerator',\n",
       " 'real',\n",
       " 'to_bytes']"
      ]
     },
     "execution_count": 77,
     "metadata": {},
     "output_type": "execute_result"
    }
   ],
   "source": [
    "dir(int)"
   ]
  },
  {
   "cell_type": "code",
   "execution_count": 78,
   "id": "4a9f8b9f",
   "metadata": {},
   "outputs": [
    {
     "data": {
      "text/plain": [
       "['__add__',\n",
       " '__class__',\n",
       " '__contains__',\n",
       " '__delattr__',\n",
       " '__dir__',\n",
       " '__doc__',\n",
       " '__eq__',\n",
       " '__format__',\n",
       " '__ge__',\n",
       " '__getattribute__',\n",
       " '__getitem__',\n",
       " '__getnewargs__',\n",
       " '__gt__',\n",
       " '__hash__',\n",
       " '__init__',\n",
       " '__init_subclass__',\n",
       " '__iter__',\n",
       " '__le__',\n",
       " '__len__',\n",
       " '__lt__',\n",
       " '__mod__',\n",
       " '__mul__',\n",
       " '__ne__',\n",
       " '__new__',\n",
       " '__reduce__',\n",
       " '__reduce_ex__',\n",
       " '__repr__',\n",
       " '__rmod__',\n",
       " '__rmul__',\n",
       " '__setattr__',\n",
       " '__sizeof__',\n",
       " '__str__',\n",
       " '__subclasshook__',\n",
       " 'capitalize',\n",
       " 'casefold',\n",
       " 'center',\n",
       " 'count',\n",
       " 'encode',\n",
       " 'endswith',\n",
       " 'expandtabs',\n",
       " 'find',\n",
       " 'format',\n",
       " 'format_map',\n",
       " 'index',\n",
       " 'isalnum',\n",
       " 'isalpha',\n",
       " 'isascii',\n",
       " 'isdecimal',\n",
       " 'isdigit',\n",
       " 'isidentifier',\n",
       " 'islower',\n",
       " 'isnumeric',\n",
       " 'isprintable',\n",
       " 'isspace',\n",
       " 'istitle',\n",
       " 'isupper',\n",
       " 'join',\n",
       " 'ljust',\n",
       " 'lower',\n",
       " 'lstrip',\n",
       " 'maketrans',\n",
       " 'partition',\n",
       " 'removeprefix',\n",
       " 'removesuffix',\n",
       " 'replace',\n",
       " 'rfind',\n",
       " 'rindex',\n",
       " 'rjust',\n",
       " 'rpartition',\n",
       " 'rsplit',\n",
       " 'rstrip',\n",
       " 'split',\n",
       " 'splitlines',\n",
       " 'startswith',\n",
       " 'strip',\n",
       " 'swapcase',\n",
       " 'title',\n",
       " 'translate',\n",
       " 'upper',\n",
       " 'zfill']"
      ]
     },
     "execution_count": 78,
     "metadata": {},
     "output_type": "execute_result"
    }
   ],
   "source": [
    "dir(str)"
   ]
  },
  {
   "cell_type": "markdown",
   "id": "0e4c9751",
   "metadata": {},
   "source": [
    "These are MAgic function or dunder function"
   ]
  },
  {
   "cell_type": "code",
   "execution_count": 79,
   "id": "abb7ca91",
   "metadata": {},
   "outputs": [],
   "source": [
    "a = 10\n"
   ]
  },
  {
   "cell_type": "code",
   "execution_count": 80,
   "id": "4439a12a",
   "metadata": {},
   "outputs": [
    {
     "data": {
      "text/plain": [
       "15"
      ]
     },
     "execution_count": 80,
     "metadata": {},
     "output_type": "execute_result"
    }
   ],
   "source": [
    "a+5"
   ]
  },
  {
   "cell_type": "code",
   "execution_count": 81,
   "id": "443d4cc8",
   "metadata": {},
   "outputs": [
    {
     "data": {
      "text/plain": [
       "16"
      ]
     },
     "execution_count": 81,
     "metadata": {},
     "output_type": "execute_result"
    }
   ],
   "source": [
    "a.__add__(6)"
   ]
  },
  {
   "cell_type": "code",
   "execution_count": 88,
   "id": "a1539b57",
   "metadata": {},
   "outputs": [],
   "source": [
    "class pwskills:\n",
    "    def __new__(cls):\n",
    "        print(\"This is new\")\n",
    "    def __init__(self):\n",
    "        print(\"This is an init\")\n",
    "    def __init__(self):\n",
    "        self.mobile = 908908"
   ]
  },
  {
   "cell_type": "code",
   "execution_count": 83,
   "id": "6ca6742e",
   "metadata": {},
   "outputs": [],
   "source": [
    "pw = pwskills()"
   ]
  },
  {
   "cell_type": "code",
   "execution_count": 87,
   "id": "8c4d888f",
   "metadata": {},
   "outputs": [
    {
     "data": {
      "text/plain": [
       "908908"
      ]
     },
     "execution_count": 87,
     "metadata": {},
     "output_type": "execute_result"
    }
   ],
   "source": [
    "pw.mobile"
   ]
  },
  {
   "cell_type": "code",
   "execution_count": 90,
   "id": "c80b0177",
   "metadata": {},
   "outputs": [
    {
     "name": "stdout",
     "output_type": "stream",
     "text": [
      "This is new\n"
     ]
    }
   ],
   "source": [
    "pwskills()"
   ]
  },
  {
   "cell_type": "code",
   "execution_count": 108,
   "id": "6ff9cde8",
   "metadata": {},
   "outputs": [],
   "source": [
    "\n",
    "class pwskills1:\n",
    "\n",
    "    def __init__(self):\n",
    "        self.mobile = 9089081\n",
    "    def __str__(self):\n",
    "        return \"This is my call of str\""
   ]
  },
  {
   "cell_type": "code",
   "execution_count": 109,
   "id": "fcdef6c7",
   "metadata": {},
   "outputs": [],
   "source": [
    "pw1 = pwskills1()"
   ]
  },
  {
   "cell_type": "code",
   "execution_count": 110,
   "id": "caf901c7",
   "metadata": {},
   "outputs": [
    {
     "data": {
      "text/plain": [
       "<__main__.pwskills1 at 0x1df4ee69640>"
      ]
     },
     "execution_count": 110,
     "metadata": {},
     "output_type": "execute_result"
    }
   ],
   "source": [
    "pw1"
   ]
  },
  {
   "cell_type": "code",
   "execution_count": 106,
   "id": "6ec38b9b",
   "metadata": {},
   "outputs": [
    {
     "name": "stdout",
     "output_type": "stream",
     "text": [
      "<__main__.pwskills1 object at 0x000001DF4EE69A30>\n"
     ]
    }
   ],
   "source": [
    "print(pw1)"
   ]
  },
  {
   "cell_type": "code",
   "execution_count": 111,
   "id": "bd071d31",
   "metadata": {},
   "outputs": [
    {
     "name": "stdout",
     "output_type": "stream",
     "text": [
      "This is my call of str\n"
     ]
    }
   ],
   "source": [
    "print(pw1)"
   ]
  },
  {
   "cell_type": "markdown",
   "id": "3ac632a1",
   "metadata": {},
   "source": [
    "# Property Decoratror"
   ]
  },
  {
   "cell_type": "code",
   "execution_count": 114,
   "id": "30d80d5d",
   "metadata": {},
   "outputs": [],
   "source": [
    "class pwskills:\n",
    "    def __init__(self,course_price,course_name):\n",
    "        self.__course_price = course_price\n",
    "        self.course_name = course_name"
   ]
  },
  {
   "cell_type": "code",
   "execution_count": 115,
   "id": "4ec09466",
   "metadata": {},
   "outputs": [],
   "source": [
    "pw = pwskills(3500,\"DSMAsters\")"
   ]
  },
  {
   "cell_type": "code",
   "execution_count": 118,
   "id": "065a5f7b",
   "metadata": {},
   "outputs": [
    {
     "ename": "AttributeError",
     "evalue": "'pwskills' object has no attribute '_pw__course_price'",
     "output_type": "error",
     "traceback": [
      "\u001b[1;31m---------------------------------------------------------------------------\u001b[0m",
      "\u001b[1;31mAttributeError\u001b[0m                            Traceback (most recent call last)",
      "Cell \u001b[1;32mIn [118], line 1\u001b[0m\n\u001b[1;32m----> 1\u001b[0m \u001b[43mpw\u001b[49m\u001b[38;5;241;43m.\u001b[39;49m\u001b[43m_pw__course_price\u001b[49m\n",
      "\u001b[1;31mAttributeError\u001b[0m: 'pwskills' object has no attribute '_pw__course_price'"
     ]
    }
   ],
   "source": [
    "pw.__course_price"
   ]
  },
  {
   "cell_type": "code",
   "execution_count": 119,
   "id": "9449351e",
   "metadata": {},
   "outputs": [
    {
     "data": {
      "text/plain": [
       "3500"
      ]
     },
     "execution_count": 119,
     "metadata": {},
     "output_type": "execute_result"
    }
   ],
   "source": [
    "pw._pwskills__course_price"
   ]
  },
  {
   "cell_type": "code",
   "execution_count": 135,
   "id": "852cebb3",
   "metadata": {},
   "outputs": [],
   "source": [
    "class pwskills1:\n",
    "    def __init__(self,course_price,course_name):\n",
    "        self.__course_price = course_price\n",
    "        self.course_name = course_name\n",
    "    @property\n",
    "    def course_price_access(self):\n",
    "        return self.__course_price\n",
    "    \n",
    "    @course_price_access.setter\n",
    "    def course_price_set(self,price):\n",
    "        if price <= 3500:\n",
    "            pass\n",
    "        else:\n",
    "            self.__course_price= price\n",
    "    @course_price_access.deleter\n",
    "    def delete_course_price(self):\n",
    "        del self.__course_price "
   ]
  },
  {
   "cell_type": "markdown",
   "id": "41801b57",
   "metadata": {},
   "source": [
    "\"@property\"It defines that user can modify,access,override or delete that method"
   ]
  },
  {
   "cell_type": "code",
   "execution_count": 138,
   "id": "046ed376",
   "metadata": {},
   "outputs": [],
   "source": [
    "pw2 = pwskills1(4000,\"ds\")"
   ]
  },
  {
   "cell_type": "code",
   "execution_count": null,
   "id": "ac874e0b",
   "metadata": {},
   "outputs": [],
   "source": []
  },
  {
   "cell_type": "code",
   "execution_count": 139,
   "id": "e78fc2bd",
   "metadata": {},
   "outputs": [
    {
     "data": {
      "text/plain": [
       "4000"
      ]
     },
     "execution_count": 139,
     "metadata": {},
     "output_type": "execute_result"
    }
   ],
   "source": [
    "pw2.course_price_access\n"
   ]
  },
  {
   "cell_type": "code",
   "execution_count": 140,
   "id": "99ab0187",
   "metadata": {},
   "outputs": [],
   "source": [
    "pw2.course_price_set = 4500"
   ]
  },
  {
   "cell_type": "code",
   "execution_count": 142,
   "id": "f304c218",
   "metadata": {},
   "outputs": [
    {
     "data": {
      "text/plain": [
       "4500"
      ]
     },
     "execution_count": 142,
     "metadata": {},
     "output_type": "execute_result"
    }
   ],
   "source": [
    "pw2.course_price_access"
   ]
  },
  {
   "cell_type": "code",
   "execution_count": 146,
   "id": "14838fa2",
   "metadata": {},
   "outputs": [
    {
     "ename": "AttributeError",
     "evalue": "_pwskills1__course_price",
     "output_type": "error",
     "traceback": [
      "\u001b[1;31m---------------------------------------------------------------------------\u001b[0m",
      "\u001b[1;31mAttributeError\u001b[0m                            Traceback (most recent call last)",
      "Cell \u001b[1;32mIn [146], line 1\u001b[0m\n\u001b[1;32m----> 1\u001b[0m \u001b[38;5;28;01mdel\u001b[39;00m pw2\u001b[38;5;241m.\u001b[39mdelete_course_price\n",
      "Cell \u001b[1;32mIn [135], line 17\u001b[0m, in \u001b[0;36mpwskills1.delete_course_price\u001b[1;34m(self)\u001b[0m\n\u001b[0;32m     15\u001b[0m \u001b[38;5;129m@course_price_access\u001b[39m\u001b[38;5;241m.\u001b[39mdeleter\n\u001b[0;32m     16\u001b[0m \u001b[38;5;28;01mdef\u001b[39;00m \u001b[38;5;21mdelete_course_price\u001b[39m(\u001b[38;5;28mself\u001b[39m):\n\u001b[1;32m---> 17\u001b[0m     \u001b[38;5;28;01mdel\u001b[39;00m \u001b[38;5;28mself\u001b[39m\u001b[38;5;241m.\u001b[39m__course_price\n",
      "\u001b[1;31mAttributeError\u001b[0m: _pwskills1__course_price"
     ]
    }
   ],
   "source": [
    "del pw2.delete_course_price"
   ]
  },
  {
   "cell_type": "code",
   "execution_count": null,
   "id": "7e539bc2",
   "metadata": {},
   "outputs": [],
   "source": []
  }
 ],
 "metadata": {
  "kernelspec": {
   "display_name": "Python 3 (ipykernel)",
   "language": "python",
   "name": "python3"
  },
  "language_info": {
   "codemirror_mode": {
    "name": "ipython",
    "version": 3
   },
   "file_extension": ".py",
   "mimetype": "text/x-python",
   "name": "python",
   "nbconvert_exporter": "python",
   "pygments_lexer": "ipython3",
   "version": "3.9.13"
  }
 },
 "nbformat": 4,
 "nbformat_minor": 5
}
