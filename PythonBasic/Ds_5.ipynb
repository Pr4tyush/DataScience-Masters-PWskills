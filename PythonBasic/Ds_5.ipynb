{
 "cells": [
  {
   "cell_type": "markdown",
   "id": "4dccb728",
   "metadata": {},
   "source": [
    "# Day_5 While_loop"
   ]
  },
  {
   "cell_type": "markdown",
   "id": "7856b733",
   "metadata": {},
   "source": [
    "A loop that runs a single statement or a set of statements for a given true condition. This loop is represented by the keyword \"while.\" When the number of iterations is unknown, a \"while\" loop is used. The statement is repeated until the boolean value is false."
   ]
  },
  {
   "cell_type": "code",
   "execution_count": 1,
   "id": "85cf15b8",
   "metadata": {},
   "outputs": [
    {
     "name": "stdout",
     "output_type": "stream",
     "text": [
      "1\n",
      "2\n",
      "3\n",
      "4\n",
      "5\n",
      "6\n",
      "7\n",
      "8\n",
      "9\n",
      "10\n"
     ]
    }
   ],
   "source": [
    "a = 1\n",
    "while a<=10:\n",
    "    print(a)\n",
    "    a = a+1"
   ]
  },
  {
   "cell_type": "markdown",
   "id": "63f6a419",
   "metadata": {},
   "source": [
    "#sum up till Some Point\n"
   ]
  },
  {
   "cell_type": "code",
   "execution_count": 5,
   "id": "8b14a6a2",
   "metadata": {},
   "outputs": [
    {
     "name": "stdout",
     "output_type": "stream",
     "text": [
      "Enter your limit: 3\n"
     ]
    },
    {
     "data": {
      "text/plain": [
       "6"
      ]
     },
     "execution_count": 5,
     "metadata": {},
     "output_type": "execute_result"
    }
   ],
   "source": [
    "n = int(input(\"Enter your limit: \"))\n",
    "starting_point = 0\n",
    "counter = 1\n",
    "while counter<=n:\n",
    "    starting_point = starting_point+counter\n",
    "    counter = counter +1\n",
    "starting_point"
   ]
  },
  {
   "cell_type": "code",
   "execution_count": 6,
   "id": "6ccc4a35",
   "metadata": {},
   "outputs": [
    {
     "name": "stdout",
     "output_type": "stream",
     "text": [
      "Eneter your Number: 5\n"
     ]
    },
    {
     "data": {
      "text/plain": [
       "120"
      ]
     },
     "execution_count": 6,
     "metadata": {},
     "output_type": "execute_result"
    }
   ],
   "source": [
    "number = int(input(\"Eneter your Number: \"))\n",
    "factorial = 1\n",
    "while number >0:\n",
    "    factorial = factorial *number\n",
    "    number = number -1\n",
    "factorial"
   ]
  },
  {
   "cell_type": "code",
   "execution_count": 7,
   "id": "a5abad67",
   "metadata": {},
   "outputs": [],
   "source": [
    "#fibbonaci Series"
   ]
  },
  {
   "cell_type": "code",
   "execution_count": 1,
   "id": "113ad8fd",
   "metadata": {},
   "outputs": [
    {
     "name": "stdout",
     "output_type": "stream",
     "text": [
      "0\n",
      "1\n",
      "1\n",
      "2\n",
      "3\n",
      "5\n",
      "8\n",
      "13\n",
      "21\n",
      "34\n"
     ]
    }
   ],
   "source": [
    "a , b = 0,1\n",
    "for i in range(10):\n",
    "    print(a)\n",
    "    c = a+b\n",
    "    a = b\n",
    "    b = c\n",
    "    "
   ]
  },
  {
   "cell_type": "markdown",
   "id": "13391b86",
   "metadata": {},
   "source": [
    "Take a Input From the User As \"string\" and reverse with the help of while loop"
   ]
  },
  {
   "cell_type": "code",
   "execution_count": 2,
   "id": "ee96c331",
   "metadata": {},
   "outputs": [
    {
     "name": "stdout",
     "output_type": "stream",
     "text": [
      "Enter any string: Pratyush\n"
     ]
    }
   ],
   "source": [
    "word = input(\"Enter any string: \")"
   ]
  },
  {
   "cell_type": "code",
   "execution_count": 3,
   "id": "fa363119",
   "metadata": {},
   "outputs": [
    {
     "name": "stdout",
     "output_type": "stream",
     "text": [
      "hsuytarP\n"
     ]
    }
   ],
   "source": [
    "reverse = \"\"\n",
    "length = len(word)\n",
    "while length >0:\n",
    "    reverse = reverse+word[length-1]\n",
    "    length = length-1\n",
    "print(reverse)"
   ]
  },
  {
   "cell_type": "markdown",
   "id": "78f28a96",
   "metadata": {},
   "source": [
    "Print the Table of Input from USer"
   ]
  },
  {
   "cell_type": "code",
   "execution_count": 1,
   "id": "091380f2",
   "metadata": {},
   "outputs": [
    {
     "name": "stdout",
     "output_type": "stream",
     "text": [
      "Enter any Number: 7\n"
     ]
    }
   ],
   "source": [
    "n = int(input(\"Enter any Number: \"))"
   ]
  },
  {
   "cell_type": "code",
   "execution_count": 3,
   "id": "3c0f97f7",
   "metadata": {},
   "outputs": [
    {
     "name": "stdout",
     "output_type": "stream",
     "text": [
      "7 X 1  = 7\n",
      "7 X 2  = 14\n",
      "7 X 3  = 21\n",
      "7 X 4  = 28\n",
      "7 X 5  = 35\n",
      "7 X 6  = 42\n",
      "7 X 7  = 49\n",
      "7 X 8  = 56\n",
      "7 X 9  = 63\n",
      "7 X 10  = 70\n"
     ]
    }
   ],
   "source": [
    "i = 1\n",
    "while i<=10:\n",
    "    res = n*i\n",
    "    print(n,\"X\",i,\" =\",res)\n",
    "    i = i+1"
   ]
  },
  {
   "cell_type": "code",
   "execution_count": 8,
   "id": "7fb8af84",
   "metadata": {},
   "outputs": [
    {
     "name": "stdout",
     "output_type": "stream",
     "text": [
      "7 X 1  = 70\n",
      "7 X 2  = 70\n",
      "7 X 3  = 70\n",
      "7 X 4  = 70\n",
      "7 X 5  = 70\n",
      "7 X 6  = 70\n",
      "7 X 7  = 70\n",
      "7 X 8  = 70\n",
      "7 X 9  = 70\n",
      "7 X 10  = 70\n"
     ]
    }
   ],
   "source": [
    "for i in range(1,11):\n",
    "    result = i*n\n",
    "    print(n,\"X\",i,\" =\",res)"
   ]
  },
  {
   "cell_type": "code",
   "execution_count": 9,
   "id": "39f6e33f",
   "metadata": {},
   "outputs": [
    {
     "name": "stdout",
     "output_type": "stream",
     "text": [
      "0\n",
      "1\n",
      "2\n",
      "3\n",
      "4\n"
     ]
    }
   ],
   "source": [
    "n = 5\n",
    "i = 0\n",
    "while i<n:\n",
    "    print(i)\n",
    "    i+=1"
   ]
  },
  {
   "cell_type": "code",
   "execution_count": 12,
   "id": "5c97dd7a",
   "metadata": {},
   "outputs": [
    {
     "name": "stdout",
     "output_type": "stream",
     "text": [
      "0\n",
      "1\n",
      "2\n",
      "3\n",
      "4\n",
      "5\n",
      "Whole statment is Printed\n"
     ]
    }
   ],
   "source": [
    "n = 6\n",
    "i = 0\n",
    "while i<n:\n",
    "    print(i)\n",
    "    i = i+1\n",
    "else:\n",
    "    print(\"Whole statment is Printed\")"
   ]
  },
  {
   "cell_type": "code",
   "execution_count": 13,
   "id": "d990f940",
   "metadata": {},
   "outputs": [
    {
     "name": "stdout",
     "output_type": "stream",
     "text": [
      "0\n",
      "1\n",
      "2\n"
     ]
    }
   ],
   "source": [
    "n = 6\n",
    "i = 0\n",
    "while i<n:\n",
    "    if i==3:\n",
    "        break\n",
    "    print(i)\n",
    "    i = i+1\n",
    "else:\n",
    "    print(\"Whole statment is Printed\")"
   ]
  },
  {
   "cell_type": "markdown",
   "id": "b6f849e2",
   "metadata": {},
   "source": [
    "# Comprehension"
   ]
  },
  {
   "cell_type": "markdown",
   "id": "bbc71c6e",
   "metadata": {},
   "source": [
    "List Comprehnsion"
   ]
  },
  {
   "cell_type": "code",
   "execution_count": 1,
   "id": "bf484753",
   "metadata": {},
   "outputs": [],
   "source": [
    "l1 = [2,3,5,5,6,7,8,9,9]"
   ]
  },
  {
   "cell_type": "code",
   "execution_count": null,
   "id": "3fb97778",
   "metadata": {},
   "outputs": [],
   "source": []
  },
  {
   "cell_type": "code",
   "execution_count": 2,
   "id": "5952fb27",
   "metadata": {},
   "outputs": [
    {
     "data": {
      "text/plain": [
       "[4, 9, 25, 25, 36, 49, 64, 81, 81]"
      ]
     },
     "execution_count": 2,
     "metadata": {},
     "output_type": "execute_result"
    }
   ],
   "source": [
    "[i**2 for i in l1]"
   ]
  },
  {
   "cell_type": "code",
   "execution_count": 3,
   "id": "938b8515",
   "metadata": {},
   "outputs": [],
   "source": [
    "l2 = [\"pratyush\",\"kumar\",\"Choudhaary\"]"
   ]
  },
  {
   "cell_type": "code",
   "execution_count": 6,
   "id": "07dec9ae",
   "metadata": {},
   "outputs": [
    {
     "data": {
      "text/plain": [
       "['PRATYUSH', 'KUMAR', 'CHOUDHAARY']"
      ]
     },
     "execution_count": 6,
     "metadata": {},
     "output_type": "execute_result"
    }
   ],
   "source": [
    "[i.upper() for i in l2]"
   ]
  },
  {
   "cell_type": "code",
   "execution_count": 43,
   "id": "e6d0b6a6",
   "metadata": {},
   "outputs": [
    {
     "name": "stdout",
     "output_type": "stream",
     "text": [
      "Output List using list comprehensions: [2, 4, 4, 6]\n"
     ]
    }
   ],
   "source": [
    "\n",
    "# Using List comprehensions\n",
    "# for constructing output list\n",
    "  \n",
    "input_list = [1, 2, 3, 4, 4, 5, 6, 7, 7]\n",
    "  \n",
    "  \n",
    "list_using_comp = [var for var in input_list if var % 2 == 0]\n",
    "  \n",
    "print(\"Output List using list comprehensions:\",\n",
    "                               list_using_comp)"
   ]
  },
  {
   "cell_type": "markdown",
   "id": "43b0b8a7",
   "metadata": {},
   "source": [
    "Tuple Comprehension"
   ]
  },
  {
   "cell_type": "code",
   "execution_count": 7,
   "id": "504090aa",
   "metadata": {},
   "outputs": [],
   "source": [
    "t = (1,2,3,4,52,3,4,3)"
   ]
  },
  {
   "cell_type": "code",
   "execution_count": 8,
   "id": "5fd9adf4",
   "metadata": {},
   "outputs": [
    {
     "data": {
      "text/plain": [
       "[1, 4, 9, 16, 2704, 9, 16, 9]"
      ]
     },
     "execution_count": 8,
     "metadata": {},
     "output_type": "execute_result"
    }
   ],
   "source": [
    "[i**2 for i in t]"
   ]
  },
  {
   "cell_type": "markdown",
   "id": "b17a97d1",
   "metadata": {},
   "source": [
    "Dictinary Comprehension"
   ]
  },
  {
   "cell_type": "code",
   "execution_count": 44,
   "id": "777c687c",
   "metadata": {},
   "outputs": [
    {
     "name": "stdout",
     "output_type": "stream",
     "text": [
      "Output Dictionary using dictionary comprehensions: {1: 1, 3: 27, 5: 125, 7: 343}\n"
     ]
    }
   ],
   "source": [
    "input_list = [1,2,3,4,5,6,7]\n",
    "  \n",
    "dict_using_comp = {var:var ** 3 for var in input_list if var % 2 != 0}\n",
    "  \n",
    "print(\"Output Dictionary using dictionary comprehensions:\",\n",
    "                                           dict_using_comp)"
   ]
  },
  {
   "cell_type": "markdown",
   "id": "67ca4449",
   "metadata": {},
   "source": [
    "\n",
    "# Functions"
   ]
  },
  {
   "cell_type": "markdown",
   "id": "dd10063a",
   "metadata": {},
   "source": [
    "A function is a block of code which only runs when it is called.\n",
    "\n",
    "You can pass data, known as parameters, into a function.\n",
    "\n",
    "A function can return data as a result."
   ]
  },
  {
   "cell_type": "code",
   "execution_count": 2,
   "id": "5e561fed",
   "metadata": {},
   "outputs": [],
   "source": [
    "def Test():\n",
    "    pass"
   ]
  },
  {
   "cell_type": "code",
   "execution_count": 4,
   "id": "b8e62550",
   "metadata": {},
   "outputs": [],
   "source": [
    "def Test1():\n",
    "    print(\"Hello World\")"
   ]
  },
  {
   "cell_type": "code",
   "execution_count": 5,
   "id": "67822cbb",
   "metadata": {},
   "outputs": [
    {
     "name": "stdout",
     "output_type": "stream",
     "text": [
      "Hello World\n"
     ]
    }
   ],
   "source": [
    "#if I want to Show my data in Console then I have to call my function\n",
    "Test1()"
   ]
  },
  {
   "cell_type": "code",
   "execution_count": 6,
   "id": "70ba4804",
   "metadata": {},
   "outputs": [
    {
     "name": "stdout",
     "output_type": "stream",
     "text": [
      "Hello World\n"
     ]
    },
    {
     "ename": "TypeError",
     "evalue": "unsupported operand type(s) for +: 'NoneType' and 'str'",
     "output_type": "error",
     "traceback": [
      "\u001b[1;31m---------------------------------------------------------------------------\u001b[0m",
      "\u001b[1;31mTypeError\u001b[0m                                 Traceback (most recent call last)",
      "Cell \u001b[1;32mIn [6], line 2\u001b[0m\n\u001b[0;32m      1\u001b[0m \u001b[38;5;66;03m# if i want to concatinate the data in function\u001b[39;00m\n\u001b[1;32m----> 2\u001b[0m \u001b[43mTest1\u001b[49m\u001b[43m(\u001b[49m\u001b[43m)\u001b[49m\u001b[43m \u001b[49m\u001b[38;5;241;43m+\u001b[39;49m\u001b[43m \u001b[49m\u001b[38;5;124;43m\"\u001b[39;49m\u001b[38;5;124;43mPratyush\u001b[39;49m\u001b[38;5;124;43m\"\u001b[39;49m\n",
      "\u001b[1;31mTypeError\u001b[0m: unsupported operand type(s) for +: 'NoneType' and 'str'"
     ]
    }
   ],
   "source": [
    "# if i want to concatinate the data in function\n",
    "Test1() + \"Pratyush\"\n"
   ]
  },
  {
   "cell_type": "code",
   "execution_count": 7,
   "id": "d21a2cd7",
   "metadata": {},
   "outputs": [],
   "source": [
    "#but \n",
    "def Test2():\n",
    "    return \"Pratyush\""
   ]
  },
  {
   "cell_type": "code",
   "execution_count": 8,
   "id": "319828f4",
   "metadata": {},
   "outputs": [
    {
     "data": {
      "text/plain": [
       "'Pratyush'"
      ]
     },
     "execution_count": 8,
     "metadata": {},
     "output_type": "execute_result"
    }
   ],
   "source": [
    "Test2()"
   ]
  },
  {
   "cell_type": "code",
   "execution_count": 9,
   "id": "377e7fbf",
   "metadata": {},
   "outputs": [
    {
     "data": {
      "text/plain": [
       "'PratyushKumar'"
      ]
     },
     "execution_count": 9,
     "metadata": {},
     "output_type": "execute_result"
    }
   ],
   "source": [
    "#Then if i want to concatinate the data in the function which will have a return function to print data\n",
    "Test2()+\"Kumar\""
   ]
  },
  {
   "cell_type": "code",
   "execution_count": 10,
   "id": "12a61a88",
   "metadata": {},
   "outputs": [],
   "source": [
    "def Test4():\n",
    "    return \"Pratyush\",\"pk\",1.4,1,8+5j"
   ]
  },
  {
   "cell_type": "code",
   "execution_count": 12,
   "id": "70a16812",
   "metadata": {},
   "outputs": [
    {
     "data": {
      "text/plain": [
       "('Pratyush', 'pk', 1.4, 1, (8+5j))"
      ]
     },
     "execution_count": 12,
     "metadata": {},
     "output_type": "execute_result"
    }
   ],
   "source": [
    "Test4()"
   ]
  },
  {
   "cell_type": "code",
   "execution_count": 16,
   "id": "eb4719bb",
   "metadata": {},
   "outputs": [
    {
     "ename": "ValueError",
     "evalue": "too many values to unpack (expected 3)",
     "output_type": "error",
     "traceback": [
      "\u001b[1;31m---------------------------------------------------------------------------\u001b[0m",
      "\u001b[1;31mValueError\u001b[0m                                Traceback (most recent call last)",
      "Cell \u001b[1;32mIn [16], line 1\u001b[0m\n\u001b[1;32m----> 1\u001b[0m a,b,c\u001b[38;5;241m=\u001b[39m Test4()\n",
      "\u001b[1;31mValueError\u001b[0m: too many values to unpack (expected 3)"
     ]
    }
   ],
   "source": [
    "a,b,c= Test4()"
   ]
  },
  {
   "cell_type": "code",
   "execution_count": 17,
   "id": "b2eb6f8b",
   "metadata": {},
   "outputs": [],
   "source": [
    "a , b = 1,2"
   ]
  },
  {
   "cell_type": "code",
   "execution_count": 18,
   "id": "66c5d1b3",
   "metadata": {},
   "outputs": [
    {
     "data": {
      "text/plain": [
       "1"
      ]
     },
     "execution_count": 18,
     "metadata": {},
     "output_type": "execute_result"
    }
   ],
   "source": [
    "a"
   ]
  },
  {
   "cell_type": "code",
   "execution_count": 19,
   "id": "15f0c888",
   "metadata": {},
   "outputs": [
    {
     "data": {
      "text/plain": [
       "2"
      ]
     },
     "execution_count": 19,
     "metadata": {},
     "output_type": "execute_result"
    }
   ],
   "source": [
    "b"
   ]
  },
  {
   "cell_type": "code",
   "execution_count": 20,
   "id": "7becf75c",
   "metadata": {},
   "outputs": [],
   "source": [
    "def Test5():\n",
    "    a = 9+8\n",
    "    return a"
   ]
  },
  {
   "cell_type": "code",
   "execution_count": 22,
   "id": "2f28efc1",
   "metadata": {},
   "outputs": [
    {
     "data": {
      "text/plain": [
       "17"
      ]
     },
     "execution_count": 22,
     "metadata": {},
     "output_type": "execute_result"
    }
   ],
   "source": [
    "Test5()"
   ]
  },
  {
   "cell_type": "code",
   "execution_count": 23,
   "id": "620cc857",
   "metadata": {},
   "outputs": [],
   "source": [
    "def add(a,b,c):\n",
    "    d=a+b+c\n",
    "    return d"
   ]
  },
  {
   "cell_type": "code",
   "execution_count": 24,
   "id": "7f83881b",
   "metadata": {},
   "outputs": [
    {
     "data": {
      "text/plain": [
       "10"
      ]
     },
     "execution_count": 24,
     "metadata": {},
     "output_type": "execute_result"
    }
   ],
   "source": [
    "add(5,2,3)"
   ]
  },
  {
   "cell_type": "code",
   "execution_count": 25,
   "id": "0a177aa4",
   "metadata": {},
   "outputs": [],
   "source": [
    "def sub(a,b):\n",
    "    return a-b"
   ]
  },
  {
   "cell_type": "code",
   "execution_count": 26,
   "id": "f2226c47",
   "metadata": {},
   "outputs": [
    {
     "data": {
      "text/plain": [
       "-7"
      ]
     },
     "execution_count": 26,
     "metadata": {},
     "output_type": "execute_result"
    }
   ],
   "source": [
    "sub(2,9)"
   ]
  },
  {
   "cell_type": "code",
   "execution_count": 2,
   "id": "1839710f",
   "metadata": {},
   "outputs": [],
   "source": [
    "l1 = [1,2,3,4,5,6,7,8,\"Pratyush\",\"Kumar\",7.14]"
   ]
  },
  {
   "cell_type": "code",
   "execution_count": 8,
   "id": "ad70b846",
   "metadata": {},
   "outputs": [],
   "source": [
    "l2 = []\n",
    "for i in l1:\n",
    "    if type(i)==int or type(i)==float:\n",
    "        l2.append(i)"
   ]
  },
  {
   "cell_type": "code",
   "execution_count": 9,
   "id": "b826d9aa",
   "metadata": {},
   "outputs": [
    {
     "data": {
      "text/plain": [
       "[1, 2, 3, 4, 5, 6, 7, 8, 7.14]"
      ]
     },
     "execution_count": 9,
     "metadata": {},
     "output_type": "execute_result"
    }
   ],
   "source": [
    "l2"
   ]
  },
  {
   "cell_type": "code",
   "execution_count": 13,
   "id": "0715f1fe",
   "metadata": {},
   "outputs": [],
   "source": [
    "def extr(l1):\n",
    "    l2 = []\n",
    "    for i in l1:\n",
    "        if type(i)==int or type(i)==float:\n",
    "            l2.append(i)\n",
    "    return l2\n",
    "# woek same as loop it just wrap all feautres into a funtion"
   ]
  },
  {
   "cell_type": "code",
   "execution_count": 14,
   "id": "f8ea2051",
   "metadata": {},
   "outputs": [
    {
     "data": {
      "text/plain": [
       "[1, 2, 3, 4, 5, 6, 7, 8, 7.14]"
      ]
     },
     "execution_count": 14,
     "metadata": {},
     "output_type": "execute_result"
    }
   ],
   "source": [
    "extr(l1)"
   ]
  },
  {
   "cell_type": "code",
   "execution_count": 15,
   "id": "12a6c687",
   "metadata": {},
   "outputs": [],
   "source": [
    "\n",
    "l = [1,2,3,4,5,6,7,8,\"Pratyush\",\"Kumar\",7.14,[1,2,3,4,5,6,7,8]]"
   ]
  },
  {
   "cell_type": "code",
   "execution_count": 25,
   "id": "5966399a",
   "metadata": {},
   "outputs": [],
   "source": [
    "def ext1(l):\n",
    "    l4 = []\n",
    "    for i in l:\n",
    "        if type (i)== list:\n",
    "            for j in i:\n",
    "                l4.append(j)\n",
    "        else:\n",
    "            if type(i)==int or type(i)==float:\n",
    "                l4.append(i)\n",
    "    return l4"
   ]
  },
  {
   "cell_type": "code",
   "execution_count": 26,
   "id": "d9d18d9e",
   "metadata": {},
   "outputs": [
    {
     "data": {
      "text/plain": [
       "[1, 2, 3, 4, 5, 6, 7, 8, 7.14, 1, 2, 3, 4, 5, 6, 7, 8]"
      ]
     },
     "execution_count": 26,
     "metadata": {},
     "output_type": "execute_result"
    }
   ],
   "source": [
    "ext1(l)"
   ]
  },
  {
   "cell_type": "code",
   "execution_count": 27,
   "id": "1143a622",
   "metadata": {},
   "outputs": [],
   "source": [
    "def ext2(l):\n",
    "    '''This is my function used to Extract the All int and float value in a list'''\n",
    "    l4 = []\n",
    "    for i in l:\n",
    "        if type (i)== list:\n",
    "            for j in i:\n",
    "                l4.append(j)\n",
    "        else:\n",
    "            if type(i)==int or type(i)==float:\n",
    "                l4.append(i)\n",
    "    return l4"
   ]
  },
  {
   "cell_type": "code",
   "execution_count": 29,
   "id": "ced02ffc",
   "metadata": {},
   "outputs": [
    {
     "data": {
      "text/plain": [
       "[1, 2, 3, 4, 5, 6, 7, 8, 7.14, 1, 2, 3, 4, 5, 6, 7, 8]"
      ]
     },
     "execution_count": 29,
     "metadata": {},
     "output_type": "execute_result"
    }
   ],
   "source": [
    "ext2(l)\n"
   ]
  },
  {
   "cell_type": "code",
   "execution_count": 32,
   "id": "78ad0c27",
   "metadata": {},
   "outputs": [],
   "source": [
    "def test8(*args):\n",
    "    return args #It can Dinamically Takes input as Data"
   ]
  },
  {
   "cell_type": "code",
   "execution_count": 31,
   "id": "bcc23780",
   "metadata": {},
   "outputs": [
    {
     "data": {
      "text/plain": [
       "(1, 2, 3, 4, 'Pratyush')"
      ]
     },
     "execution_count": 31,
     "metadata": {},
     "output_type": "execute_result"
    }
   ],
   "source": [
    "test8(1,2,3,4,\"Pratyush\")"
   ]
  },
  {
   "cell_type": "code",
   "execution_count": 33,
   "id": "24ba39be",
   "metadata": {},
   "outputs": [],
   "source": [
    "def test9(*pratyush):\n",
    "    return pratyush"
   ]
  },
  {
   "cell_type": "code",
   "execution_count": 34,
   "id": "3c18e083",
   "metadata": {},
   "outputs": [
    {
     "data": {
      "text/plain": [
       "('kumar', [1, 2, 3, 4, 4, 5], 1, 2, 3, 4, 5, 6)"
      ]
     },
     "execution_count": 34,
     "metadata": {},
     "output_type": "execute_result"
    }
   ],
   "source": [
    "test9(\"kumar\",[1,2,3,4,4,5],1,2,3,4,5,6)"
   ]
  },
  {
   "cell_type": "code",
   "execution_count": 39,
   "id": "90257a61",
   "metadata": {},
   "outputs": [],
   "source": [
    "def test10(c,d,a=10,b=11):\n",
    "    return a,b,c,d"
   ]
  },
  {
   "cell_type": "code",
   "execution_count": 40,
   "id": "54f09cb6",
   "metadata": {},
   "outputs": [
    {
     "data": {
      "text/plain": [
       "(10, 11, 4, 6)"
      ]
     },
     "execution_count": 40,
     "metadata": {},
     "output_type": "execute_result"
    }
   ],
   "source": [
    "test10(4,6)"
   ]
  },
  {
   "cell_type": "code",
   "execution_count": 41,
   "id": "3502b5d8",
   "metadata": {},
   "outputs": [],
   "source": [
    "#if some wants to store data in key value pair \"dict\" then the function will go like\n",
    "def test11(**kwargs):\n",
    "    return kwargs"
   ]
  },
  {
   "cell_type": "code",
   "execution_count": 42,
   "id": "da0b986c",
   "metadata": {},
   "outputs": [
    {
     "data": {
      "text/plain": [
       "{'a': [1, 2, 3], 'b': 'Pratyush', 'c': 'Kumar'}"
      ]
     },
     "execution_count": 42,
     "metadata": {},
     "output_type": "execute_result"
    }
   ],
   "source": [
    "test11(a = [1,2,3],b = \"Pratyush\",c= \"Kumar\")"
   ]
  },
  {
   "cell_type": "code",
   "execution_count": null,
   "id": "ad1f3276",
   "metadata": {},
   "outputs": [],
   "source": []
  }
 ],
 "metadata": {
  "kernelspec": {
   "display_name": "Python 3 (ipykernel)",
   "language": "python",
   "name": "python3"
  },
  "language_info": {
   "codemirror_mode": {
    "name": "ipython",
    "version": 3
   },
   "file_extension": ".py",
   "mimetype": "text/x-python",
   "name": "python",
   "nbconvert_exporter": "python",
   "pygments_lexer": "ipython3",
   "version": "3.9.13"
  }
 },
 "nbformat": 4,
 "nbformat_minor": 5
}
