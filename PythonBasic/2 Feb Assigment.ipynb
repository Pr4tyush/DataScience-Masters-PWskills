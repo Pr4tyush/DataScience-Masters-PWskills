{
 "cells": [
  {
   "cell_type": "markdown",
   "id": "4447e34f",
   "metadata": {},
   "source": [
    "Q1. Explain with an example each when to use a for loop and a while loop."
   ]
  },
  {
   "cell_type": "markdown",
   "id": "2c57afd0",
   "metadata": {},
   "source": [
    "While Loop: A loop that runs a single statement or a set of statements for a given true condition. This loop is represented by the keyword \"while.\" When the number of iterations is unknown, a \"while\" loop is used. The statement is repeated until the boolean value is false.\n",
    "\n",
    "For Loop: A for loop is a control flow statement that executes code for a predefined number of iterations. The keyword used in this control flow statement is “for”. When the number of iterations is already known, the for loop is used.\n",
    "\n",
    "When we need to end the loop on condition either than the number of times then we have to use \"While Loop\"  while In For We already know How many times a statment will Execute"
   ]
  },
  {
   "cell_type": "code",
   "execution_count": 1,
   "id": "fca627ca",
   "metadata": {},
   "outputs": [
    {
     "name": "stdout",
     "output_type": "stream",
     "text": [
      "1\n",
      "2\n",
      "3\n"
     ]
    }
   ],
   "source": [
    "#For loop example:\n",
    "n = [1, 2, 3]  \n",
    "for i in n:  \n",
    "    print(i)\n",
    "\n",
    "    "
   ]
  },
  {
   "cell_type": "code",
   "execution_count": 2,
   "id": "ddea68b3",
   "metadata": {},
   "outputs": [
    {
     "name": "stdout",
     "output_type": "stream",
     "text": [
      "1\n",
      "2\n",
      "3\n",
      "4\n",
      "5\n"
     ]
    }
   ],
   "source": [
    "#while loop Example:\n",
    "i = 1  \n",
    "while i < 6:  \n",
    "    print(i)\n",
    "    i += 1  \n",
    "\n"
   ]
  },
  {
   "cell_type": "markdown",
   "id": "24e348f4",
   "metadata": {},
   "source": [
    "Q2. Write a python program to print the sum and product of the first 10 natural numbers using for\n",
    "and while loop."
   ]
  },
  {
   "cell_type": "code",
   "execution_count": 16,
   "id": "9135eedb",
   "metadata": {},
   "outputs": [
    {
     "name": "stdout",
     "output_type": "stream",
     "text": [
      "Enter the starting Range: 0\n",
      "Enter the End of a Range: 20\n",
      "The Answer is: 190\n"
     ]
    }
   ],
   "source": [
    "start = int(input(\"Enter the starting Range: \"))\n",
    "end = int(input(\"Enter the End of a Range: \"))\n",
    "sum = 0\n",
    "for num in range(start,end):\n",
    "    sum = sum +num\n",
    "    \n",
    "print(\"The Answer is:\",sum)"
   ]
  },
  {
   "cell_type": "code",
   "execution_count": 4,
   "id": "ae377840",
   "metadata": {},
   "outputs": [
    {
     "name": "stdout",
     "output_type": "stream",
     "text": [
      "The product of the first 10 natural numbers is: 3628800\n"
     ]
    }
   ],
   "source": [
    "product = 1\n",
    "\n",
    "for i in range(1, 11):\n",
    "    sum += i\n",
    "    product *= i\n",
    "\n",
    "print(\"The product of the first 10 natural numbers is:\", product)"
   ]
  },
  {
   "cell_type": "code",
   "execution_count": 3,
   "id": "8b08acd7",
   "metadata": {},
   "outputs": [
    {
     "name": "stdout",
     "output_type": "stream",
     "text": [
      "The product of the first 10 natural numbers is: 3628800\n"
     ]
    }
   ],
   "source": [
    "\n",
    "product = 1\n",
    "i = 1\n",
    "while i <= 10:\n",
    "    product *= i\n",
    "    i += 1\n",
    "print(\"The product of the first 10 natural numbers is:\", product)"
   ]
  },
  {
   "cell_type": "code",
   "execution_count": null,
   "id": "da2c1cd4",
   "metadata": {},
   "outputs": [],
   "source": [
    "num = int(input(\"Enter a number: \")) \n",
    "if num < 0:\n",
    "   print(\"Please enter a positive number\")\n",
    "else:\n",
    "   sum = 0\n",
    "   \n",
    "\n",
    "   while(num > 0):\n",
    "       sum = sum + num\n",
    "       num =  num-1\n",
    "   print(\"The result is\", sum)"
   ]
  },
  {
   "cell_type": "code",
   "execution_count": null,
   "id": "fba36b08",
   "metadata": {},
   "outputs": [],
   "source": []
  },
  {
   "cell_type": "markdown",
   "id": "628045dc",
   "metadata": {},
   "source": [
    "Q3. Create a python program to compute the electricity bill for a household.\n",
    "\n",
    "The per-unit charges in rupees are as follows: For the first 100 units, the user will be charged Rs. 4.5 per\n",
    "unit, for the next 100 units, the user will be charged Rs. 6 per unit, and for the next 100 units, the user will\n",
    "be charged Rs. 10 per unit, After 300 units and above the user will be charged Rs. 20 per unit."
   ]
  },
  {
   "cell_type": "code",
   "execution_count": 15,
   "id": "44912015",
   "metadata": {},
   "outputs": [
    {
     "name": "stdout",
     "output_type": "stream",
     "text": [
      "Enter your Eunit Consuption this Month: 310\n"
     ]
    }
   ],
   "source": [
    "Unit = int(input(\"Enter your Eunit Consuption this Month: \"))"
   ]
  },
  {
   "cell_type": "code",
   "execution_count": 1,
   "id": "fb49035f",
   "metadata": {},
   "outputs": [
    {
     "name": "stdout",
     "output_type": "stream",
     "text": [
      "Enter your electric unit : 310\n",
      "your bill is Rs :  2250.0\n"
     ]
    }
   ],
   "source": [
    "unit =  int(input(\"Enter your electric unit : \"))\n",
    "if unit <=100:\n",
    "    rs1=unit*4.5\n",
    "    print(\"your bill is Rs : \", rs1)\n",
    "elif unit >100 and unit<=200:\n",
    "    rs2 = (100*4.5) + (unit - 100) * 6\n",
    "    print(\"your bill is Rs : \",rs2)\n",
    "elif unit > 200 and unit<=300:\n",
    "    rs3 = (100*4.5)+ (200-100)*6+(unit - 200)*10\n",
    "    print(\"your bill is Rs : \",rs3)\n",
    "elif unit>300:\n",
    "    rs4 = (100*4.5)+ (200-100)*6+(300 - 200)*10 + (unit - 300)*20\n",
    "    print(\"your bill is Rs : \",rs4)\n",
    "else:\n",
    "    print(\"please enter valid number\")"
   ]
  },
  {
   "cell_type": "markdown",
   "id": "9f2f4a7e",
   "metadata": {},
   "source": [
    "Q4. Create a list of numbers from 1 to 100. Use for loop and while loop to calculate the cube of each\n",
    "number and if the cube of that number is divisible by 4 or 5 then append that number in a list and print\n",
    "that list."
   ]
  },
  {
   "cell_type": "code",
   "execution_count": 5,
   "id": "cebb6712",
   "metadata": {},
   "outputs": [
    {
     "name": "stdout",
     "output_type": "stream",
     "text": [
      "[1, 2, 3, 4, 5, 6, 7, 8, 9, 10, 11, 12, 13, 14, 15, 16, 17, 18, 19, 20, 21, 22, 23, 24, 25, 26, 27, 28, 29, 30, 31, 32, 33, 34, 35, 36, 37, 38, 39, 40, 41, 42, 43, 44, 45, 46, 47, 48, 49, 50, 51, 52, 53, 54, 55, 56, 57, 58, 59, 60, 61, 62, 63, 64, 65, 66, 67, 68, 69, 70, 71, 72, 73, 74, 75, 76, 77, 78, 79, 80, 81, 82, 83, 84, 85, 86, 87, 88, 89, 90, 91, 92, 93, 94, 95, 96, 97, 98, 99, 100] "
     ]
    }
   ],
   "source": [
    "\n",
    "l1 = list(range(1,101))\n",
    "print(l1,end= \" \")"
   ]
  },
  {
   "cell_type": "code",
   "execution_count": 11,
   "id": "e19b224b",
   "metadata": {},
   "outputs": [
    {
     "name": "stdout",
     "output_type": "stream",
     "text": [
      "The Actual List is:  [1, 2, 3, 4, 5, 6, 7, 8, 9, 10, 11, 12, 13, 14, 15, 16, 17, 18, 19, 20, 21, 22, 23, 24, 25, 26, 27, 28, 29, 30, 31, 32, 33, 34, 35, 36, 37, 38, 39, 40, 41, 42, 43, 44, 45, 46, 47, 48, 49, 50, 51, 52, 53, 54, 55, 56, 57, 58, 59, 60, 61, 62, 63, 64, 65, 66, 67, 68, 69, 70, 71, 72, 73, 74, 75, 76, 77, 78, 79, 80, 81, 82, 83, 84, 85, 86, 87, 88, 89, 90, 91, 92, 93, 94, 95, 96, 97, 98, 99, 100]\n",
      "\n",
      "\n",
      "\n",
      "The list of cubes that are divisible by 4 or 5: [8, 64, 125, 216, 512, 1000, 1728, 2744, 3375, 4096, 5832, 8000, 10648, 13824, 15625, 17576, 21952, 27000, 32768, 39304, 42875, 46656, 54872, 64000, 74088, 85184, 91125, 97336, 110592, 125000, 140608, 157464, 166375, 175616, 195112, 216000, 238328, 262144, 274625, 287496, 314432, 343000, 373248, 405224, 421875, 438976, 474552, 512000, 551368, 592704, 614125, 636056, 681472, 729000, 778688, 830584, 857375, 884736, 941192, 1000000]\n"
     ]
    }
   ],
   "source": [
    "l1 = []\n",
    "Cube_l2 = []\n",
    "\n",
    "for i in range(1, 101):\n",
    "    l1.append(i)\n",
    "    cube = i ** 3\n",
    "    if cube % 4 == 0 or cube % 5 == 0:\n",
    "        Cube_l2.append(cube)\n",
    "print(\"The Actual List is: \",l1)\n",
    "print('''\n",
    "\n",
    "\n",
    "The list of cubes that are divisible by 4 or 5:''', Cube_l2)"
   ]
  },
  {
   "cell_type": "markdown",
   "id": "6edd6bfc",
   "metadata": {},
   "source": [
    "Q5. Write a program to filter count vowels in the below-given string.\n",
    "string = \"I want to become a data scientist\""
   ]
  },
  {
   "cell_type": "code",
   "execution_count": null,
   "id": "94db6973",
   "metadata": {},
   "outputs": [],
   "source": []
  },
  {
   "cell_type": "code",
   "execution_count": 3,
   "id": "3213836c",
   "metadata": {},
   "outputs": [
    {
     "name": "stdout",
     "output_type": "stream",
     "text": [
      "The number of vowels in the string is: 12\n"
     ]
    }
   ],
   "source": [
    "string = \"I want to become a data scientist\"\n",
    "vowels = \"aeiouAEIOU\"\n",
    "count = 0\n",
    "\n",
    "for char in string:\n",
    "    if char in vowels:\n",
    "        count += 1\n",
    "\n",
    "print(\"The number of vowels in the string is:\", count)"
   ]
  },
  {
   "cell_type": "code",
   "execution_count": null,
   "id": "f49eabce",
   "metadata": {},
   "outputs": [],
   "source": []
  }
 ],
 "metadata": {
  "kernelspec": {
   "display_name": "Python 3 (ipykernel)",
   "language": "python",
   "name": "python3"
  },
  "language_info": {
   "codemirror_mode": {
    "name": "ipython",
    "version": 3
   },
   "file_extension": ".py",
   "mimetype": "text/x-python",
   "name": "python",
   "nbconvert_exporter": "python",
   "pygments_lexer": "ipython3",
   "version": "3.9.13"
  }
 },
 "nbformat": 4,
 "nbformat_minor": 5
}
