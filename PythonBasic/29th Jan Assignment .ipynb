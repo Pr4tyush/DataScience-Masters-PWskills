{
 "cells": [
  {
   "cell_type": "markdown",
   "id": "0d5ccd67",
   "metadata": {},
   "source": [
    "1.Who Developed Python Language?\n"
   ]
  },
  {
   "cell_type": "markdown",
   "id": "b511cbcf",
   "metadata": {},
   "source": [
    "Guido van Rossum Developed Python Language"
   ]
  },
  {
   "cell_type": "markdown",
   "id": "357a362c",
   "metadata": {},
   "source": [
    "2 Which type of Programming does Python support?"
   ]
  },
  {
   "cell_type": "markdown",
   "id": "2a59623a",
   "metadata": {},
   "source": [
    "It is an Object Oriented Programming and a Structural Programming Language"
   ]
  },
  {
   "cell_type": "markdown",
   "id": "835f2a12",
   "metadata": {},
   "source": [
    "3  Is Python case sensitive when dealing with identifiers? "
   ]
  },
  {
   "cell_type": "markdown",
   "id": "0e9d6d72",
   "metadata": {},
   "source": [
    "Yes Python is A Case Sensitive Language anad it treats the UpperCase and LowerCase diffrently"
   ]
  },
  {
   "cell_type": "markdown",
   "id": "f2e501b7",
   "metadata": {},
   "source": [
    "4 What is the correct extension of the Python file?"
   ]
  },
  {
   "cell_type": "markdown",
   "id": "be9a746c",
   "metadata": {},
   "source": [
    ".py"
   ]
  },
  {
   "cell_type": "markdown",
   "id": "8e7200ca",
   "metadata": {},
   "source": [
    "5. Is Python code compiled or interpreted? "
   ]
  },
  {
   "cell_type": "markdown",
   "id": "669579c5",
   "metadata": {},
   "source": [
    "Ans Python is Interpreted Language"
   ]
  },
  {
   "cell_type": "markdown",
   "id": "de6e5b04",
   "metadata": {},
   "source": [
    "6. Name a few blocks of code used to define in Python language? "
   ]
  },
  {
   "cell_type": "markdown",
   "id": "9ca17c82",
   "metadata": {},
   "source": [
    "Indentations"
   ]
  },
  {
   "cell_type": "markdown",
   "id": "4b77ba76",
   "metadata": {},
   "source": [
    "7. State a character used to give single-line comments in Python? "
   ]
  },
  {
   "cell_type": "markdown",
   "id": "3055c38b",
   "metadata": {},
   "source": [
    " the \"#\" tag"
   ]
  },
  {
   "cell_type": "markdown",
   "id": "82edb238",
   "metadata": {},
   "source": [
    "8. Mention functions which can help us to find the version of python that we are currently working on? "
   ]
  },
  {
   "cell_type": "markdown",
   "id": "73a8e791",
   "metadata": {},
   "source": [
    "sys.version"
   ]
  },
  {
   "cell_type": "markdown",
   "id": "c6e65ce2",
   "metadata": {},
   "source": [
    "9 Python supports the creation of anonymous functions at runtime, using a construct called"
   ]
  },
  {
   "cell_type": "markdown",
   "id": "fe7b1770",
   "metadata": {},
   "source": [
    "Lambda function is used create Anonymous Function"
   ]
  },
  {
   "cell_type": "markdown",
   "id": "7c70ca49",
   "metadata": {},
   "source": [
    "10. What does pip stand for python? "
   ]
  },
  {
   "cell_type": "markdown",
   "id": "85700faf",
   "metadata": {},
   "source": [
    "Preffered Installation Programm"
   ]
  },
  {
   "cell_type": "markdown",
   "id": "be64b3aa",
   "metadata": {},
   "source": [
    "11. Mention a few built-in functions in python? \n"
   ]
  },
  {
   "cell_type": "markdown",
   "id": "3e790a1f",
   "metadata": {},
   "source": [
    "print(),type(),append(),extend(),pop(),push(),etc."
   ]
  },
  {
   "cell_type": "markdown",
   "id": "1ba01be8",
   "metadata": {},
   "source": [
    "12. What is the maximum possible length of an identifier in Python? "
   ]
  },
  {
   "cell_type": "markdown",
   "id": "392deca9",
   "metadata": {},
   "source": [
    "79 Characters is Maximum Length of identifier in Python"
   ]
  },
  {
   "cell_type": "markdown",
   "id": "092c54a7",
   "metadata": {},
   "source": [
    "13. What are the benefits of using Python? "
   ]
  },
  {
   "cell_type": "markdown",
   "id": "dd34fb44",
   "metadata": {},
   "source": [
    "Easy to learn ,Inbuilt Packages,Good for DataVisulization and many more."
   ]
  },
  {
   "cell_type": "markdown",
   "id": "d732527c",
   "metadata": {},
   "source": [
    "14. How is memory managed in Python? "
   ]
  },
  {
   "cell_type": "markdown",
   "id": "498ce159",
   "metadata": {},
   "source": [
    "Memory in Python is managed by Python private heap space. All Python objects and data structures are located in a private heap. This private heap is taken care of by Python Interpreter itself, and a programmer doesn't have access to this private heap."
   ]
  },
  {
   "cell_type": "markdown",
   "id": "2b138ff8",
   "metadata": {},
   "source": [
    "15. How to install Python on Windows and set path variables? 16. Is indentation required in python? \n"
   ]
  },
  {
   "cell_type": "markdown",
   "id": "b27925e9",
   "metadata": {},
   "source": [
    "There are several ways to install Python:\n",
    "    1.download Directly from Python.org\n",
    "    2.download from MSstore\n",
    "    3.download from cmd\n",
    "Yes indentation is Important in python specially in loop functions"
   ]
  },
  {
   "cell_type": "markdown",
   "id": "490b922c",
   "metadata": {},
   "source": [
    "16. Is indentation required in python?"
   ]
  },
  {
   "cell_type": "markdown",
   "id": "34c74b4a",
   "metadata": {},
   "source": [
    "Yes indentation is Important in python specially in loop functions"
   ]
  },
  {
   "cell_type": "code",
   "execution_count": null,
   "id": "8599bea0",
   "metadata": {},
   "outputs": [],
   "source": []
  }
 ],
 "metadata": {
  "kernelspec": {
   "display_name": "Python 3 (ipykernel)",
   "language": "python",
   "name": "python3"
  },
  "language_info": {
   "codemirror_mode": {
    "name": "ipython",
    "version": 3
   },
   "file_extension": ".py",
   "mimetype": "text/x-python",
   "name": "python",
   "nbconvert_exporter": "python",
   "pygments_lexer": "ipython3",
   "version": "3.9.13"
  }
 },
 "nbformat": 4,
 "nbformat_minor": 5
}
