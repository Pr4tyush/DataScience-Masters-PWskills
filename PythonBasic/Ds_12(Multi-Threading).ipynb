{
 "cells": [
  {
   "cell_type": "code",
   "execution_count": 1,
   "id": "feecb269",
   "metadata": {},
   "outputs": [],
   "source": [
    "import threading"
   ]
  },
  {
   "cell_type": "code",
   "execution_count": 5,
   "id": "7ea4fe9d",
   "metadata": {},
   "outputs": [],
   "source": [
    "def test(id):\n",
    "    print(\"Program start %d\"%id)"
   ]
  },
  {
   "cell_type": "code",
   "execution_count": 6,
   "id": "a6e73939",
   "metadata": {},
   "outputs": [
    {
     "name": "stdout",
     "output_type": "stream",
     "text": [
      "Program start 45\n"
     ]
    }
   ],
   "source": [
    "test(45)"
   ]
  },
  {
   "cell_type": "code",
   "execution_count": 11,
   "id": "72a481bd",
   "metadata": {},
   "outputs": [],
   "source": [
    "thread = [threading.Thread(target = test, args= (i,)) for i  in range(10)]"
   ]
  },
  {
   "cell_type": "code",
   "execution_count": 13,
   "id": "61ba1031",
   "metadata": {},
   "outputs": [
    {
     "name": "stdout",
     "output_type": "stream",
     "text": [
      "Program start 0\n",
      "Program start 1\n",
      "Program start 2\n",
      "Program start 3\n",
      "Program start 4\n",
      "Program start 5\n",
      "Program start 6\n",
      "Program start 7\n",
      "Program start 8\n",
      "Program start 9\n"
     ]
    }
   ],
   "source": [
    "for t in thread:\n",
    "    t.start()"
   ]
  },
  {
   "cell_type": "code",
   "execution_count": 15,
   "id": "714b7cbf",
   "metadata": {},
   "outputs": [
    {
     "data": {
      "text/plain": [
       "2960055550336"
      ]
     },
     "execution_count": 15,
     "metadata": {},
     "output_type": "execute_result"
    }
   ],
   "source": [
    "id(thread)"
   ]
  },
  {
   "cell_type": "markdown",
   "id": "587ae73b",
   "metadata": {},
   "source": [
    "#It will make 10 threads within single core"
   ]
  },
  {
   "cell_type": "code",
   "execution_count": 18,
   "id": "9d0cc43c",
   "metadata": {},
   "outputs": [],
   "source": [
    "import threading\n",
    "import urllib.request\n",
    "\n",
    "def file_download(url,filename):\n",
    "    urllib.request.urlretrieve(url,filename)"
   ]
  },
  {
   "cell_type": "code",
   "execution_count": 20,
   "id": "dabe1c74",
   "metadata": {},
   "outputs": [],
   "source": [
    "file_download(\"https://github.com/Pr4tyush/JavaDSA/blob/main/DSA%20Notes.docx\",\"text.docx\")"
   ]
  },
  {
   "cell_type": "code",
   "execution_count": 21,
   "id": "e9230e64",
   "metadata": {},
   "outputs": [],
   "source": [
    "#A file has been craeted or cloned through the github link"
   ]
  },
  {
   "cell_type": "code",
   "execution_count": 24,
   "id": "c8a75473",
   "metadata": {},
   "outputs": [],
   "source": [
    "url_list = [\"https://github.com/Pr4tyush/JavaDSA/blob/main/DSA%20Notes.docx\",\"https://github.com/Pr4tyush/JavaDSA/blob/main/DSA%20Notes.docx\",\"https://github.com/Pr4tyush/JavaDSA/blob/main/DSA%20Notes.docx\"]"
   ]
  },
  {
   "cell_type": "code",
   "execution_count": 25,
   "id": "c3d1ae54",
   "metadata": {},
   "outputs": [
    {
     "data": {
      "text/plain": [
       "['https://github.com/Pr4tyush/JavaDSA/blob/main/DSA%20Notes.docx',\n",
       " 'https://github.com/Pr4tyush/JavaDSA/blob/main/DSA%20Notes.docx',\n",
       " 'https://github.com/Pr4tyush/JavaDSA/blob/main/DSA%20Notes.docx']"
      ]
     },
     "execution_count": 25,
     "metadata": {},
     "output_type": "execute_result"
    }
   ],
   "source": [
    "url_list"
   ]
  },
  {
   "cell_type": "code",
   "execution_count": 26,
   "id": "f7e4bf74",
   "metadata": {},
   "outputs": [],
   "source": [
    "file_name_list = [\"data1.txt\",\"data2.txt\",\"data3.txt\"]"
   ]
  },
  {
   "cell_type": "code",
   "execution_count": 34,
   "id": "618584ab",
   "metadata": {},
   "outputs": [],
   "source": [
    "Thread1 = [threading.Thread(target = file_download,args = (url_list[i], file_name_list[i]))for i in range  (len(url_list))]"
   ]
  },
  {
   "cell_type": "code",
   "execution_count": 38,
   "id": "ba5ad7e5",
   "metadata": {},
   "outputs": [
    {
     "data": {
      "text/plain": [
       "[<Thread(Thread-25, initial)>,\n",
       " <Thread(Thread-26, initial)>,\n",
       " <Thread(Thread-27, initial)>]"
      ]
     },
     "execution_count": 38,
     "metadata": {},
     "output_type": "execute_result"
    }
   ],
   "source": [
    "Thread1"
   ]
  },
  {
   "cell_type": "code",
   "execution_count": 39,
   "id": "85abf7ec",
   "metadata": {},
   "outputs": [],
   "source": [
    "for t  in Thread1:\n",
    "    t.start()"
   ]
  },
  {
   "cell_type": "code",
   "execution_count": 41,
   "id": "fbf643af",
   "metadata": {},
   "outputs": [],
   "source": [
    "import time"
   ]
  },
  {
   "cell_type": "code",
   "execution_count": 61,
   "id": "8952306e",
   "metadata": {},
   "outputs": [],
   "source": [
    "def test1(id):\n",
    "    for i in range(10):\n",
    "        print(\"test1 %d printing %d\"%(id,i))\n",
    "        time.sleep(2) #it will takes 2 millisecond to recursion to program again"
   ]
  },
  {
   "cell_type": "code",
   "execution_count": 62,
   "id": "c83f82cf",
   "metadata": {},
   "outputs": [
    {
     "name": "stdout",
     "output_type": "stream",
     "text": [
      "test1 0 printing 0\n",
      "test1 0 printing 1\n",
      "test1 0 printing 2\n",
      "test1 0 printing 3\n",
      "test1 0 printing 4\n",
      "test1 0 printing 5\n",
      "test1 0 printing 6\n",
      "test1 0 printing 7\n",
      "test1 0 printing 8\n",
      "test1 0 printing 9\n"
     ]
    }
   ],
   "source": [
    "test1(0)"
   ]
  },
  {
   "cell_type": "code",
   "execution_count": 64,
   "id": "bf97ab25",
   "metadata": {},
   "outputs": [],
   "source": [
    "Thread2 = [threading.Thread(target = test1,args = {i,}) for i in range(3)]"
   ]
  },
  {
   "cell_type": "code",
   "execution_count": 65,
   "id": "807e0716",
   "metadata": {},
   "outputs": [
    {
     "name": "stdout",
     "output_type": "stream",
     "text": [
      "test1 0 printing 0\n",
      "test1 1 printing 0\n",
      "test1 2 printing 0\n",
      "test1 0 printing 1test1 1 printing 1\n",
      "test1 2 printing 1\n",
      "\n",
      "test1 0 printing 2test1 2 printing 2\n",
      "test1 1 printing 2\n",
      "\n",
      "test1 0 printing 3test1 1 printing 3\n",
      "test1 2 printing 3\n",
      "\n",
      "test1 0 printing 4test1 1 printing 4\n",
      "\n",
      "test1 2 printing 4\n",
      "test1 2 printing 5\n",
      "test1 1 printing 5\n",
      "test1 0 printing 5\n",
      "test1 2 printing 6\n",
      "test1 0 printing 6\n",
      "test1 1 printing 6\n",
      "test1 0 printing 7test1 1 printing 7\n",
      "test1 2 printing 7\n",
      "\n",
      "test1 0 printing 8test1 2 printing 8\n",
      "\n",
      "test1 1 printing 8\n",
      "test1 1 printing 9test1 0 printing 9\n",
      "test1 2 printing 9\n",
      "\n"
     ]
    }
   ],
   "source": [
    "for t in Thread2:\n",
    "    t.start()"
   ]
  },
  {
   "cell_type": "code",
   "execution_count": 59,
   "id": "49e4c44b",
   "metadata": {},
   "outputs": [],
   "source": [
    "def test1(id):\n",
    "    for i in range(10):\n",
    "        print(\"test1 %d printing %d %s\"%(id,i,time.ctime())) #now with \"ctime\" the process time also can obtain\n",
    "        time.sleep(2) #it will takes 2 millisecond to recursion to program again"
   ]
  },
  {
   "cell_type": "code",
   "execution_count": 60,
   "id": "2a822864",
   "metadata": {},
   "outputs": [
    {
     "name": "stdout",
     "output_type": "stream",
     "text": [
      "test1 1 printing 0 Tue Feb 14 23:10:28 2023\n",
      "test1 1 printing 1 Tue Feb 14 23:10:30 2023\n",
      "test1 1 printing 2 Tue Feb 14 23:10:32 2023\n",
      "test1 1 printing 3 Tue Feb 14 23:10:34 2023\n",
      "test1 1 printing 4 Tue Feb 14 23:10:36 2023\n",
      "test1 1 printing 5 Tue Feb 14 23:10:38 2023\n",
      "test1 1 printing 6 Tue Feb 14 23:10:40 2023\n",
      "test1 1 printing 7 Tue Feb 14 23:10:42 2023\n",
      "test1 1 printing 8 Tue Feb 14 23:10:44 2023\n",
      "test1 1 printing 9 Tue Feb 14 23:10:46 2023\n"
     ]
    }
   ],
   "source": [
    "test1(1)"
   ]
  },
  {
   "cell_type": "code",
   "execution_count": 66,
   "id": "cba65322",
   "metadata": {},
   "outputs": [],
   "source": [
    "shared_var = 0\n",
    "lock_var = threading.Lock()"
   ]
  },
  {
   "cell_type": "code",
   "execution_count": 67,
   "id": "bcf37d1e",
   "metadata": {},
   "outputs": [],
   "source": [
    "def test2(id):\n",
    "    global shared_var\n",
    "    with lock_var:\n",
    "        shared_var = shared_var+1\n",
    "        print(\"test2 id is %d has increased the shared variable by %d\"%(id,shared_var))\n",
    "        "
   ]
  },
  {
   "cell_type": "code",
   "execution_count": 69,
   "id": "dccb4c58",
   "metadata": {},
   "outputs": [],
   "source": [
    "Thread3 = [threading.Thread(target = test2,args = (id,)) for i in range(3)]"
   ]
  },
  {
   "cell_type": "code",
   "execution_count": 70,
   "id": "6eeffe6d",
   "metadata": {},
   "outputs": [
    {
     "data": {
      "text/plain": [
       "[<Thread(Thread-34, initial)>,\n",
       " <Thread(Thread-35, initial)>,\n",
       " <Thread(Thread-36, initial)>]"
      ]
     },
     "execution_count": 70,
     "metadata": {},
     "output_type": "execute_result"
    }
   ],
   "source": [
    "Thread3"
   ]
  },
  {
   "cell_type": "code",
   "execution_count": 71,
   "id": "41da9287",
   "metadata": {},
   "outputs": [
    {
     "name": "stderr",
     "output_type": "stream",
     "text": [
      "Exception in thread Thread-34:\n",
      "Traceback (most recent call last):\n",
      "  File \"C:\\Users\\admin\\AppData\\Local\\Programs\\Python\\Python39\\lib\\threading.py\", line 980, in _bootstrap_inner\n",
      "    self.run()\n",
      "  File \"C:\\Users\\admin\\AppData\\Local\\Programs\\Python\\Python39\\lib\\threading.py\", line 917, in run\n",
      "    self._target(*self._args, **self._kwargs)\n",
      "  File \"C:\\Users\\admin\\AppData\\Local\\Temp\\ipykernel_14660\\2082907957.py\", line 5, in test2\n",
      "TypeError: %d format: a number is required, not builtin_function_or_method\n",
      "Exception in thread Exception in thread Thread-36:\n",
      "Traceback (most recent call last):\n",
      "  File \"C:\\Users\\admin\\AppData\\Local\\Programs\\Python\\Python39\\lib\\threading.py\", line 980, in _bootstrap_inner\n",
      "Thread-35:\n",
      "Traceback (most recent call last):\n",
      "  File \"C:\\Users\\admin\\AppData\\Local\\Programs\\Python\\Python39\\lib\\threading.py\", line 980, in _bootstrap_inner\n",
      "    self.run()\n",
      "  File \"C:\\Users\\admin\\AppData\\Local\\Programs\\Python\\Python39\\lib\\threading.py\", line 917, in run\n",
      "    self.run()\n",
      "  File \"C:\\Users\\admin\\AppData\\Local\\Programs\\Python\\Python39\\lib\\threading.py\", line 917, in run\n",
      "    self._target(*self._args, **self._kwargs)\n",
      "  File \"C:\\Users\\admin\\AppData\\Local\\Temp\\ipykernel_14660\\2082907957.py\", line 5, in test2\n",
      "    self._target(*self._args, **self._kwargs)\n",
      "  File \"C:\\Users\\admin\\AppData\\Local\\Temp\\ipykernel_14660\\2082907957.py\", line 5, in test2\n",
      "TypeError: %d format: a number is required, not builtin_function_or_method\n",
      "TypeError: %d format: a number is required, not builtin_function_or_method\n"
     ]
    }
   ],
   "source": [
    "for t in Thread3:\n",
    "    t.start()"
   ]
  },
  {
   "cell_type": "code",
   "execution_count": null,
   "id": "b23cab9c",
   "metadata": {},
   "outputs": [],
   "source": []
  }
 ],
 "metadata": {
  "kernelspec": {
   "display_name": "Python 3 (ipykernel)",
   "language": "python",
   "name": "python3"
  },
  "language_info": {
   "codemirror_mode": {
    "name": "ipython",
    "version": 3
   },
   "file_extension": ".py",
   "mimetype": "text/x-python",
   "name": "python",
   "nbconvert_exporter": "python",
   "pygments_lexer": "ipython3",
   "version": "3.9.13"
  }
 },
 "nbformat": 4,
 "nbformat_minor": 5
}
